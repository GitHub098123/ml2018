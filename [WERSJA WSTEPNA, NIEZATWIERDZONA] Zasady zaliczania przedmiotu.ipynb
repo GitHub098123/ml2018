{
 "cells": [
  {
   "cell_type": "markdown",
   "metadata": {},
   "source": [
    "## Zasady zaliczenia przedmiotu - WERSJA WSTĘPNA, NIEZATWIERDZONA\n",
    "\n",
    "### Cel przedmiotu\n",
    "- zaznajomienie z podstawami Machine Learningu na przykładzie względnie prostych problemów i datasetów\n",
    "- zapoznanie z używaną w ML terminologią\n",
    "- zwrócenie uwagi na pewne ważne subtelności matematyczne pojawiające się w ML\n",
    "- przygotowanie do bardziej zaawansowanych kursów (Sieci Neuronowe, Deep Learning, Matematyczne Podstawy Uczenia Maszynowego itp.)\n",
    "- materiał wykładany na tym przedmiocie w dużym stopniu pokrywa się z anglojęzycznymi kursami dostępnymi online - osoby bardziej zaawansowane być może chcą zrezygnować z tego przedmiotu i zapisać się od razu na kursy specjalistyczne (np. Przetwarzanie grafiki i muzyki, Przetwarzanie języka naturalnego, Teoria informacji itp.)\n",
    "\n",
    "### Wymagania wstępne\n",
    "- programowanie w języku Python\n",
    "- podstawy rachunku prawdopodobieństwa\n",
    "- podstawy algebry liniowej\n",
    "- podstawy analizy matematycznej\n",
    "\n",
    "### Obecność na zajęciach\n",
    "- na wykładzie obecność jest nieobowiązkowa, jednakże materiał wyłożony na wykładzie obowiązuje na ćwiczeniach, a w szczególności dotyczy to znajomości i zrozumienia wzorów matematycznych; w trakcie ćwiczeń NIE będzie tłumaczony materiał z wykładu - wszystkie wątpliwości dotyczące materiału należy zgłaszać na bieżąco w trakcie trwania wykładu\n",
    "- na ćwiczeniach obecność jest obowiązkowa, student ma prawo do maksymalnie trzech nieusprawiedliwionych nieobecności - przekroczenie tego limitu skutkuje otrzymaniem oceny NZAL z ćwiczeń i niedopuszczeniem do egzaminu; osoby dołączające do zajęć w późniejszym terminie muszą liczyć się z faktem, że w ich przypadku dozwolona liczba nieusprawiedliwionych nieobecności na ćwiczeniach może zostać zmniejszona przez koordynatora przedmiotu\n",
    "- w szczególnych wypadkach koordynator przedmiotu może zwiększyć limit nieusprawiedliwionych nieobecności na ćwiczeniach, jednakże dotyczy to tylko studentów, którzy z ćwiczeń otrzymali minimum ocenę dst"
   ]
  },
  {
   "cell_type": "markdown",
   "metadata": {},
   "source": [
    "## Zasady oceniania\n",
    "\n",
    "### Ocena z ćwiczeń\n",
    "\n",
    "Podczas ćwiczeń studenci otrzymają do wykonania 12 zadań programistycznych. Każde zadania oceniane jest na 0 lub 1 punkt. Rozwiązania zadań muszą spełniać następujące kryteria:\n",
    "- kod musi być czytelny i zwięzły (w razie wątpliwości proszę stosować się do standardu PEP 8),\n",
    "- kod musi być przetestowany notebookami dołączonymi do zadania i poprawnie działać,\n",
    "- jeśli do zadania dodane są asserty, kod musi je przechodzić,\n",
    "- rozwiązanie musi zostać wysłane w terminie (grupa dra hab. Igora Podolaka: przez Pegaz, grupa Damiana Leśniaka: przez e-mail) - termin oddawania zadań to dwa dni przed kolejnymi zajęciami (grupa dra hab. Igora Podolaka: poniedziałek do godz. 23:59, grupa Damiana Leśniaka: niedziela do godz. 23:59)\n",
    "- na następnych zajęciach student może być poproszony o przedstawienie fragmentu lub całości rozwiązania i wytłumaczenie działania kodu.\n",
    "\n",
    "Niespełnienie któregokolwiek z powyższych podpunktów skutkuje otrzymaniem zera punktów za zadanie. Zadania rozwiązane z drobnymi niedociągnięciami mogą zostać warunkowo zaliczone. Zadania ocenione na zero punktów nie mogą być poprawiane w późniejszym terminie (m.in. ze względu na to, iż rozwiązania będą prezentowane na zajęciach).\n",
    "Osoby dołączające do zajęć w późniejszym terminie muszą liczyć się z faktem, iż nie mogą otrzymać punktów za zaległe zadania.\n",
    "\n",
    "Skala ocen z ćwiczeń\n",
    "* 0-5 punktów: ndst\n",
    "* 6-7 punktów: dst\n",
    "* 8-9 punktów: db\n",
    "* 10-12 punktów: bdb\n",
    "\n",
    "Termin wystawienia ocen z ćwiczeń: 28 stycznia 2018 roku.\n",
    "\n",
    "### Ocena końcowa\n",
    "\n",
    "Każdy student, który zaliczył ćwiczenia (WŁĄCZNIE ze studentami, którzy otrzymali ocenę ndst) ma prawo i obowiązek przystąpić do egzaminu pisemnego. Ocena końcowa z przedmiotu jest oceną łączną z ćwiczeń i egzaminu, obliczaną w następujący sposób:\n",
    "- za egzamin można otrzymać 0-100%\n",
    "- za pozytywną ocenę z ćwiczeń student otrzymuje dodatkowe % (takie same w pierwszym i drugim terminie egzaminu):\n",
    "    - za dst: +10%\n",
    "    - za db: +20%\n",
    "    - za bdb: +40%\n",
    "- łącznie można więc uzyskać od 0% do 140%\n",
    "\n",
    "Procenty przekładają się na ocenę końcową w następujący sposób:\n",
    "- < 50%: ndst\n",
    "- < 60%: dst\n",
    "- < 70%: dst+\n",
    "- < 80%: db\n",
    "- < 90%: db+\n",
    "- \\>= 90%: bdb\n",
    "\n",
    "Powyższe zasady oceniania NIE ULEGNĄ ZMIANIE w trakcie semestru, ani na korzyść, ani na niekorzyść studentów.\n",
    "\n",
    "Termin wystawienia ocen z przedmiotu:\n",
    "- 10 lutego 2018 r. - dla osób, które zdały przedmiot w pierwszym terminie,\n",
    "- 23 lutego 2018 r. - dla pozostałych.\n",
    "\n",
    "Egzamin końcowy w pierwszym terminie przeprowadzony będzie w formie pisemnej. Będą się na niego składały pytania jednokrotnego wyboru, wielokrotnego wyboru i otwarte.\n",
    "Egzamin w drugim terminie będzie przeprowadzony w formie ustnej lub pisemnej - w zależności od liczby studentów, która do niego przystąpi.\n",
    "\n",
    "Terminy egzaminów zostaną ustalone w styczniu 2018 r."
   ]
  },
  {
   "cell_type": "markdown",
   "metadata": {},
   "source": [
    "## Dodatkowe uwagi dot. zasad oceniania\n",
    "\n",
    "Pytania egzaminacyjne będzie można podzielić na trzy kategorie:\n",
    "- sprawdzające znajomość wykładu (wiedza teoretyczna) - około 30-50%\n",
    "- sprawdzające znajomość materiału związanego bezpośrednio z zadaniami z ćwiczeń (wiedza teoretyczno-praktyczna) - około 30-50%\n",
    "- sprawdzające dogłębne zrozumienie materiału (pytania trudne i podchwytliwe) - około 20%\n",
    "\n",
    "W związku z tym osoba, która systematycznie pracowała na ćwiczeniach przez cały rok najprawdopodobniej nawet bez przygotowania do egzaminu otrzyma ocenę końcową na poziomie db (40% z ćwiczeń + około 40% z egzaminu). Natomiast osoba, która nie otrzymała oceny pozytywnej z ćwiczeń najprawdopodobniej otrzyma ocenę końcową na poziomie dst pod warunkiem, że bardzo solidnie zrozumie materiał z wykładu i ćwiczeń. Praktyka pokazuje jednak, że aby w ogóle zdać ten przedmiot, najbezpieczniej mieć przynajmniej ocenę db z ćwiczeń.\n"
   ]
  },
  {
   "cell_type": "markdown",
   "metadata": {},
   "source": [
    "## Samodzielna praca\n",
    "\n",
    "Celem przedmiotu jest przede wszystkim przygotowanie studentów do dalszej działalności w dziedzinie Machine Learning. W związku z tym zachęcamy studentów do:\n",
    "- (oczywiście) aktywnego uczestnictwa w zajęciach,\n",
    "- korzystania z wyznaczonych przez nas terminów konsultacji,\n",
    "- dyskutowania między sobą na temat wykładów i ćwiczeń oraz zadawanych zadań,\n",
    "- odwiedzania Koła Naukowego Robotyki i Sztucznej Inteligencji.\n",
    "\n",
    "Jednakże aby ocena z przedmiotu wystawiona została sprawiedliwie, część pracy musi zostać wykonana samodzielnie przez studenta. Aby uniknąć nieporozumień w przyszłości, proszę bardzo dokładnie zapoznać się z poniższymi zasadami.\n",
    "\n",
    "1. Dyskusja na temat zadawanych zadań może dotyczyć jedynie ogólnej postaci algorytmu. Prosimy w miarę możliwości zadawać pytania dotyczące zadań na ćwiczeniach.\n",
    "2. Jeśli studenci dyskutują między sobą (w mniejszej grupie) na temat zadań i tematyka dyskusji istotnie przekracza materiał wyłożony na wykładzie lub ćwiczeniach, student ma obowiązek zamieścić krótkie podsumowanie dyskusji na forum Pegaz.\n",
    "3. Niedozwolone jest:\n",
    "    - wspólne rozwiązywanie zadań programistycznych,\n",
    "    - udostępnianie innym studentom rozwiązania zadania w formie szczegółowego (krok po kroku) opisu algorytmu lub kodu,\n",
    "    - posługiwanie się notatkami w trakcie trwania egzaminu końcowego, \"ściąganie\".\n",
    "\n",
    "Każdy student, który stwierdzi naruszenie powyższych zasad, ma obowiązek poinformować o tym koordynatora przedmiotu.\n",
    "\n",
    "W zależności od skali przewinienia kary za złamanie powyższych zasad to:\n",
    "- bezwarunkowe obniżenie oceny końcowej z przedmiotu,\n",
    "- bezwarunkowe NZAL z całego przedmiotu,\n",
    "- postępowanie dyscyplinarne."
   ]
  }
 ],
 "metadata": {
  "kernelspec": {
   "display_name": "Python 3",
   "language": "python",
   "name": "python3"
  },
  "language_info": {
   "codemirror_mode": {
    "name": "ipython",
    "version": 3
   },
   "file_extension": ".py",
   "mimetype": "text/x-python",
   "name": "python",
   "nbconvert_exporter": "python",
   "pygments_lexer": "ipython3",
   "version": "3.6.1"
  }
 },
 "nbformat": 4,
 "nbformat_minor": 2
}
