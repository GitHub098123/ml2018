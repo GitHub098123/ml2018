{
 "cells": [
  {
   "cell_type": "markdown",
   "metadata": {
    "slideshow": {
     "slide_type": "slide"
    }
   },
   "source": [
    "---\n",
    "<big><big><big><big><big><big>Metody uczenia maszynowego</big></big></big></big></big></big>\n",
    "\n",
    "---"
   ]
  },
  {
   "cell_type": "markdown",
   "metadata": {
    "slideshow": {
     "slide_type": "subslide"
    }
   },
   "source": [
    "---\n",
    "<big><big><big><big><big>Wybór najlepszego modelu</big></big></big></big></big>\n",
    "\n",
    "---"
   ]
  },
  {
   "cell_type": "markdown",
   "metadata": {
    "slideshow": {
     "slide_type": "slide"
    }
   },
   "source": [
    "---\n",
    "\n",
    "<id=tocheading><big><big><big><big>Spis treści</big></big></big></big>\n",
    "<div id=\"toc\"></div>\n",
    "\n",
    "---"
   ]
  },
  {
   "cell_type": "code",
   "execution_count": 1,
   "metadata": {
    "slideshow": {
     "slide_type": "skip"
    }
   },
   "outputs": [
    {
     "data": {
      "application/javascript": [
       "$.getScript('https://kmahelona.github.io/ipython_notebook_goodies/ipython_notebook_toc.js')"
      ],
      "text/plain": [
       "<IPython.core.display.Javascript object>"
      ]
     },
     "metadata": {},
     "output_type": "display_data"
    }
   ],
   "source": [
    "%%javascript\n",
    "$.getScript('https://kmahelona.github.io/ipython_notebook_goodies/ipython_notebook_toc.js')"
   ]
  },
  {
   "cell_type": "code",
   "execution_count": 2,
   "metadata": {
    "collapsed": true,
    "slideshow": {
     "slide_type": "skip"
    }
   },
   "outputs": [],
   "source": [
    "# -*- coding: utf-8 -*-\n",
    "\n",
    "import numpy as np\n",
    "import pandas as pd\n",
    "\n",
    "%matplotlib inline\n",
    "import matplotlib.pyplot as plt\n",
    "import seaborn as sns\n",
    "from mpl_toolkits.mplot3d import Axes3D\n",
    "from matplotlib import cm\n",
    "from matplotlib.ticker import LinearLocator, FormatStrFormatter\n",
    "\n",
    "plt.style.use(\"fivethirtyeight\")\n",
    "\n",
    "from bokeh.io import gridplot, output_file, show\n",
    "from bokeh.plotting import figure, output_notebook\n",
    "from bkcharts import Scatter\n",
    "\n",
    "from itertools import combinations"
   ]
  },
  {
   "cell_type": "code",
   "execution_count": 3,
   "metadata": {
    "slideshow": {
     "slide_type": "skip"
    }
   },
   "outputs": [
    {
     "data": {
      "text/html": [
       "\n",
       "    <div class=\"bk-root\">\n",
       "        <a href=\"https://bokeh.pydata.org\" target=\"_blank\" class=\"bk-logo bk-logo-small bk-logo-notebook\"></a>\n",
       "        <span id=\"69128f83-154e-4f39-894c-db4b954b6b9a\">Loading BokehJS ...</span>\n",
       "    </div>"
      ]
     },
     "metadata": {},
     "output_type": "display_data"
    },
    {
     "data": {
      "application/javascript": [
       "\n",
       "(function(root) {\n",
       "  function now() {\n",
       "    return new Date();\n",
       "  }\n",
       "\n",
       "  var force = true;\n",
       "\n",
       "  if (typeof (root._bokeh_onload_callbacks) === \"undefined\" || force === true) {\n",
       "    root._bokeh_onload_callbacks = [];\n",
       "    root._bokeh_is_loading = undefined;\n",
       "  }\n",
       "\n",
       "\n",
       "  \n",
       "  if (typeof (root._bokeh_timeout) === \"undefined\" || force === true) {\n",
       "    root._bokeh_timeout = Date.now() + 5000;\n",
       "    root._bokeh_failed_load = false;\n",
       "  }\n",
       "\n",
       "  var NB_LOAD_WARNING = {'data': {'text/html':\n",
       "     \"<div style='background-color: #fdd'>\\n\"+\n",
       "     \"<p>\\n\"+\n",
       "     \"BokehJS does not appear to have successfully loaded. If loading BokehJS from CDN, this \\n\"+\n",
       "     \"may be due to a slow or bad network connection. Possible fixes:\\n\"+\n",
       "     \"</p>\\n\"+\n",
       "     \"<ul>\\n\"+\n",
       "     \"<li>re-rerun `output_notebook()` to attempt to load from CDN again, or</li>\\n\"+\n",
       "     \"<li>use INLINE resources instead, as so:</li>\\n\"+\n",
       "     \"</ul>\\n\"+\n",
       "     \"<code>\\n\"+\n",
       "     \"from bokeh.resources import INLINE\\n\"+\n",
       "     \"output_notebook(resources=INLINE)\\n\"+\n",
       "     \"</code>\\n\"+\n",
       "     \"</div>\"}};\n",
       "\n",
       "  function display_loaded() {\n",
       "    if (root.Bokeh !== undefined) {\n",
       "      var el = document.getElementById(\"69128f83-154e-4f39-894c-db4b954b6b9a\");\n",
       "      if (el != null) {\n",
       "        el.textContent = \"BokehJS \" + Bokeh.version + \" successfully loaded.\";\n",
       "      }\n",
       "    } else if (Date.now() < root._bokeh_timeout) {\n",
       "      setTimeout(display_loaded, 100)\n",
       "    }\n",
       "  }\n",
       "\n",
       "\n",
       "  function run_callbacks() {\n",
       "    try {\n",
       "      root._bokeh_onload_callbacks.forEach(function(callback) { callback() });\n",
       "    }\n",
       "    finally {\n",
       "      delete root._bokeh_onload_callbacks\n",
       "    }\n",
       "    console.info(\"Bokeh: all callbacks have finished\");\n",
       "  }\n",
       "\n",
       "  function load_libs(js_urls, callback) {\n",
       "    root._bokeh_onload_callbacks.push(callback);\n",
       "    if (root._bokeh_is_loading > 0) {\n",
       "      console.log(\"Bokeh: BokehJS is being loaded, scheduling callback at\", now());\n",
       "      return null;\n",
       "    }\n",
       "    if (js_urls == null || js_urls.length === 0) {\n",
       "      run_callbacks();\n",
       "      return null;\n",
       "    }\n",
       "    console.log(\"Bokeh: BokehJS not loaded, scheduling load and callback at\", now());\n",
       "    root._bokeh_is_loading = js_urls.length;\n",
       "    for (var i = 0; i < js_urls.length; i++) {\n",
       "      var url = js_urls[i];\n",
       "      var s = document.createElement('script');\n",
       "      s.src = url;\n",
       "      s.async = false;\n",
       "      s.onreadystatechange = s.onload = function() {\n",
       "        root._bokeh_is_loading--;\n",
       "        if (root._bokeh_is_loading === 0) {\n",
       "          console.log(\"Bokeh: all BokehJS libraries loaded\");\n",
       "          run_callbacks()\n",
       "        }\n",
       "      };\n",
       "      s.onerror = function() {\n",
       "        console.warn(\"failed to load library \" + url);\n",
       "      };\n",
       "      console.log(\"Bokeh: injecting script tag for BokehJS library: \", url);\n",
       "      document.getElementsByTagName(\"head\")[0].appendChild(s);\n",
       "    }\n",
       "  };var element = document.getElementById(\"69128f83-154e-4f39-894c-db4b954b6b9a\");\n",
       "  if (element == null) {\n",
       "    console.log(\"Bokeh: ERROR: autoload.js configured with elementid '69128f83-154e-4f39-894c-db4b954b6b9a' but no matching script tag was found. \")\n",
       "    return false;\n",
       "  }\n",
       "\n",
       "  var js_urls = [\"https://cdn.pydata.org/bokeh/release/bokeh-0.12.7.min.js\", \"https://cdn.pydata.org/bokeh/release/bokeh-widgets-0.12.7.min.js\", \"https://cdn.pydata.org/bokeh/release/bokeh-tables-0.12.7.min.js\", \"https://cdn.pydata.org/bokeh/release/bokeh-gl-0.12.7.min.js\"];\n",
       "\n",
       "  var inline_js = [\n",
       "    function(Bokeh) {\n",
       "      Bokeh.set_log_level(\"info\");\n",
       "    },\n",
       "    \n",
       "    function(Bokeh) {\n",
       "      \n",
       "    },\n",
       "    \n",
       "    function(Bokeh) {\n",
       "      \n",
       "      document.getElementById(\"69128f83-154e-4f39-894c-db4b954b6b9a\").textContent = \"BokehJS is loading...\";\n",
       "    },\n",
       "    function(Bokeh) {\n",
       "      console.log(\"Bokeh: injecting CSS: https://cdn.pydata.org/bokeh/release/bokeh-0.12.7.min.css\");\n",
       "      Bokeh.embed.inject_css(\"https://cdn.pydata.org/bokeh/release/bokeh-0.12.7.min.css\");\n",
       "      console.log(\"Bokeh: injecting CSS: https://cdn.pydata.org/bokeh/release/bokeh-widgets-0.12.7.min.css\");\n",
       "      Bokeh.embed.inject_css(\"https://cdn.pydata.org/bokeh/release/bokeh-widgets-0.12.7.min.css\");\n",
       "      console.log(\"Bokeh: injecting CSS: https://cdn.pydata.org/bokeh/release/bokeh-tables-0.12.7.min.css\");\n",
       "      Bokeh.embed.inject_css(\"https://cdn.pydata.org/bokeh/release/bokeh-tables-0.12.7.min.css\");\n",
       "    }\n",
       "  ];\n",
       "\n",
       "  function run_inline_js() {\n",
       "    \n",
       "    if ((root.Bokeh !== undefined) || (force === true)) {\n",
       "      for (var i = 0; i < inline_js.length; i++) {\n",
       "        inline_js[i].call(root, root.Bokeh);\n",
       "      }if (force === true) {\n",
       "        display_loaded();\n",
       "      }} else if (Date.now() < root._bokeh_timeout) {\n",
       "      setTimeout(run_inline_js, 100);\n",
       "    } else if (!root._bokeh_failed_load) {\n",
       "      console.log(\"Bokeh: BokehJS failed to load within specified timeout.\");\n",
       "      root._bokeh_failed_load = true;\n",
       "    } else if (force !== true) {\n",
       "      var cell = $(document.getElementById(\"69128f83-154e-4f39-894c-db4b954b6b9a\")).parents('.cell').data().cell;\n",
       "      cell.output_area.append_execute_result(NB_LOAD_WARNING)\n",
       "    }\n",
       "\n",
       "  }\n",
       "\n",
       "  if (root._bokeh_is_loading === 0) {\n",
       "    console.log(\"Bokeh: BokehJS loaded, going straight to plotting\");\n",
       "    run_inline_js();\n",
       "  } else {\n",
       "    load_libs(js_urls, function() {\n",
       "      console.log(\"Bokeh: BokehJS plotting callback run at\", now());\n",
       "      run_inline_js();\n",
       "    });\n",
       "  }\n",
       "}(window));"
      ]
     },
     "metadata": {},
     "output_type": "display_data"
    }
   ],
   "source": [
    "output_notebook()\n",
    "sns.set(font_scale=2.0)"
   ]
  },
  {
   "cell_type": "markdown",
   "metadata": {
    "slideshow": {
     "slide_type": "skip"
    }
   },
   "source": [
    "Image inclusion\n",
    "<img src=\"../mum_figures/\" width=\"100%\">"
   ]
  },
  {
   "cell_type": "code",
   "execution_count": 4,
   "metadata": {
    "collapsed": true,
    "slideshow": {
     "slide_type": "skip"
    }
   },
   "outputs": [],
   "source": [
    "from sklearn.model_selection import StratifiedKFold, KFold, train_test_split\n",
    "from sklearn.datasets import load_svmlight_file\n",
    "from sklearn.metrics import roc_auc_score, f1_score, accuracy_score\n",
    "from sklearn.metrics import classification_report, matthews_corrcoef, confusion_matrix\n",
    "from sklearn import preprocessing"
   ]
  },
  {
   "cell_type": "code",
   "execution_count": 5,
   "metadata": {
    "collapsed": true,
    "slideshow": {
     "slide_type": "skip"
    }
   },
   "outputs": [],
   "source": [
    "from sklearn.datasets import load_boston, load_diabetes, load_linnerud, make_regression, make_s_curve\n",
    "from sklearn.datasets import make_friedman1, make_friedman2, make_friedman3, make_sparse_uncorrelated\n",
    "from sklearn.linear_model import LinearRegression, SGDRegressor\n",
    "from sklearn.model_selection import cross_val_predict, KFold, StratifiedKFold\n",
    "from sklearn.utils import resample\n",
    "from sklearn.metrics import accuracy_score, mean_squared_error"
   ]
  },
  {
   "cell_type": "code",
   "execution_count": 6,
   "metadata": {
    "collapsed": true,
    "slideshow": {
     "slide_type": "skip"
    }
   },
   "outputs": [],
   "source": [
    "from astroML.datasets import fetch_imaging_sample\n",
    "from sklearn.preprocessing import PolynomialFeatures\n",
    "from astroML.cosmology import Cosmology\n",
    "from astroML.datasets import generate_mu_z"
   ]
  },
  {
   "cell_type": "markdown",
   "metadata": {
    "slideshow": {
     "slide_type": "slide"
    }
   },
   "source": [
    "# Błąd testujący i bład uczenia\n",
    "\n",
    "1. __Generalizacja__ określa jak jakość predykcji na danych __nie używanych__ w trakcie uczenia\n",
    "  * jak określać jakość modeli?\n",
    "  * jak porównywać modele?\n",
    "  * jak wybrać najlepszy model dla problemu?\n",
    "    * typ modelu i jego parametrów\n",
    "  * jak oceniać końcowy błąd?\n",
    "  * oceniać złożoność modelu?\n",
    "    \n",
    "2. __funkcja kosztu__ (__loss function__) jest miarą błędu jaki model popełnia\n",
    "  * np. funkcja kwadratowa $$L(Y, \\hat{f}(X)) = (Y-\\hat{f}(X))^2$$\n",
    "  * funkcja $\\widehat{f}$ nauczona na danych __trenujących__\n",
    "    * funkcja kwadratowa w zadaniu regresji, ale możliwy inny wybór\n",
    "  * dla klasyfikacji wiele opcji"
   ]
  },
  {
   "cell_type": "markdown",
   "metadata": {
    "collapsed": true,
    "slideshow": {
     "slide_type": "subslide"
    }
   },
   "source": [
    "3. błąd __testujący__ (albo __generalizacji__) to błąd predykcji modelu (nauczonego na zbiorze $\\mathcal{T}$) na __ustalonej niezależnej__ próbce danych \n",
    "$$Err_\\mathcal{T}=E[L(Y, \\widehat{f}(X))\\mid\\mathcal{T}]$$\n",
    "\n",
    "4. __oczekiwany błąd predykcji__ to $$Err=E[L(Y, \\hat{f}(X))]=E[Err_\\mathcal{T}]$$\n",
    "  * wartość oczekiwana po __wszelkich__ zbiorach uczących (a wobec tego po wszelkich $\\hat{f}$) i zbiorach testujących\n",
    "  * potrzebna odpowiednia procedura dla estymocji $Err$ i wyboru minimalizującego go modelu\n",
    "\n",
    "5. błąd __uczenia__ to średni koszt dla zbioru uczącego $$err=\\frac{1}{N}\\sum_i L(Y, \\widehat{f}(X))$$\n",
    "  * błąd trenujący __nie jest__ dobrym przybliżeniem błędu predykcji!\n",
    "  \n",
    "6. podobnie dla innych rodzajów błędów\n",
    "  \n",
    "7. typowym problemem jest __brak danych__\n",
    "  * jesli danych jest bardzo dużo, to można rozdzielić dane na \n",
    "    1. __uczące__: dla nauczania\n",
    "    2. __walidujące__: dla wyboru optymalnych parametrów\n",
    "    3. __testujące__: dla sprawdzania błędu generalizacji\n",
    "  * inaczej gdy danych jest mało"
   ]
  },
  {
   "cell_type": "markdown",
   "metadata": {
    "slideshow": {
     "slide_type": "slide"
    }
   },
   "source": [
    "## Podział błędu na odchylenie i wariancję (bias-variance decomposition)\n",
    "\n",
    "1. dane z procesu pomiaru i są obarczone __nieusuwalnym błędem__ $\\epsilon$ $$y_i=f(x_i)+\\epsilon$$\n",
    "  * prawdziwa (true) funkcja $f$ jest nieznana\n",
    "  * o błędzie można założyć, że $E[\\epsilon]=0$ oraz $E[\\epsilon^2]=\\sigma^2$\n",
    "  \n",
    "2. niech $L(\\theta)$ __kwadratowa__\n",
    "$$\\begin{align}\n",
    "Err(x)&=E[L(Y, \\widehat{f}(X))|X=x]=E[(y-\\widehat{f}(x))^2]\\\\\n",
    "%&=E[(f(x)+\\epsilon-\\hat{f}(x))^2]=E[(f(x)-\\hat{f}(x)+\\epsilon)^2]\\\\\n",
    "%&=E[(f(x)-\\hat{f}(x))^2]+E[2\\epsilon(f(x)-\\hat{f}(x))]+E[\\epsilon^2]&\\text{błąd $\\epsilon$ jest nieskorelowany z błędem predykcji}\\\\\n",
    "%&=E[(f(x)-\\hat{f}(x))^2]+E[\\epsilon^2]\\\\\n",
    "%\\\\\n",
    "%&=E\\left[\\left(f(x)-E[\\hat{f}(x)]+E[\\hat{f}(x)]-\\hat{f}(x)\\right)^2\\right]+E\\left[\\epsilon^2\\right]\\\\\n",
    "%\\\\\n",
    "%&=E\\left[\\left(f(x)-E[\\hat{f}(x)]\\right)^2\\right]\\\\\n",
    "%&+E\\left[\\left(f(x)-E[\\hat{f}(x)]\\right)\\left(E[\\hat{f}(x)]-\\hat{f}(x)\\right)\\right]&\\text{błedy są znowu nieskorelowane}\\\\\n",
    "%&+E\\left[\\left(E[\\hat{f}(x)]-\\hat{f}(x)\\right)^2\\right]+E\\left[\\epsilon^2\\right]\\\\\n",
    "%\\\\\n",
    "&=\\underbrace{E\\left[\\left(f(x)-E[\\widehat{f}(x)]\\right)^2\\right]}_{\\text{bias}^2}\n",
    "+\\underbrace{E\\left[\\left(E[\\widehat{f}(x)]-\\widehat{f}(x)\\right)^2\\right]}_{\\text{wariancja modelu}}\n",
    "+\\underbrace{E\\left[\\epsilon^2\\right]}_{\\text{szum danych}}\n",
    "\\end{align}$$\n",
    "\n",
    "  * __bias$^2$__: suma kwadratów różnic między wartością prawdziwej funkcji $f()$ a wartością __oczekiwaną__ estymacji,\n",
    "  * __wariancja__: (czasem __błąd estymacji__) używając \n",
    "    * różnych zbiorów uczących, różnych parametrów modelu, \n",
    "    * różnych punktów startu (w algorytmach iteracyjnych)\n",
    "  możemy dostać różne dofitowania modelu, a modele będą miały pewną wariancję wokół wartości średniej\n",
    "  * __szum danych__: jest niezależny od procesu uczenia; zwykle jest to biały szum"
   ]
  },
  {
   "cell_type": "markdown",
   "metadata": {
    "slideshow": {
     "slide_type": "subslide"
    }
   },
   "source": [
    "3. rozkład błędu pozwala na wyciągnięcie wniosków o uczeniu\n",
    "  * oczekujemy, że model będzie __maksymalnie prosty__\n",
    "    * wtedy jednak możliwy wysoki bias, gdy model jest __prostszy__ od rzeczywistych danych (estymacja wielomiany prostą)\n",
    "    * bias można zredukować przez zwiększenie przestrzeni dostępnych funkcji\n",
    "    * modele w których bias przeważa często \"__underfitują__\"\n",
    "      * zwykle na początku uczenia model jest zwykle bardzo prosty, ma duży błąd a bias przeważa nad wariancję\n",
    "      * proste modele: wysoki bias i niska wariancja\n",
    "  * jednocześnie chcemy, by model dobrze się __dostosowywał__\n",
    "    * wtedy może mieć wysoką wariancję\n",
    "      * podczas procesu uczenia  model coraz lepiej dostosowuje się, bias i błąd spadają\n",
    "      * błąd dla zbioru trenującego stale maleje\n",
    "      * jednak wariancja (dla różnych modeli) __zaczyna wzrastać__ i nie ma pewności czy model bedzie dobrze generalizował\n",
    "      * modele z przewagą wariancji często __overfitowują__\n",
    "      * modele z ograniczoną przestrzenią funkcji (np. ridge, lasso) dają niską wariancję\n",
    "      * złożony model: niski bias i wysoka wariancja"
   ]
  },
  {
   "cell_type": "markdown",
   "metadata": {
    "slideshow": {
     "slide_type": "subslide"
    }
   },
   "source": [
    "4. rozwiązania?\n",
    "  * uczenie __przerwać nim__ osiągnie minimalny błąd\n",
    "    * metoda wczesnego zatrzymywania (early stopping)\n",
    "    * kontrola za pomocą zbioru walidacyjnego\n",
    "    * metoda walidacji krzyżowej\n",
    "\n",
    "5. analogiczne rozumowanie dla innych funkcji kosztu nie jest oczywiste\n",
    "  * Domingos zaproponował ostatnio rozwinięcie do zero-jedynkowej funkcji kosztu"
   ]
  },
  {
   "cell_type": "code",
   "execution_count": 16,
   "metadata": {
    "collapsed": true,
    "slideshow": {
     "slide_type": "slide"
    }
   },
   "outputs": [],
   "source": [
    "def bootstrap_linear_approximations(models=10, n_samples=100, noise=0.5):\n",
    "    X = np.random.uniform(-5, +5, [n_samples, 1])\n",
    "    t0 = 0.25; t1 = 0.02; t2 = 0.04; t3 = 0.04\n",
    "    y_true =  (0.25 + t1 * X + t2 * X**2 + t3 * X**3).reshape((n_samples,))\n",
    "    if noise > 0.:\n",
    "        y = y_true + np.random.normal(scale=noise, size=len(y_true))\n",
    "    else:\n",
    "        y = y_true\n",
    "    y_noise = np.sum((y - y_true) ** 2) / n_samples\n",
    "    \n",
    "    fig, ax = plt.subplots(figsize=(12, 10))\n",
    "    xmin, xmax = min(X), max(X)\n",
    "    ymin, ymax = min(y), max(y)\n",
    "    x_range = np.linspace(xmin, xmax, 100)\n",
    "    ax.plot(X, y, 'r*')\n",
    "    ax.plot(X, y_true, 'g*')\n",
    "    ax.grid()\n",
    "    ax.set_xlim(xmin, xmax)\n",
    "    ax.set_ylim(ymin, ymax)\n",
    "    \n",
    "    theta = np.zeros((models, 2))\n",
    "    predicted_all = np.zeros((models, len(y)))\n",
    "    print('\\tnoise\\t  variance\\t  bias\\t\\t  mse\\n{}'.format('-' * 70))\n",
    "    for k in range(models):\n",
    "        X_train, y_train = resample(X, y)\n",
    "        clr = LinearRegression()\n",
    "        clr.fit(X_train, y_train)\n",
    "        predicted = clr.predict(X)\n",
    "        predicted_all[k, :] = predicted\n",
    "        theta_fit = [np.mean(predicted), clr.coef_]\n",
    "        ax.plot(x_range, x_range * theta_fit[1] + theta_fit[0], lw=1)\n",
    "        theta[k, :] = theta_fit\n",
    "        y_fit_mean = np.mean(predicted)\n",
    "        var = np.sum((y - y_fit_mean) ** 2) / n_samples\n",
    "        bias_squared = np.sum((y_true - y_fit_mean) ** 2) / n_samples\n",
    "        mse = y_noise + var + bias_squared\n",
    "        err = np.sum((y - predicted) ** 2) / n_samples\n",
    "        \n",
    "    theta_mean = np.mean(theta, 0)\n",
    "    ax.plot(x_range, x_range * theta_mean[1] + theta_mean[0], 'k-', lw=5)\n",
    "    # teraz liczymy oczekiwana wartosc obliczonej funkcji\n",
    "    y_ens_fit = np.mean(predicted_all, 0)\n",
    "    y_ens_fit_mean = np.mean(y_ens_fit)\n",
    "    var = 0\n",
    "    for m in range(models):\n",
    "        var = np.sum((y_ens_fit - predicted_all[m, ]) ** 2)\n",
    "    var /=  models * n_samples ** 2\n",
    "    # var = np.sum((y_ens_fit - y_ens_fit_mean) ** 2) / (n_samples ** 2)\n",
    "    bias_squared = np.sum((y_true - y_ens_fit) ** 2) / n_samples\n",
    "    mse = y_noise + var + bias_squared\n",
    "    err = np.sum((y_true - y_ens_fit) ** 2) / n_samples\n",
    "    print('{}: \\t{:.5f}\\t+ {:.5f}\\t+ {:.5f}\\t= {:.5f}'.format('ens', y_noise, var, \n",
    "                                                              bias_squared, mse))\n",
    "    \n",
    "    compute_ensembles = True\n",
    "    if compute_ensembles:\n",
    "        max_models = 100\n",
    "        for k in range(1, models):\n",
    "            comb = np.array([c for c in combinations(range(models), k)])\n",
    "            # select max_models indices\n",
    "            ind = list(np.random.choice(len(comb), min(max_models, len(comb))))\n",
    "            var_ens = 0\n",
    "            bias_squared_ens = 0\n",
    "            mse_ens = 0\n",
    "            for q in ind:\n",
    "                p = comb[q]\n",
    "                y_ens_fit = np.mean(predicted_all[p, ], 0)\n",
    "                y_ens_fit_mean = np.mean(y_ens_fit)\n",
    "                var = 0\n",
    "                for m in p:\n",
    "                    var = np.sum((y_ens_fit - predicted_all[m, ]) ** 2)\n",
    "                var /=  len(p) * n_samples ** 2\n",
    "                var_ens += var / len(p)\n",
    "                bias_squared = np.sum((y_true - y_ens_fit) ** 2) / n_samples\n",
    "                bias_squared_ens += bias_squared / len(p)\n",
    "            comb = None\n",
    "            var_ens /= len(ind)\n",
    "            bias_squared_ens /= len(ind)\n",
    "            mse = y_noise + var_ens + bias_squared_ens\n",
    "            print('{}:{}: \\t{:.5f}\\t+ {:.5f}\\t+ {:.5f}\\t= {:.5f}'.format('e', k, y_noise, var_ens, \n",
    "                                                         bias_squared_ens, mse))\n",
    "    comb = None"
   ]
  },
  {
   "cell_type": "code",
   "execution_count": 17,
   "metadata": {
    "scrolled": false,
    "slideshow": {
     "slide_type": "subslide"
    }
   },
   "outputs": [
    {
     "name": "stdout",
     "output_type": "stream",
     "text": [
      "\tnoise\t  variance\t  bias\t\t  mse\n",
      "----------------------------------------------------------------------\n",
      "ens: \t0.14133\t+ 0.00000\t+ 0.64157\t= 0.78290\n",
      "e:1: \t0.14133\t+ 0.00000\t+ 0.65849\t= 0.79982\n",
      "e:2: \t0.14133\t+ 0.00001\t+ 0.32488\t= 0.46622\n",
      "e:3: \t0.14133\t+ 0.00001\t+ 0.21502\t= 0.35635\n",
      "e:4: \t0.14133\t+ 0.00000\t+ 0.16115\t= 0.30248\n",
      "e:5: \t0.14133\t+ 0.00000\t+ 0.12876\t= 0.27008\n",
      "e:6: \t0.14133\t+ 0.00000\t+ 0.10728\t= 0.24860\n",
      "e:7: \t0.14133\t+ 0.00000\t+ 0.09182\t= 0.23315\n",
      "e:8: \t0.14133\t+ 0.00000\t+ 0.08035\t= 0.22168\n",
      "e:9: \t0.14133\t+ 0.00000\t+ 0.07140\t= 0.21272\n",
      "e:10: \t0.14133\t+ 0.00000\t+ 0.06424\t= 0.20556\n",
      "e:11: \t0.14133\t+ 0.00000\t+ 0.05840\t= 0.19972\n",
      "e:12: \t0.14133\t+ 0.00000\t+ 0.05351\t= 0.19484\n",
      "e:13: \t0.14133\t+ 0.00000\t+ 0.04939\t= 0.19072\n",
      "e:14: \t0.14133\t+ 0.00000\t+ 0.04587\t= 0.18719\n",
      "e:15: \t0.14133\t+ 0.00000\t+ 0.04279\t= 0.18412\n",
      "e:16: \t0.14133\t+ 0.00000\t+ 0.04011\t= 0.18144\n",
      "e:17: \t0.14133\t+ 0.00000\t+ 0.03775\t= 0.17908\n",
      "e:18: \t0.14133\t+ 0.00000\t+ 0.03565\t= 0.17698\n",
      "e:19: \t0.14133\t+ 0.00000\t+ 0.03378\t= 0.17510\n",
      "e:20: \t0.14133\t+ 0.00000\t+ 0.03208\t= 0.17341\n",
      "e:21: \t0.14133\t+ 0.00000\t+ 0.03057\t= 0.17189\n",
      "e:22: \t0.14133\t+ 0.00000\t+ 0.02917\t= 0.17049\n",
      "e:23: \t0.14133\t+ 0.00000\t+ 0.02789\t= 0.16922\n",
      "e:24: \t0.14133\t+ 0.00000\t+ 0.02674\t= 0.16806\n"
     ]
    },
    {
     "data": {
      "image/png": "[encoded data removed]",
      "text/plain": [
       "<matplotlib.figure.Figure at 0x10edf8ef0>"
      ]
     },
     "metadata": {},
     "output_type": "display_data"
    }
   ],
   "source": [
    "bootstrap_linear_approximations(models=25, n_samples=150, noise=0.35)"
   ]
  },
  {
   "cell_type": "markdown",
   "metadata": {
    "slideshow": {
     "slide_type": "slide"
    }
   },
   "source": [
    "## Bias-wariancja dla modelu k-najbliższych sąsiadów\n",
    "\n",
    "1. model liniowy\n",
    "$$\\begin{align}\n",
    "Err(x)&=\\underbrace{E\\left[\\left(f(x)-E[\\hat{f}(x)]\\right)^2\\right]}_{\\text{bias}^2}\n",
    "+\\underbrace{E\\left[\\left(E[\\hat{f}(x)]-\\hat{f}(x)\\right)^2\\right]}_{\\text{wariancja modelu}}\n",
    "+\\underbrace{E\\left[\\epsilon^2\\right]}_{\\text{szum danych}}\n",
    "\\end{align}$$\n",
    "\n",
    "2. model k-najbliższych sąsiadów\n",
    "$$ \n",
    "Err(x_0)=\\underbrace{\\left[f(x_0)-\\frac{1}{k}\\sum_{p=1}^k{f}(x_{(p)})\\right]^2}_{\\text{bias}^2}\n",
    "+\\underbrace{\\frac{\\sigma_{\\epsilon}^2}{k}}_{\\text{wariancja modelu}}\n",
    "+\\underbrace{\\sigma^2}_{\\text{szum danych}}\n",
    "$$\n",
    "  * przykłady uczące $x$ są ustalone\n",
    "  * złożoność modelu __w odwrotnej relacji__ do liczby sąsiadów _k_\n",
    "  * wraz ze __wzrostem _k___ \n",
    "    * kwadrat różnicy między prawdziwą $f(x_0)$ a średnią z _k_-najbliższych sąsiadów $(f(x_0)-\\frac{1}{k}\\sum_{x'\\in{}N_k}f(x'))^2$ __rośnie__ (czyli rośnie bias) \n",
    "    * wariancja maleje"
   ]
  },
  {
   "cell_type": "markdown",
   "metadata": {
    "slideshow": {
     "slide_type": "slide"
    }
   },
   "source": [
    "<img src=\"../mum_figures/bias_variance_decomposition.png\" width=\"80%\"/> [rysunek: Hastie et al.]"
   ]
  },
  {
   "cell_type": "markdown",
   "metadata": {
    "slideshow": {
     "slide_type": "slide"
    }
   },
   "source": [
    "<img src=\"../mum_figures/bias_variance_tradeoff.png\" width=\"80%\" /> [rysunek: Hastie et al.]"
   ]
  },
  {
   "cell_type": "markdown",
   "metadata": {
    "collapsed": true,
    "slideshow": {
     "slide_type": "notes"
    }
   },
   "source": [
    "1. bias (zielony), wariancja niebieski), całkowity błąd (pomarańczowy)\n",
    "2. w regresji (górny wiersz) bias i wariancja __dodają się__ dając całkowity błąd\n",
    "3. w klasyfikacji\n",
    "  * bias i wariancja są takie same jak w regresji\n",
    "  * błąd predykcji __nie jest__ już sumą wariancji i biasu\n",
    "    * niech prawdopodobieństwo danej klasy wynosi $0.85$ a wartość estymacji $0.55$\n",
    "    * wartość biasu $(0.85-0.55)^2$ ma jednak w dalszym ciągu dużą wartość\n",
    "    * predykcja jednak wciąż prawidłowa a błąd predykcji zerowy!\n",
    "4. rozwiązania dla problemów regresji i predykcji są dramatycznie różne!"
   ]
  },
  {
   "cell_type": "markdown",
   "metadata": {
    "slideshow": {
     "slide_type": "slide"
    }
   },
   "source": [
    "# Wybór (selection) i ocena (assessment) modelu\n",
    "* problem braku danych\n",
    "* podział danych\n",
    "* ocena modelu niemożliwa na danych uczących"
   ]
  },
  {
   "cell_type": "markdown",
   "metadata": {
    "slideshow": {
     "slide_type": "slide"
    }
   },
   "source": [
    "## Walidacja krzyżowa\n",
    "\n",
    "1. danych zwykle brakuje, \n",
    "  * jeśli jest dużo, to podzielić na zbiory __uczący__, __walidujący__ i __testujący__\n",
    "2. jak wykorzystać wszystkie dane do uczenia pozostawiając sobie dane do testowania???"
   ]
  },
  {
   "cell_type": "markdown",
   "metadata": {
    "slideshow": {
     "slide_type": "subslide"
    }
   },
   "source": [
    "3. __walidacja krzyżowa__\n",
    "  1. podzielić dane na __K__ części\n",
    "    * zwykle K = 3, 5, 10\n",
    "    * podział __losowy__\n",
    "    * dla klasyfikacji często __stratyfikacja__\n",
    "      * zapewnienie równego prior klas w każdym fragmencie\n",
    "  2. powtórzyć K-krotnie \n",
    "    * nauczyć model na $K-1$ częściach\n",
    "    * ocenić rozwiązanie na pozostałej części\n",
    "  3. końcowy błąd walidacji krzyżowej\n",
    "  $$\\boxed{CV(\\widehat{f})=\\frac{1}{N}\\sum_{i=1}^NL(y_i, \\widehat{f}^{-k(i)}(x_i))\\;}$$\n",
    "  gdzie $\\widehat{f}^{-k(i)}(x_i)$ jest wartością dla tego modelu, w którym przykład $x_i$ __nie był__ przykładem uczącym"
   ]
  },
  {
   "cell_type": "markdown",
   "metadata": {
    "collapsed": true,
    "slideshow": {
     "slide_type": "subslide"
    }
   },
   "source": [
    "4. dla $K=N$ to metoda __leave_one_out__\n",
    "    * ta estymacja ma dużą wariancję ze względu na podobieństwo przykładów       \n",
    "    * kosztowne obliczeniowo\n",
    "  * dla niskiego K wariancja będzie niska\n",
    "    * wysoki bias modeli gdy $K$ zbyt małe\n",
    "    * niskie K powoduje zwykle przecenianie błędu generalizacji\n",
    "    * wysokie K daje wysoką wariancję\n",
    "    \n",
    "5. K=10 wydaje się dobrym rozwiązaniem"
   ]
  },
  {
   "cell_type": "markdown",
   "metadata": {
    "slideshow": {
     "slide_type": "subslide"
    }
   },
   "source": [
    "### Problemy z walidacją krzyżową\n",
    "1. problem: zbudować najlepszy model dla zrównoważonego problemu klasyfikacji\n",
    "  \n",
    "2. podejście pierwsze (za Hastie et al.)\n",
    "  1. dla całego zbioru wybrać podzbiór zmiennych niezależnych o najwyższej korelacji z wyjściowymi etykietami\n",
    "  2. używając tych zmiennych zbudować klasyfikator\n",
    "  3, korzystając z walidacji krzyżowej określić parametry i ocenić model\n",
    "3. podejście drugie\n",
    "  1. podział danych na K foldów\n",
    "  2. dla każdych K-1 foldów wybieramy zmienne niezależne o najwyższej korelacji ze zmienną zależną dla tych K-1 foldów\n",
    "  3. budujemy klasyfikator z tych zmiennych dla przykładów z tych K-1 foldów\n",
    "  4. oceniamy predykcję na pozostałym K-tym foldzie\n",
    "   \n",
    "4. które podejście jest prawidłowe?\n",
    "5. co może być niepoprawne w drugim podejściu?"
   ]
  },
  {
   "cell_type": "markdown",
   "metadata": {
    "slideshow": {
     "slide_type": "fragment"
    }
   },
   "source": [
    "* K-ty fold musi być odłożony __przed__ jakimikolwiek operacjami w sposób __niezwiązany__ z etykietami\n",
    "* ten błąd jest popełniany bardzo często w artykułach naukowych\n",
    "  * autorzy często, czasem nieświadomie, dokonuje wstępnej selekcji cech i przykładów co wpływa na wyniki!"
   ]
  },
  {
   "cell_type": "markdown",
   "metadata": {
    "slideshow": {
     "slide_type": "slide"
    }
   },
   "source": [
    "## Bootstrap\n",
    "1. __bootstrap__ (Efron) to uogólnienie walidacji krzyżowej\n",
    "  1. B-krotnie wylosować __z powtórzeniami__ próbkę uczącą $Z^b=\\{(x_i,y_i)\\},\\hskip1em b=1,\\dots,B$\n",
    "    * zwykle B=100\n",
    "  2. model uczony ponownie dla zbioru Z\n",
    "  3. wyliczyć estymację oczekiwanego błędu generalizacji\n",
    "  $$\\widehat{Err}=\\frac{1}{B}\\frac{1}{N}\\sum_{b=1}^B\\sum_{i=1}^NL(y_i, \\widehat{f}^{*b}(x_i)),$$ gdzie $\\widehat{f}^{*b}(x_i)$ jest wartością modelu dla b-tego zbioru bootstrap dla $x_i$\n",
    "  "
   ]
  },
  {
   "cell_type": "markdown",
   "metadata": {
    "slideshow": {
     "slide_type": "subslide"
    }
   },
   "source": [
    "2. to procedura __zbyt optymistyczna__\n",
    "  * zbiory uczący i testujące przecinają się i predykcje __nadmiernie dopasowują się__ (overfitting)\n",
    "  * jakie jest prawdopodobieństwo, że $i$-ta obserwacja będzie w $b$-tym zbiorze bootstrap? \n",
    "  $$\\begin{align}P(i; b)&=1-P(-i;b)=1-\\left(1-\\frac{1}{N}\\right)^N\\\\\n",
    "  &\\approx 1-e^{-1}\\approx0.632\\end{align}$$\n",
    "  * stąd wartość oczekiwana (dla binarnego problemu) $E[\\widehat{Err}]=0.5\\times(1-0.632)=0.184$\n",
    "    * to znacznie bardziej optymistyczna wartość niż oczekiwane $0.5$!\n",
    "3. bootstrap powinien działać __podobnie__ do walidacji krzyżowej\n",
    "  * dla każdego przykładu lista indeksów $C^{-i}$ zbiorów $Z^b$ w których przykład i-ty __nie__ występował\n",
    "    $$\\boxed{\n",
    "    \\widehat{Err}^{(1)}=\\frac{1}{N}\\sum_{i=1}^N\\frac{1}{|C^{-i}|}\\sum_{b\\in C^{-i}}L\\left(y_i, \\widehat{f}^{*b}(x_i)\\right)\n",
    "    \\;}$$\n",
    "    * B powinno być na tyle duże, by każdy przykład chociaż raz __nie__ występował w zbiorze uczącym"
   ]
  },
  {
   "cell_type": "markdown",
   "metadata": {
    "slideshow": {
     "slide_type": "subslide"
    }
   },
   "source": [
    "4. liczba __różnych__ przykładów w każdym $Z^b$ rzędu $0.632N$\n",
    "  * zbiór jest ___mały___ w stosunku do całego i może mieć duży bias\n",
    "  * przypomina walidację krzyżową z __dwoma__ foldami i __pesymistycznym__ błędem\n",
    "  * stąd poprawka statystyczna\n",
    "  $$\\boxed{\n",
    "  \\widehat{Err}^{(0.632)}=0.368\\times\\overline{err}+0.632\\times \\widehat{Err}^{(1)}\n",
    "  ,\\;}$$\n",
    "    * gdzie $\\overline{err}$ błędem na zbiorze trenującym\n",
    "    * może działać słabo w sytuacjach __nadmiernego__ dopasowania\n",
    "    * istnieją dodatkowe rozszerzenia bootstrap\n",
    "\n",
    "5. bootstrap bywa kosztowne obliczeniowo \n",
    "  * dużą liczbę modeli do znalezienia\n",
    "  * kosztowniejsze modele do obliczenia\n",
    "  * jednak estymacja oczekiwanej predykcji jest lepsza niż ta walidacji krzyżowej\n",
    "    * lepiej statystycznie uzasadniony\n",
    "6. zarówno walidacja krzyżowa jak i bootstrap są nadmiernie optymistyczne"
   ]
  },
  {
   "cell_type": "markdown",
   "metadata": {
    "slideshow": {
     "slide_type": "slide"
    }
   },
   "source": [
    "# A jak znaleźć najlepszy model?\n",
    "\n",
    "1. mamy zbiór modeli z danej rodziny\n",
    "2. dostępny zestaw zbiorów uczących z pewnej rodziny, np. dla zastosowania\n",
    "3. zmienne są architektura modeli, parametry i ich liczba\n",
    "4. potrzebujemy określić jak algorytmy z tej rodziny radzą sobie z zadanymi problemami"
   ]
  },
  {
   "cell_type": "markdown",
   "metadata": {
    "slideshow": {
     "slide_type": "subslide"
    }
   },
   "source": [
    "## Procedura podwójnej (zagnieżdżonej) walidacji krzyżowej\n",
    "1. podziel zbiór uczący na K foldów\n",
    "2. for k=1,...,K\n",
    "  1. podziel K-1 foldów poza k-tym na P foldów\n",
    "    * zwykle K=P\n",
    "  2. for p=1,...,P\n",
    "     1. naucz każdy z ustalonych modeli na P-1 foldach poza p-tym\n",
    "       * architektury, układy parametrów, funkcje bazowe, pruning, etc. \n",
    "     2. oceń każdy model na p-tym foldzie\n",
    "  3. wybierz najlepszy model w wewnętrznej petli(z najlepszą statystyką CV) \n",
    "    * lub kilka najlepszych modeli\n",
    "  4. oceń wybrany model n k-tym foldzie\n",
    "3. wylicz końcowe statystyki walidacji krzyżowej"
   ]
  },
  {
   "cell_type": "markdown",
   "metadata": {
    "collapsed": true,
    "slideshow": {
     "slide_type": "subslide"
    }
   },
   "source": [
    "4. podwójna walidacja krzyżowa __pozwala dobierać__ hiperparametry rozwiązania\n",
    "  * __wewnętrzna__ pętla odpowiada __walidacji__ i wyszukiwaniu najlepszych hiperparametrów\n",
    "  * __zewnętrzna__ pozwala ocenić __generalizację__\n",
    "  * w niezagnieżdżonej walidacji krzyżowej te same dane mogą służyć do wyboru hiperparametrów jak i oceny generalizacji\n",
    "    * to powoduje ___wyciekanie___ danych\n",
    "  * różnica między wartościami wewnętrznej/zewnętrznej pętli może wskazywwać na ewentualny overfitting\n",
    "5. procedura kosztowna i czasochłonna"
   ]
  },
  {
   "cell_type": "markdown",
   "metadata": {
    "slideshow": {
     "slide_type": "subslide"
    }
   },
   "source": [
    "## Wielokrotna zagnieżdżona walidacja krzyżowa\n",
    "<img src=\"../mum_figures/repeated_cross_validation.png\" width=\"100%\">\n",
    "1. procedura powtórzona wielokrotnie, zwykle 100 ok. razy\n",
    "2. każde powtórzenie z __innym początkowym podziałem__\n",
    "  * podział wpływa na wybór hiperparametrów\n",
    "3. lepsza estymacja zmienności"
   ]
  },
  {
   "cell_type": "markdown",
   "metadata": {
    "slideshow": {
     "slide_type": "slide"
    }
   },
   "source": [
    "# Ocena jakości modelu\n",
    "\n",
    "1. po uczeniu określić __jakość__ na ile dobrze model minimalizuje błędy\n",
    "  * w uczeniu minimalizowana jest __funkcja celu__ \n",
    "  * później jednak potrzebna jest inna miara __poprawności__ modelu\n",
    "    * dobroci, skuteczności, ...\n",
    "  * ocenia jak dobrze przybliżane są przykłady ze zbioru danych, \n",
    "    * to __zwykle nie jest__ bezpośrednia wartość funkcji celu\n",
    "2. __minimalizacja danej funkcji celu _niekoniecznie_ minimalizuje także inną funkcję jakości__\n",
    "      "
   ]
  },
  {
   "cell_type": "markdown",
   "metadata": {
    "slideshow": {
     "slide_type": "subslide"
    }
   },
   "source": [
    "## Funkcje oceniające (score functions) dla problemów regresji\n",
    "1. __średni błąd kwadratowy__ $$MSE(y, \\widehat{y})=\\frac{1}{N}\\sum_{i=1}^N(y_i-\\widehat{y}_i)^2$$\n",
    "  * MSE przyjmuje dowolne dodatnie wartości\n",
    "  * jest bezpośrednio minimalizowana przez model używający kwadratowej funkcji kosztu\n",
    "  * tzw. __outliers__ mają duży wpływ na jej wartość\n",
    "  \n",
    "2. __średni błąd bezwzględny__ $$MAE(y, \\widehat{y})=\\frac{1}{N}\\sum_{i=1}^N|y_i-\\widehat{y}_i|$$\n",
    "  * bezpośrednio minimalizowany przez sieci z funkcją kosztu $L_1$\n",
    "    * rzadziej wykorzystywane ze względu na nieciągłość pochodnej $L_1$\n",
    "      * zwykle obsługiwane programistycznie\n",
    "  * redukuje wpływ outliers  \n",
    "  "
   ]
  },
  {
   "cell_type": "markdown",
   "metadata": {
    "slideshow": {
     "slide_type": "subslide"
    }
   },
   "source": [
    "3. __bezwzględny błąd mediany__ $$MedAE(y,\\widehat{y})=median(\\{|y_i-\\widehat{y}_i|\\}_{i=1}^N)$$\n",
    "  * szczególnie odporny na outliers\n",
    "    \n",
    "4. __miara $R^2$__ $$R^2(y,\\widehat{y})=1-\\frac{\\sum_i(y_i-\\widehat{y}_i)^2}{\\sum_i(y_i-\\overline{y})^2},$$\n",
    "gdzie $\\overline{y}_i$ jest __średnią__ prawdziwych wyjściowych wartości\n",
    "  * $R^2$ odpowiada __współczynnikowi uwarunkowania__\n",
    "  * ocenia na ile dobrze przyszłe przykłady będą przybliżane\n",
    "  * model przybliżający idalnie ma wartość $R^2=1$\n",
    "  * model zwracający zawsze wartość oczekiwaną ma $R^2=0$\n",
    "    * ten model __nie zwraca__ uwagi na atrybuty wejściowe\n",
    "  * modele jeszcze słabsze mogą mieć wartości $R^2$ ujemne\n",
    "  * $R^2$ pozwala częściowo porównywać różne modele, także na różnicy danych, co jest trudne dla regresji\n",
    "  \n",
    "5. __miara tłumacząca przez wariancję__ $$ev(y,\\widehat{y})=1-\\frac{var\\{y-\\widehat{y}\\}}{var\\{y\\}}$$\n",
    "  * najlepszy model ma wartość $1.0$"
   ]
  },
  {
   "cell_type": "markdown",
   "metadata": {
    "slideshow": {
     "slide_type": "subslide"
    }
   },
   "source": [
    "## Funkcje oceniające dla problemów klasyfikacji\n",
    "1. __accuracy__ $$acc(y,\\widehat{y})=\\frac{1}{N}\\sum_i1(\\widehat{y}_i=y_i)$$\n",
    "  * właściwie ułamek przykładów poprawnie zaklasyfikowanych, stąd $acc\\in[0,1]$\n",
    "  * odpowiada zero-jedynkowej funkcji kosztu\n",
    "  * podobnie __miara Hamminga__ zwraca frakcję źle przewidzianych etykiet\n",
    "  * __miara Jaccarda__ zwraca frakcję identycznie etykietowanych przez liczność etykiet\n",
    "  * nie jest różniczkowalna\n",
    "    * trudniej minimalizowana bezpośrednio\n",
    "    * możliwa minimalizacja w modelach uczenia przez wzmocnienie\n",
    "  \n",
    "2. __macierz pomyłek (_confusion matrix_)__\n",
    "  * macierz $K\\times K$ opisuje błędne przypisania przykładów z prawdziwej klasy $i$ do innej klasy $j$\n",
    "  * idealna jest przekątniowa\n",
    "  * elementy macierzy mogą być liczbą bądź frakcją przypisań\n",
    "  * pozwala na analizę działania algorytmu\n",
    "    * jeśli liczności klas są niezrównoważone, \n",
    "      * to bardziej ogólne miary ukrywają niezrównoważenie \n",
    "      * macierz pomyłek pozwala znaleźć specyficzne zachowania\n",
    "    "
   ]
  },
  {
   "cell_type": "markdown",
   "metadata": {
    "slideshow": {
     "slide_type": "subslide"
    }
   },
   "source": [
    "3. __entropia krzyżowa__ $$H(y,\\widehat{y})=-\\sum_iy_i\\ln(\\widehat{y}_i)+(1-y_i)\\ln(1-\\widehat{y}_i)$$\n",
    "  * zwane też __log loss__ (logarytm __naturalny__)\n",
    "  * dla $N$ przykładów i $K$ klas entropia krzyżowa bedzie miała postać $$H(y,\\widehat{y})=-\\frac{1}{N}\\sum_i^N\\sum_k^Ky_{ik}log\\widehat{y}_{ik}$$\n",
    "  * $\\hat{y}_i$ jest estymowanym prawdopodobieństwem, że $y_i=1$\n",
    "  * bezpośrednio minimalizowalna funkcja kosztu\n",
    "  \n",
    "4. __hinge loss__ $$L_{hinge}(y,\\widehat{y})=\\max\\{1-y\\widehat{y}, 0\\}$$"
   ]
  },
  {
   "cell_type": "markdown",
   "metadata": {
    "slideshow": {
     "slide_type": "subslide"
    }
   },
   "source": [
    "## Pojęcia false positives, false negatives i pochodne\n",
    "1. w wielu problemach klasyfikacji (szczególnie binarnej) __błędy__ mogą być różnych typów:\n",
    "  * __FALSE POSITIVE__ polegające na wykryciu danej cechy, gdy w rzeczysitości ta tam jej __nie ma__\n",
    "  * __FALSE NEGATIVE__ polegające na __nie wykryciu__ cechy, gdy ona jest\n",
    "  * uzupełniające stany to __TRUE POSITIVE__ i __TRUE NEGATIVE__\n",
    "  * niektóre błędy są w oczywisty sposób bardziej kosztowne\n",
    "  * jeśli dana cecha występuje __bardzo rzadko__, to prosty klasyfikator __nigdy__ jej nie wykryje __wciąż osiągająć wysoką dokładność__ (accuracy)!  \n",
    "2. __accuracy__ $$ACC=\\frac{TP+TN}{TP+TN+FP+FN}$$\n",
    "3. __specificity__ $$specificity=\\frac{TN}{TN+FP}$$\n",
    "  * frakcja negatywnych poprawnie rozpoznanych\n",
    "  * frakcja poprawnego wykrycia braku cechy tam gdzie jej nie ma\n",
    "  * $1-specificity = \\frac{FP}{FP+TN}$ to __false positive rate FPR__ czyli frakcja niepoprawnego wykrycia cechy wśród przypadków gdzie jej nie ma "
   ]
  },
  {
   "cell_type": "markdown",
   "metadata": {
    "slideshow": {
     "slide_type": "slide"
    }
   },
   "source": [
    "4. __sensitivity (recall)__ (czułość, true positive rate, completness)\n",
    "$$sensitivity=\\frac{TP}{TP+FN}$$\n",
    "  * frakcja rozpoznanych przykładów, które są zgodne z zapytanienm\n",
    "  * frakcja poprawnego wykrycia cechy tam gdzie ona jest\n",
    "  * $1-sensitivity=\\frac{FN}{TP+FN}$ to __false negative rate FNR__ czyli frakcja niepoprawnego niewykrycia cechy wśród przypadków, gdzie ona jest\n",
    "5. __precyzja__ (precision) \n",
    "$$\\text{precision}=\\frac{\\text{true positives}} {\\text{true positives}+\\text{false positives}}$$\n",
    "  * frakcja przykładów zgodnych z zapytaniem, które zostały rozpoznane"
   ]
  },
  {
   "cell_type": "markdown",
   "metadata": {
    "slideshow": {
     "slide_type": "subslide"
    }
   },
   "source": [
    "<img src=\"../mum_figures/precision_recall.png\" width=\"58%\"/> [rysunek za Wikipedia]"
   ]
  },
  {
   "cell_type": "markdown",
   "metadata": {
    "slideshow": {
     "slide_type": "subslide"
    }
   },
   "source": [
    "wykres recall (sensitivity) względem (1 - specitivity)\n",
    "<img src=\"../mum_figures/ROC_space.png\" width=\"75%\"/>\n",
    "[By ROC_space.png: Indonderivative work: Kai walz (talk) - ROC_space.png, CC BY-SA 3.0, https://commons.wikimedia.org/w/index.php?curid=8326140]"
   ]
  },
  {
   "cell_type": "markdown",
   "metadata": {
    "slideshow": {
     "slide_type": "subslide"
    }
   },
   "source": [
    "<img src=\"../mum_figures/ROC_errtypes.png\" width=\"100%\"/>\n",
    "[By kakau - Selbstgepinselt mit PowerPoint, CC BY-SA 3.0, https://commons.wikimedia.org/w/index.php?curid=10657501]"
   ]
  },
  {
   "cell_type": "markdown",
   "metadata": {
    "slideshow": {
     "slide_type": "subslide"
    }
   },
   "source": [
    "6. pozwala łatwo wprowadzić pojęcie kosztu pomyłki\n",
    "  * system medyczny przewiduje, czy osoba jest chora na chorobę X\n",
    "    * __false positive__ błędna predykcja, że osoba __jest__ chora\n",
    "    * __false negative__ błędna predykcja, że osoba __nie jest__ chora\n",
    "    * błąd typu __false negative__ niesie za sobą znacznie groźniejsze skutki!\n",
    "\n",
    "7. __Receiver Operating Characteristic ROC__ to __stosunek TPR (sensitivity, czułość) do FPR = 1 - specificity)__\n",
    "  * najlepszy możliwy wybór jest w lewym górnym rogu\n",
    "    * TPR=1.0 czyli poprawne wykrycie cechy zawsze gdy jest\n",
    "    * FPR=0.0 czyli nigdy nie zaznaczenie cechy jeśli jej nie ma\n",
    "  * klasyfikotorom wykorzytującym losowy wybór odpowiada przekątna\n",
    "    * poniżej przekątnej są lasyfikatory __gorsze__ od losowych\n",
    "  * __krzywe ROC__ dla zadanego klasyfikatora binarnego\n",
    "    * niech $t$ będzie progiem i $x$ jest zaliczany do klasy $C_1$ jeśli $\\hat{y}(x)>t$\n",
    "    * punkty $(FPR(t), TPR(t)$ wyznaczają krzywe\n",
    "    * znając wzajemne prawdopodobieństwo klas można znaleźć optymalny próg $t$ jako odpowiadający punktowi najbliższemu rogowi $(0, 1)$ na styku prostej odpowiadającej prawdopodobieństwu względnemu klas i krzywej ROC\n",
    "    \n",
    "    "
   ]
  },
  {
   "cell_type": "markdown",
   "metadata": {
    "slideshow": {
     "slide_type": "subslide"
    }
   },
   "source": [
    "8. __Area Under the Curve AUC__ pole pod powierzchnią krzywej ROC\n",
    "  * klasyfikator o większym AUC powinien mieć lepsze wyniki\n",
    "  * AUC odpowiada __prawdopodobieństwu__ że dla dwóch losowych przykładów, __pozytwnego__ i __negatywnego__, algorytm zaklasyfikuje wyżej ten pozytywny (jego uzna za bardziej prawdopodobny _pozytywny_)\n",
    "  * jednak obliczanie AUC wprowadza szum, więc nie jest calkiem wiarygodne i oparcie się na nim może prowadzić do błędów\n",
    "  * rozszerzenie do problemów wielo klasowych jest złożone\n",
    "  \n",
    "  \n",
    "  \n",
    "* wielu autorów używa ROC jako wykresu sensitivity do specificity\n",
    "  * optymalny klasyfikator mieści się w prawym górnym rogu..."
   ]
  },
  {
   "cell_type": "code",
   "execution_count": 6,
   "metadata": {
    "collapsed": true
   },
   "outputs": [],
   "source": [
    "from scipy import interp\n",
    "from sklearn import svm, datasets\n",
    "from sklearn.metrics import roc_curve, auc\n",
    "from sklearn.cross_validation import StratifiedKFold"
   ]
  },
  {
   "cell_type": "code",
   "execution_count": 7,
   "metadata": {
    "collapsed": true
   },
   "outputs": [],
   "source": [
    "def roc_analysis(n_folds=11):\n",
    "    iris = datasets.load_iris()\n",
    "    X = iris.data\n",
    "    y = iris.target\n",
    "    X, y = X[y != 2], y[y != 2]\n",
    "    n_samples, n_features = X.shape\n",
    "\n",
    "    # Add noisy features\n",
    "    random_state = np.random.RandomState(0)\n",
    "    X = np.c_[X, random_state.randn(n_samples, 200 * n_features)]\n",
    "\n",
    "    # Classification and ROC analysis\n",
    "    # Run classifier with cross-validation and plot ROC curves\n",
    "    cv = StratifiedKFold(y, n_folds=n_folds)\n",
    "    classifier = svm.SVC(kernel='linear', probability=True,\n",
    "                     random_state=random_state)\n",
    "\n",
    "    mean_tpr = 0.0\n",
    "    mean_fpr = np.linspace(0, 1, 100)\n",
    "    all_tpr = []\n",
    "    \n",
    "    fig, ax = plt.subplots(figsize=(18, 15))\n",
    "    for i, (train, test) in enumerate(cv):\n",
    "        probas_ = classifier.fit(X[train], y[train]).predict_proba(X[test])\n",
    "        # Compute ROC curve and area the curve\n",
    "        fpr, tpr, thresholds = roc_curve(y[test], probas_[:, 1])\n",
    "        mean_tpr += interp(mean_fpr, fpr, tpr)\n",
    "        mean_tpr[0] = 0.0\n",
    "        roc_auc = auc(fpr, tpr)\n",
    "        ax.plot(fpr, tpr, lw=1, label='ROC fold %d (powierzchnia = %0.2f)' % (i, roc_auc))\n",
    "\n",
    "    ax.plot([0, 1], [0, 1], '--', color=(0.6, 0.6, 0.6), label='Losowy')\n",
    "\n",
    "    mean_tpr /= len(cv)\n",
    "    mean_tpr[-1] = 1.0\n",
    "    mean_auc = auc(mean_fpr, mean_tpr)\n",
    "    ax.plot(mean_fpr, mean_tpr, 'k--',\n",
    "             label='Mean ROC (powierzchnia = %0.2f)' % mean_auc, lw=2)\n",
    "\n",
    "    ax.set_xlim([-0.05, 1.05])\n",
    "    ax.set_ylim([-0.05, 1.05])\n",
    "    ax.set_xlabel('False Positive Rate (1 - specificity)')\n",
    "    ax.set_ylabel('True Positive Rate (sensitivity)')\n",
    "    ax.set_title('ROC dla przykladu Iris z walidacja krzyzowa')\n",
    "    ax.legend(loc=\"lower right\")"
   ]
  },
  {
   "cell_type": "code",
   "execution_count": 8,
   "metadata": {
    "scrolled": false
   },
   "outputs": [
    {
     "ename": "TypeError",
     "evalue": "Argument 'kernel' has incorrect type (expected str, got unicode)",
     "output_type": "error",
     "traceback": [
      "\u001b[0;31m---------------------------------------------------------------------------\u001b[0m",
      "\u001b[0;31mTypeError\u001b[0m                                 Traceback (most recent call last)",
      "\u001b[0;32m<ipython-input-8-6b7c13ed3570>\u001b[0m in \u001b[0;36m<module>\u001b[0;34m()\u001b[0m\n\u001b[0;32m----> 1\u001b[0;31m \u001b[0mroc_analysis\u001b[0m\u001b[0;34m(\u001b[0m\u001b[0;34m)\u001b[0m\u001b[0;34m\u001b[0m\u001b[0m\n\u001b[0m",
      "\u001b[0;32m<ipython-input-7-da395c930aba>\u001b[0m in \u001b[0;36mroc_analysis\u001b[0;34m(n_folds)\u001b[0m\n\u001b[1;32m     22\u001b[0m     \u001b[0mfig\u001b[0m\u001b[0;34m,\u001b[0m \u001b[0max\u001b[0m \u001b[0;34m=\u001b[0m \u001b[0mplt\u001b[0m\u001b[0;34m.\u001b[0m\u001b[0msubplots\u001b[0m\u001b[0;34m(\u001b[0m\u001b[0mfigsize\u001b[0m\u001b[0;34m=\u001b[0m\u001b[0;34m(\u001b[0m\u001b[0;36m18\u001b[0m\u001b[0;34m,\u001b[0m \u001b[0;36m15\u001b[0m\u001b[0;34m)\u001b[0m\u001b[0;34m)\u001b[0m\u001b[0;34m\u001b[0m\u001b[0m\n\u001b[1;32m     23\u001b[0m     \u001b[0;32mfor\u001b[0m \u001b[0mi\u001b[0m\u001b[0;34m,\u001b[0m \u001b[0;34m(\u001b[0m\u001b[0mtrain\u001b[0m\u001b[0;34m,\u001b[0m \u001b[0mtest\u001b[0m\u001b[0;34m)\u001b[0m \u001b[0;32min\u001b[0m \u001b[0menumerate\u001b[0m\u001b[0;34m(\u001b[0m\u001b[0mcv\u001b[0m\u001b[0;34m)\u001b[0m\u001b[0;34m:\u001b[0m\u001b[0;34m\u001b[0m\u001b[0m\n\u001b[0;32m---> 24\u001b[0;31m         \u001b[0mprobas_\u001b[0m \u001b[0;34m=\u001b[0m \u001b[0mclassifier\u001b[0m\u001b[0;34m.\u001b[0m\u001b[0mfit\u001b[0m\u001b[0;34m(\u001b[0m\u001b[0mX\u001b[0m\u001b[0;34m[\u001b[0m\u001b[0mtrain\u001b[0m\u001b[0;34m]\u001b[0m\u001b[0;34m,\u001b[0m \u001b[0my\u001b[0m\u001b[0;34m[\u001b[0m\u001b[0mtrain\u001b[0m\u001b[0;34m]\u001b[0m\u001b[0;34m)\u001b[0m\u001b[0;34m.\u001b[0m\u001b[0mpredict_proba\u001b[0m\u001b[0;34m(\u001b[0m\u001b[0mX\u001b[0m\u001b[0;34m[\u001b[0m\u001b[0mtest\u001b[0m\u001b[0;34m]\u001b[0m\u001b[0;34m)\u001b[0m\u001b[0;34m\u001b[0m\u001b[0m\n\u001b[0m\u001b[1;32m     25\u001b[0m         \u001b[0;31m# Compute ROC curve and area the curve\u001b[0m\u001b[0;34m\u001b[0m\u001b[0;34m\u001b[0m\u001b[0m\n\u001b[1;32m     26\u001b[0m         \u001b[0mfpr\u001b[0m\u001b[0;34m,\u001b[0m \u001b[0mtpr\u001b[0m\u001b[0;34m,\u001b[0m \u001b[0mthresholds\u001b[0m \u001b[0;34m=\u001b[0m \u001b[0mroc_curve\u001b[0m\u001b[0;34m(\u001b[0m\u001b[0my\u001b[0m\u001b[0;34m[\u001b[0m\u001b[0mtest\u001b[0m\u001b[0;34m]\u001b[0m\u001b[0;34m,\u001b[0m \u001b[0mprobas_\u001b[0m\u001b[0;34m[\u001b[0m\u001b[0;34m:\u001b[0m\u001b[0;34m,\u001b[0m \u001b[0;36m1\u001b[0m\u001b[0;34m]\u001b[0m\u001b[0;34m)\u001b[0m\u001b[0;34m\u001b[0m\u001b[0m\n",
      "\u001b[0;32m/Users/igorpodolak/anaconda/lib/python2.7/site-packages/sklearn/svm/base.pyc\u001b[0m in \u001b[0;36mfit\u001b[0;34m(self, X, y, sample_weight)\u001b[0m\n\u001b[1;32m    191\u001b[0m \u001b[0;34m\u001b[0m\u001b[0m\n\u001b[1;32m    192\u001b[0m         \u001b[0mseed\u001b[0m \u001b[0;34m=\u001b[0m \u001b[0mrnd\u001b[0m\u001b[0;34m.\u001b[0m\u001b[0mrandint\u001b[0m\u001b[0;34m(\u001b[0m\u001b[0mnp\u001b[0m\u001b[0;34m.\u001b[0m\u001b[0miinfo\u001b[0m\u001b[0;34m(\u001b[0m\u001b[0;34m'i'\u001b[0m\u001b[0;34m)\u001b[0m\u001b[0;34m.\u001b[0m\u001b[0mmax\u001b[0m\u001b[0;34m)\u001b[0m\u001b[0;34m\u001b[0m\u001b[0m\n\u001b[0;32m--> 193\u001b[0;31m         \u001b[0mfit\u001b[0m\u001b[0;34m(\u001b[0m\u001b[0mX\u001b[0m\u001b[0;34m,\u001b[0m \u001b[0my\u001b[0m\u001b[0;34m,\u001b[0m \u001b[0msample_weight\u001b[0m\u001b[0;34m,\u001b[0m \u001b[0msolver_type\u001b[0m\u001b[0;34m,\u001b[0m \u001b[0mkernel\u001b[0m\u001b[0;34m,\u001b[0m \u001b[0mrandom_seed\u001b[0m\u001b[0;34m=\u001b[0m\u001b[0mseed\u001b[0m\u001b[0;34m)\u001b[0m\u001b[0;34m\u001b[0m\u001b[0m\n\u001b[0m\u001b[1;32m    194\u001b[0m         \u001b[0;31m# see comment on the other call to np.iinfo in this file\u001b[0m\u001b[0;34m\u001b[0m\u001b[0;34m\u001b[0m\u001b[0m\n\u001b[1;32m    195\u001b[0m \u001b[0;34m\u001b[0m\u001b[0m\n",
      "\u001b[0;32m/Users/igorpodolak/anaconda/lib/python2.7/site-packages/sklearn/svm/base.pyc\u001b[0m in \u001b[0;36m_dense_fit\u001b[0;34m(self, X, y, sample_weight, solver_type, kernel, random_seed)\u001b[0m\n\u001b[1;32m    249\u001b[0m                 \u001b[0mcache_size\u001b[0m\u001b[0;34m=\u001b[0m\u001b[0mself\u001b[0m\u001b[0;34m.\u001b[0m\u001b[0mcache_size\u001b[0m\u001b[0;34m,\u001b[0m \u001b[0mcoef0\u001b[0m\u001b[0;34m=\u001b[0m\u001b[0mself\u001b[0m\u001b[0;34m.\u001b[0m\u001b[0mcoef0\u001b[0m\u001b[0;34m,\u001b[0m\u001b[0;34m\u001b[0m\u001b[0m\n\u001b[1;32m    250\u001b[0m                 \u001b[0mgamma\u001b[0m\u001b[0;34m=\u001b[0m\u001b[0mself\u001b[0m\u001b[0;34m.\u001b[0m\u001b[0m_gamma\u001b[0m\u001b[0;34m,\u001b[0m \u001b[0mepsilon\u001b[0m\u001b[0;34m=\u001b[0m\u001b[0mself\u001b[0m\u001b[0;34m.\u001b[0m\u001b[0mepsilon\u001b[0m\u001b[0;34m,\u001b[0m\u001b[0;34m\u001b[0m\u001b[0m\n\u001b[0;32m--> 251\u001b[0;31m                 max_iter=self.max_iter, random_seed=random_seed)\n\u001b[0m\u001b[1;32m    252\u001b[0m \u001b[0;34m\u001b[0m\u001b[0m\n\u001b[1;32m    253\u001b[0m         \u001b[0mself\u001b[0m\u001b[0;34m.\u001b[0m\u001b[0m_warn_from_fit_status\u001b[0m\u001b[0;34m(\u001b[0m\u001b[0;34m)\u001b[0m\u001b[0;34m\u001b[0m\u001b[0m\n",
      "\u001b[0;31mTypeError\u001b[0m: Argument 'kernel' has incorrect type (expected str, got unicode)"
     ]
    },
    {
     "data": {
      "image/png": "[encoded data removed]",
      "text/plain": [
       "<matplotlib.figure.Figure at 0x115b4c810>"
      ]
     },
     "metadata": {},
     "output_type": "display_data"
    }
   ],
   "source": [
    "roc_analysis()"
   ]
  },
  {
   "cell_type": "markdown",
   "metadata": {
    "slideshow": {
     "slide_type": "slide"
    }
   },
   "source": [
    "## F1 score\n",
    "1. __recall (sensitivity)__ $$recall=\\frac{TP}{TP+FN}$$\n",
    "  * frakcja wybranych z klasy (TP) i wybranych w stosunku do wszystkich z tej klasy (TP+FN)\n",
    "  * klasyfikator wybiera $TP+FP$ elementów, ale spośród nich tylko $TP$ poprawnie\n",
    "  * wybierając __wszystkie__ elementu maksymalizuje _recall_, ale ma niską precyzję\n",
    "2. __precision__ $$precision=\\frac{TP}{TP+FP}$$\n",
    "  * ułamek poprawnie wybranych (TP) do wszystkich wybranych (TP+FP)\n",
    "  * wybierając tylko jeden element, chociaż poprawnie, klasyfikator osiąga wysoką precyzję, jednak wciąż niski recall\n",
    "  \n",
    "3. __miara F__ łączy $$F=2\\frac{precision\\cdot recall}{precision+ recall}$$\n",
    "  * równoważy precision i recall, inaczej __F1__ \n",
    "  * średnia harmoniczna recall i precision\n",
    "  * ogólniej $$F_\\beta=(1+\\beta^2)\\frac{precision\\cdot recall}{\\beta^2\\cdot precision+recall}$$\n",
    "  \n",
    "4. dla problemów wieloklasowych\n",
    "  * miara F może być zastosowana do każdej z klas z osobna\n",
    "  * jest też kilka metod uśredniania miedzy klasami"
   ]
  },
  {
   "cell_type": "markdown",
   "metadata": {
    "slideshow": {
     "slide_type": "slide"
    }
   },
   "source": [
    "## Matthews corellation ceofficient\n",
    "1. $$MCC=\\frac{TP\\cdot TN-FP\\cdot FN}{\\sqrt{(TP+FP)(TP+FN)(TN+FP)(TN+FN)}}$$\n",
    "  * $MCC\\in[-1, 1]$\n",
    "  * MCC to współczynnik korelacji między prawdziwymi i przewidzianymi klasyfikacjami\n",
    "  * jest dobrą metodą przedstawienia macierzy pomyłek true/false positives/negatives w postaci jednej liczby\n",
    "  * często stosowana przez biologów (ale ograniczona do problemów binarnych)"
   ]
  },
  {
   "cell_type": "markdown",
   "metadata": {
    "slideshow": {
     "slide_type": "slide"
    }
   },
   "source": [
    "1. teoria rozwinięta podczas pracy nad radarami w trakcie 2 wojny światowej\n",
    "  * analiza wykrywalności obcych samolotów na ekranach radarów; szczególnie po Pearl Harbour\n",
    "  * __false negative__ nie wykrycie japońskiego Zero na ekranie radaru\n",
    "  * __false positive__ fałszywy alarm wykrycia, często wynik szumu"
   ]
  },
  {
   "cell_type": "code",
   "execution_count": null,
   "metadata": {
    "collapsed": true
   },
   "outputs": [],
   "source": []
  }
 ],
 "metadata": {
  "celltoolbar": "Slideshow",
  "kernelspec": {
   "display_name": "Python 3",
   "language": "python",
   "name": "python3"
  },
  "language_info": {
   "codemirror_mode": {
    "name": "ipython",
    "version": 3
   },
   "file_extension": ".py",
   "mimetype": "text/x-python",
   "name": "python",
   "nbconvert_exporter": "python",
   "pygments_lexer": "ipython3",
   "version": "3.6.2"
  }
 },
 "nbformat": 4,
 "nbformat_minor": 1
}
