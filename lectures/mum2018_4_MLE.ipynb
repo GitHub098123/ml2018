{
 "cells": [
  {
   "cell_type": "markdown",
   "metadata": {},
   "source": [
    "\n",
    "---\n",
    "<big><big><big><big><big><big>Metody uczenia maszynowego</big></big></big></big></big></big>\n",
    "\n",
    "---\n",
    "\n",
    "\n"
   ]
  },
  {
   "cell_type": "markdown",
   "metadata": {},
   "source": [
    "\n",
    "---\n",
    "<big><big><big><big><big>Maximum Likelihood Estimation MLE</big></big></big></big></big>\n",
    "\n",
    "---\n",
    "\n"
   ]
  },
  {
   "cell_type": "markdown",
   "metadata": {},
   "source": [
    "---\n",
    "\n",
    "<id=tocheading><big><big><big><big>Spis treści</big></big></big></big>\n",
    "<div id=\"toc\"></div>\n",
    "\n",
    "---"
   ]
  },
  {
   "cell_type": "code",
   "execution_count": 1,
   "metadata": {
    "scrolled": false
   },
   "outputs": [
    {
     "data": {
      "application/javascript": [
       "$.getScript('https://kmahelona.github.io/ipython_notebook_goodies/ipython_notebook_toc.js')"
      ],
      "text/plain": [
       "<IPython.core.display.Javascript object>"
      ]
     },
     "metadata": {},
     "output_type": "display_data"
    }
   ],
   "source": [
    "%%javascript\n",
    "$.getScript('https://kmahelona.github.io/ipython_notebook_goodies/ipython_notebook_toc.js')"
   ]
  },
  {
   "cell_type": "code",
   "execution_count": 2,
   "metadata": {
    "collapsed": true,
    "scrolled": false
   },
   "outputs": [],
   "source": [
    "# -*- coding: utf-8 -*-\n",
    "\n",
    "import numpy as np\n",
    "import pandas as pd\n",
    "\n",
    "%matplotlib inline\n",
    "import matplotlib.pyplot as plt\n",
    "import seaborn as sns\n",
    "from mpl_toolkits.mplot3d import Axes3D\n",
    "from matplotlib import cm\n",
    "from matplotlib.ticker import LinearLocator, FormatStrFormatter\n",
    "\n",
    "plt.style.use(\"fivethirtyeight\")\n",
    "\n",
    "from bokeh.io import gridplot, output_file, show\n",
    "from bokeh.plotting import figure, output_notebook\n",
    "from bkcharts import Scatter"
   ]
  },
  {
   "cell_type": "code",
   "execution_count": 3,
   "metadata": {
    "scrolled": false
   },
   "outputs": [
    {
     "data": {
      "text/html": [
       "\n",
       "    <div class=\"bk-root\">\n",
       "        <a href=\"https://bokeh.pydata.org\" target=\"_blank\" class=\"bk-logo bk-logo-small bk-logo-notebook\"></a>\n",
       "        <span id=\"8bfd7ec1-7f75-4908-bb7f-b21f18ff8425\">Loading BokehJS ...</span>\n",
       "    </div>"
      ]
     },
     "metadata": {},
     "output_type": "display_data"
    },
    {
     "data": {
      "application/javascript": [
       "\n",
       "(function(root) {\n",
       "  function now() {\n",
       "    return new Date();\n",
       "  }\n",
       "\n",
       "  var force = true;\n",
       "\n",
       "  if (typeof (root._bokeh_onload_callbacks) === \"undefined\" || force === true) {\n",
       "    root._bokeh_onload_callbacks = [];\n",
       "    root._bokeh_is_loading = undefined;\n",
       "  }\n",
       "\n",
       "\n",
       "  \n",
       "  if (typeof (root._bokeh_timeout) === \"undefined\" || force === true) {\n",
       "    root._bokeh_timeout = Date.now() + 5000;\n",
       "    root._bokeh_failed_load = false;\n",
       "  }\n",
       "\n",
       "  var NB_LOAD_WARNING = {'data': {'text/html':\n",
       "     \"<div style='background-color: #fdd'>\\n\"+\n",
       "     \"<p>\\n\"+\n",
       "     \"BokehJS does not appear to have successfully loaded. If loading BokehJS from CDN, this \\n\"+\n",
       "     \"may be due to a slow or bad network connection. Possible fixes:\\n\"+\n",
       "     \"</p>\\n\"+\n",
       "     \"<ul>\\n\"+\n",
       "     \"<li>re-rerun `output_notebook()` to attempt to load from CDN again, or</li>\\n\"+\n",
       "     \"<li>use INLINE resources instead, as so:</li>\\n\"+\n",
       "     \"</ul>\\n\"+\n",
       "     \"<code>\\n\"+\n",
       "     \"from bokeh.resources import INLINE\\n\"+\n",
       "     \"output_notebook(resources=INLINE)\\n\"+\n",
       "     \"</code>\\n\"+\n",
       "     \"</div>\"}};\n",
       "\n",
       "  function display_loaded() {\n",
       "    if (root.Bokeh !== undefined) {\n",
       "      var el = document.getElementById(\"8bfd7ec1-7f75-4908-bb7f-b21f18ff8425\");\n",
       "      if (el != null) {\n",
       "        el.textContent = \"BokehJS \" + Bokeh.version + \" successfully loaded.\";\n",
       "      }\n",
       "    } else if (Date.now() < root._bokeh_timeout) {\n",
       "      setTimeout(display_loaded, 100)\n",
       "    }\n",
       "  }\n",
       "\n",
       "\n",
       "  function run_callbacks() {\n",
       "    try {\n",
       "      root._bokeh_onload_callbacks.forEach(function(callback) { callback() });\n",
       "    }\n",
       "    finally {\n",
       "      delete root._bokeh_onload_callbacks\n",
       "    }\n",
       "    console.info(\"Bokeh: all callbacks have finished\");\n",
       "  }\n",
       "\n",
       "  function load_libs(js_urls, callback) {\n",
       "    root._bokeh_onload_callbacks.push(callback);\n",
       "    if (root._bokeh_is_loading > 0) {\n",
       "      console.log(\"Bokeh: BokehJS is being loaded, scheduling callback at\", now());\n",
       "      return null;\n",
       "    }\n",
       "    if (js_urls == null || js_urls.length === 0) {\n",
       "      run_callbacks();\n",
       "      return null;\n",
       "    }\n",
       "    console.log(\"Bokeh: BokehJS not loaded, scheduling load and callback at\", now());\n",
       "    root._bokeh_is_loading = js_urls.length;\n",
       "    for (var i = 0; i < js_urls.length; i++) {\n",
       "      var url = js_urls[i];\n",
       "      var s = document.createElement('script');\n",
       "      s.src = url;\n",
       "      s.async = false;\n",
       "      s.onreadystatechange = s.onload = function() {\n",
       "        root._bokeh_is_loading--;\n",
       "        if (root._bokeh_is_loading === 0) {\n",
       "          console.log(\"Bokeh: all BokehJS libraries loaded\");\n",
       "          run_callbacks()\n",
       "        }\n",
       "      };\n",
       "      s.onerror = function() {\n",
       "        console.warn(\"failed to load library \" + url);\n",
       "      };\n",
       "      console.log(\"Bokeh: injecting script tag for BokehJS library: \", url);\n",
       "      document.getElementsByTagName(\"head\")[0].appendChild(s);\n",
       "    }\n",
       "  };var element = document.getElementById(\"8bfd7ec1-7f75-4908-bb7f-b21f18ff8425\");\n",
       "  if (element == null) {\n",
       "    console.log(\"Bokeh: ERROR: autoload.js configured with elementid '8bfd7ec1-7f75-4908-bb7f-b21f18ff8425' but no matching script tag was found. \")\n",
       "    return false;\n",
       "  }\n",
       "\n",
       "  var js_urls = [\"https://cdn.pydata.org/bokeh/release/bokeh-0.12.7.min.js\", \"https://cdn.pydata.org/bokeh/release/bokeh-widgets-0.12.7.min.js\", \"https://cdn.pydata.org/bokeh/release/bokeh-tables-0.12.7.min.js\", \"https://cdn.pydata.org/bokeh/release/bokeh-gl-0.12.7.min.js\"];\n",
       "\n",
       "  var inline_js = [\n",
       "    function(Bokeh) {\n",
       "      Bokeh.set_log_level(\"info\");\n",
       "    },\n",
       "    \n",
       "    function(Bokeh) {\n",
       "      \n",
       "    },\n",
       "    \n",
       "    function(Bokeh) {\n",
       "      \n",
       "      document.getElementById(\"8bfd7ec1-7f75-4908-bb7f-b21f18ff8425\").textContent = \"BokehJS is loading...\";\n",
       "    },\n",
       "    function(Bokeh) {\n",
       "      console.log(\"Bokeh: injecting CSS: https://cdn.pydata.org/bokeh/release/bokeh-0.12.7.min.css\");\n",
       "      Bokeh.embed.inject_css(\"https://cdn.pydata.org/bokeh/release/bokeh-0.12.7.min.css\");\n",
       "      console.log(\"Bokeh: injecting CSS: https://cdn.pydata.org/bokeh/release/bokeh-widgets-0.12.7.min.css\");\n",
       "      Bokeh.embed.inject_css(\"https://cdn.pydata.org/bokeh/release/bokeh-widgets-0.12.7.min.css\");\n",
       "      console.log(\"Bokeh: injecting CSS: https://cdn.pydata.org/bokeh/release/bokeh-tables-0.12.7.min.css\");\n",
       "      Bokeh.embed.inject_css(\"https://cdn.pydata.org/bokeh/release/bokeh-tables-0.12.7.min.css\");\n",
       "    }\n",
       "  ];\n",
       "\n",
       "  function run_inline_js() {\n",
       "    \n",
       "    if ((root.Bokeh !== undefined) || (force === true)) {\n",
       "      for (var i = 0; i < inline_js.length; i++) {\n",
       "        inline_js[i].call(root, root.Bokeh);\n",
       "      }if (force === true) {\n",
       "        display_loaded();\n",
       "      }} else if (Date.now() < root._bokeh_timeout) {\n",
       "      setTimeout(run_inline_js, 100);\n",
       "    } else if (!root._bokeh_failed_load) {\n",
       "      console.log(\"Bokeh: BokehJS failed to load within specified timeout.\");\n",
       "      root._bokeh_failed_load = true;\n",
       "    } else if (force !== true) {\n",
       "      var cell = $(document.getElementById(\"8bfd7ec1-7f75-4908-bb7f-b21f18ff8425\")).parents('.cell').data().cell;\n",
       "      cell.output_area.append_execute_result(NB_LOAD_WARNING)\n",
       "    }\n",
       "\n",
       "  }\n",
       "\n",
       "  if (root._bokeh_is_loading === 0) {\n",
       "    console.log(\"Bokeh: BokehJS loaded, going straight to plotting\");\n",
       "    run_inline_js();\n",
       "  } else {\n",
       "    load_libs(js_urls, function() {\n",
       "      console.log(\"Bokeh: BokehJS plotting callback run at\", now());\n",
       "      run_inline_js();\n",
       "    });\n",
       "  }\n",
       "}(window));"
      ]
     },
     "metadata": {},
     "output_type": "display_data"
    }
   ],
   "source": [
    "output_notebook()\n",
    "sns.set(font_scale=2.0)"
   ]
  },
  {
   "cell_type": "code",
   "execution_count": 3,
   "metadata": {
    "collapsed": true,
    "scrolled": false
   },
   "outputs": [],
   "source": [
    "from sklearn.model_selection import StratifiedKFold, KFold\n",
    "from sklearn.model_selection import train_test_split\n",
    "from sklearn.datasets import load_svmlight_file\n",
    "from sklearn.metrics import roc_auc_score, f1_score, accuracy_score\n",
    "from sklearn.metrics import classification_report, matthews_corrcoef\n",
    "from sklearn.metrics import confusion_matrix\n",
    "from sklearn import preprocessing\n",
    "\n",
    "from sklearn.datasets import load_boston, load_diabetes, load_linnerud\n",
    "from sklearn.datasets import make_regression\n",
    "from sklearn.datasets import make_friedman1, make_friedman2, make_friedman3\n",
    "from sklearn.datasets import make_sparse_uncorrelated\n",
    "from sklearn.linear_model import LinearRegression, SGDRegressor, RANSACRegressor\n",
    "from sklearn.model_selection import cross_val_predict\n",
    "from sklearn.metrics import accuracy_score, mean_squared_error"
   ]
  },
  {
   "cell_type": "code",
   "execution_count": 4,
   "metadata": {
    "collapsed": true,
    "scrolled": false
   },
   "outputs": [],
   "source": [
    "from astroML.datasets import fetch_imaging_sample\n",
    "from sklearn.preprocessing import PolynomialFeatures\n",
    "from astroML.cosmology import Cosmology\n",
    "from astroML.datasets import generate_mu_z\n",
    "from astroML.linear_model import BasisFunctionRegression"
   ]
  },
  {
   "cell_type": "markdown",
   "metadata": {
    "collapsed": true
   },
   "source": [
    "Image inclusion\n",
    "<img src=\"../../mum_figures/\" width=\"100%\">"
   ]
  },
  {
   "cell_type": "markdown",
   "metadata": {},
   "source": [
    "# Maximum likelihood\n",
    "1. jeśli mamy model, to można oszacować prawdopodobieństwo (__likelihood__) obserwowania określonej wartości\n",
    "  * niech dane $x_i$ będą losowane z rozkładu normalnego $\\mathcal{N}(0,\\sigma)$\n",
    "  * wtedy szansa wylosowania $x$ jest dana przez $$p(x\\mid\\mu,\\sigma)=\\frac{1}{\\sqrt{2\\pi}\\sigma}\\exp\\left(\\frac{-(x-\\mu)^2}{2\\sigma^2}\\right)$$\n",
    "2. __likelihood__ szansa obserwacji całego zbioru\n",
    "$$L\\equiv p(\\{x_i\\}\\mid M(\\theta))=\\prod_{i=1}^{N}p(x_i\\mid M(\\theta))$$\n",
    "  * $L$ to _prawdopodobieństwo obserwowania danych generowanych przez model_\n",
    "  * __brak normalizacji__ $L$ nie jest poprawnie zdefiniowanym rozkładem \n",
    "\n",
    "3. niech\n",
    "$$y=F(x)+\\eta,\\hskip{2em}\\eta\\sim\\mathcal{N}(0,\\sigma)$$\n",
    "4. wtedy likelihood\n",
    "$$\\begin{align}\n",
    "L\\equiv p(Y\\mid X,\\theta,\\sigma)&=\\prod_i\\mathcal{N}(y_i\\mid \\widehat{y}(x_i),\\theta,\\sigma)\\\\\n",
    "&=\\left(\\frac{1}{\\sqrt{2}\\pi}\\right)^N\\prod_i\\exp\\left(\\frac{-(x-\\mu)^2}{2\\sigma^2}\\right)\n",
    "\\end{align}$$\n",
    "5. __log likelihood__ to $\\ln L$\n",
    "$$\\begin{align}\n",
    "\\ln L =\\ln p(Y\\mid X,\\theta,\\sigma)\n",
    "&=\\sum_{i=1}^N\\ln\\mathcal{N} (y_i\\mid\\widehat{y}(x_i),\\sigma)\\\\\n",
    "&=-\\frac{N}{2}\\ln\\sigma^2-\\frac{N}{2}\\ln(2\\pi)-\\frac{1}{2\\sigma^2}\\sum_{i=1}^N\\left(y_i-\\widehat{y}(x_k)\\right)^2\\\\\n",
    "&=const-\\frac{1}{2\\sigma^2}\\sum_{i=1}^N\\left(y_i-\\widehat{y}(x_k)\\right)^2\n",
    "\\end{align}$$\n",
    "  * dla $\\sigma=1$, stąd $$\\ln L=-\\frac{1}{2}\\sum_{i=1}^N\\left(y_i-\\widehat{y}(x_k)\\right)^2$$"
   ]
  },
  {
   "cell_type": "markdown",
   "metadata": {
    "collapsed": true
   },
   "source": [
    "## MLE dla danych z rozkładu normalnego\n",
    "1. niech dane pochodzące z ro. normalnego\n",
    "  * __IID__ dane są niezależnie i identycznie rozłożone\n",
    "    * losowane niezależnie z tego samego rozkładu\n",
    "    * częste założenie _często_ niespełnione\n",
    "2. __likelihood__ $$p(X\\mid \\mu, \\sigma)\\prod_ip(x_i\\mid\\mu,\\sigma)$$\n",
    "3. __log-likelihood__ $$\\ln p(X\\mid\\mu,\\sigma)=-\\frac{1}{2\\sigma^2}\\sum_i(x_i-\\mu)^2-\\frac{N}{2}\\ln\\sigma^2-\\frac{N}{2}\\ln\\,2\\pi$$\n",
    "  * optymalizacja ze względu na __parametry modelu__\n",
    "  $$\\widehat{\\mu}=\\frac{1}{N}\\sum_ix_i$$\n",
    "  $$\\widehat{\\sigma}^2=\\frac{1}{N}\\sum_i(x_i-\\widehat{\\mu})^2$$\n",
    "  * __niedoszacowanie__ $\\widehat{\\sigma}$ (problem _bias_)) stąd poprawka $${\\widetilde{\\sigma}}^{\\,2}=\\frac{N}{N-1}\\widehat{\\sigma}^2$$\n",
    "    * $N$ niezależnych $x_i$\n",
    "    * $N-1$ niezależnych $(x1-\\widehat{\\mu}),\\dots,(x_N,\\widehat{\\mu})$\n",
    "    * poprawka Bessela\n",
    "    * __overfitting__ wyniki są _zbyt dopasowane_ do danych\n",
    "    * wzrost liczby przykładów ułatwia\n",
    "      * modele wieloparametrowe dalej będą miały problemy"
   ]
  },
  {
   "cell_type": "markdown",
   "metadata": {},
   "source": [
    "## Procedura maximum likelihood\n",
    "\n",
    "1. __(log-) likelihood__  definicja $L\\equiv p(D\\mid M)$ dla modelu $M(\\theta)$\n",
    "2. __wyszukanie__ $\\theta$ który maksymalizuje $L$\n",
    "  * np. listy $\\theta=(\\theta_1, \\theta_2,\\dots,\\theta_k)$\n",
    "3. __przedziałów ufności__ dla elementów $\\theta$\n",
    "  * analitycznie jeśli możliwe\n",
    "  * procedury częstotliwościowe: walidacja krzyżowa, jackknife, bootstrap\n",
    "    * __ walidacja krzyżowa__\n",
    "      1. podziel zbiór danych na $K$ części ($K=3,5,10$)\n",
    "      2. powtórz  dla $k=1,\\dots,K$\n",
    "        1. $k$-ta jako część testowa, reszta ucząca\n",
    "        2. zbuduj model\n",
    "        3. $err_k$ = ewaluacja na części testowej\n",
    "      3. $\\overline{err}=\\frac{1}{K}\\sum_kerr_k$\n",
    "    * __jackknife__ (nadoptymistyczny)\n",
    "      1. powtórz dla $k=1,\\dots,N$\n",
    "        2. zbuduj model na $\\{(X,Y)\\}\\setminus\\{(x_k,y_k)\\}$\n",
    "        3. $err_k=\\{(x_k,y_k)\\}$\n",
    "      3. $\\overline{err}=\\frac{1}{N}\\sum_kerr_k$\n",
    "    * __bootstrap__\n",
    "      1. dla $k=1,\\dots,B$ ($B=50,100$)\n",
    "        2. wylosuj __ze zwracaniem__ zbiór uczący $D_k$ o liczności $N$\n",
    "        3. zbuduj model $M$\n",
    "        4. $err_k=\\frac{1}{|x\\not\\in D_k|}\\sum_{j: x_j\\not\\in D_k}l(y_j,\\widehat{y}(x_j))$\n",
    "      3. $\\overline{err}=\\frac{1}{B}\\sum_kerr_k$ \n",
    "4. testy _hipotez_ dla wyciągnięcia wniosków"
   ]
  },
  {
   "cell_type": "markdown",
   "metadata": {},
   "source": [
    "<img src=\"../mum_figures/linear_reg.png\" width=\"70%\">"
   ]
  },
  {
   "cell_type": "markdown",
   "metadata": {},
   "source": [
    "### Problem regresji w MLE\n",
    "1. __problem regresji__ dane \n",
    "$$\\begin{align}&\\{(x_i,y_i),i=1,\\dots,N\\},\\hskip1.5em y_i\\in\\mathbb{R}\\\\\n",
    "&y=F(x)+\\epsilon,\\hskip4.8em\\epsilon\\sim\\mathcal{N}(0,\\sigma^2)\n",
    "\\end{align}$$ dla nieznanej $F$\n",
    "2. __problem__ dla modelu $\\widehat{y}=\\widehat{y}(x;\\theta)$ znaleźć $\\theta$ taki, że wartość prawdziwa (dane) \n",
    "  * ma rozkład normalny o średniej $\\widehat{y}$ i ustalonej wariancji\n",
    "3. __likelihood__ $$p(Y\\mid X,\\theta,\\sigma)=\\prod_i\\mathcal{N}(y_i\\mid \\widehat{y}(x_i;\\theta),\\sigma^2)$$\n",
    "  * __założenie__ dane $(x, y)$ są losowane _niezależnie_ z _tego samego_ rozkładu, wtedy $$p(Y\\mid X,\\theta,\\sigma^2)=\\prod_i p(y\\mid \\widehat{y}(x;\\theta), \\theta, \\sigma^2)$$\n",
    "    * __i.i.d.__ _independently and identically distributed_\n",
    "4. __log likelihood__ $$\\ln\\,L\\equiv\\ln p(Y\\mid\\widehat{y}(X,\\theta),\\sigma)=-\\frac{1}{2\\sigma^2}\\sum_i(y_i-\\widehat{y}(x_i;\\theta))^2-\\frac{N}{2}\\ln\\sigma^2-\\frac{N}{2}\\ln\\,2\\pi$$\n",
    "  * maksymalizacja log-likelihood jest równoważna minimalizacji sumy kwadratów błędów\n",
    "  * __wariancja__ optymalizacja log-likelihood ze względu na $\\sigma$\n",
    "  $$\\begin{align}\n",
    "  \\frac{\\partial\\ln L}{\\partial\\sigma}&=\\frac{\\partial}{\\partial\\sigma}\\left[\\frac{1}{2\\sigma^2}\\sum_i(y_i-\\widehat{y}(x_i;\\theta))^2-\\frac{N}{2}\\ln\\sigma^2\\right]\\\\\n",
    "  &=\\sigma^{-3}\\sum_i(y_i-\\widehat{y}(x_i;\\theta))^2-\\frac{N}{\\sigma}=0\\\\\n",
    "  \\sigma^{-2}\\sum_i(y_i-\\widehat{y}(x_i;\\theta))^2-N&=0\\\\\n",
    "  \\widehat{\\sigma}^{\\,2}&=\\frac{1}{N}\\sum_i(y_i-\\widehat{y}(x_i;\\theta))^2\n",
    "  \\end{align}$$\n",
    "5. __maksymalizacja__ likelihood da $\\theta$ i $\\widehat\\sigma$\n",
    "  $$\\nabla\\ln\\,L=\\frac{1}{\\sigma^2}\\sum_i(y_i-\\widehat{y}(x_i))\\widehat{y}'(x_i)$$\n",
    "  * niech $\\widehat{y}(x)=\\theta^T\\phi(x)$ gdzie $$\\phi(x)=[\\phi_0(x),\\dots,\\phi_M(x)]$$\n",
    "  $$\\begin{align}\n",
    "  0&=\\sum_i(y_i-\\theta^T\\phi(x_i))\\phi(x_i)\\\\\n",
    "  &= \\sum_iy_i\\phi(x_i) -\\theta^T\\sum_i\\phi(x_i))\\phi(x_i)^T\\\\\n",
    "  &=Y^T\\Phi-\\theta^T\\Phi\\Phi^T\\\\\n",
    "  \\Phi^T\\Phi\\theta&=\\Phi^TY\\\\\n",
    "  \\widehat{\\theta}&=(\\Phi^T\\Phi)^{-1}\\Phi^T\n",
    "  \\end{align}$$\n",
    "  gdzie $\\Phi=\\Phi(x)$\n",
    "    * __macierz odwrotna Moore-Penrose__ $\\Phi^\\dagger=(\\Phi^T\\Phi)^{-1}\\Phi^T$\n",
    "5. __bias__ rozwinięcie funkcji kosztu\n",
    "$$E=\\sum_i(y_i-\\theta^T\\phi(x_i)^2=\\sum_i(y_i-\\theta_0-\\sum_{k=1}^M\\theta_k\\phi_k(x_i)^2$$\n",
    "  * maksymalizacja $L$ i rozwiązanie dla $\\theta_0$ daje $$\\theta_0=\\overline{y}-\\sum_k\\theta_k\\overline{\\phi_k}$$\n",
    "  * różnica między średnimi\n",
    "    * wartościami $y$\n",
    "    * aproksymacjami \n",
    "5. __probabilistyczna predykcja__ $$p(y\\mid X,\\theta,\\sigma)=\\mathcal{N}(y\\mid \\widehat{y}(x;\\theta),\\widehat\\sigma^{\\,2})$$"
   ]
  },
  {
   "cell_type": "code",
   "execution_count": 6,
   "metadata": {
    "collapsed": true
   },
   "outputs": [],
   "source": [
    "from scipy.stats import norm"
   ]
  },
  {
   "cell_type": "code",
   "execution_count": 5,
   "metadata": {
    "collapsed": true,
    "scrolled": false
   },
   "outputs": [],
   "source": [
    "def gaussian(x_list, mu, sig):\n",
    "    a =  1./(np.sqrt(2.*np.pi)*sig)\n",
    "    return np.array([a * np.exp(-np.power((x - mu)/sig, 2.)/2) for x in x_list])\n",
    "    #return np.exp(-np.sum(x - mu) ** 2 / (2 * sig)) / (np.sqrt(2 * np.pi * sig))\n",
    "\n",
    "def mle_regression(noise=5, clf='linear', n_samples=5000, max_iter=5000, \n",
    "                   poly=False, degree=3):\n",
    "    fig, ax = plt.subplots(1, 1, figsize=(12, 12))\n",
    "    n_samples = n_samples\n",
    "    bias = 10.0\n",
    "    dotsize = 15\n",
    "    X, y, true_coef = make_regression(n_samples=n_samples, n_features=1, \n",
    "                                      n_targets=1, bias=bias, noise=noise, \n",
    "                                      coef=True)\n",
    "    eps_x = (np.max(X) - np.min(X)) / 20\n",
    "    eps_y = (np.max(y) - np.min(y)) / 20\n",
    "    ax.set_xlim((np.min(X) - eps_x, np.max(X) + eps_x))\n",
    "    ax.set_ylim([np.min(y) - eps_y, np.max(y) + eps_y])\n",
    "    if clf == 'linear':\n",
    "        regr = LinearRegression()\n",
    "    else:\n",
    "        regr = SGDRegressor(max_iter=max_iter)\n",
    "    regr.fit(X, y)\n",
    "    bias_comp = np.mean(y) - regr.coef_ * np.mean(X)\n",
    "\n",
    "    print(\"\\twspółczynniki prawdziwe: {:.3f}, {:.3f}\".format(bias, float(true_coef)))\n",
    "    print(\"\\t              obliczone: {:.3f}, {:.3f}\".format(float(regr.coef_), \n",
    "                                                         float(bias_comp)))\n",
    "\n",
    "    predicted = regr.predict(X)\n",
    "    mse = np.mean((predicted - y) ** 2)\n",
    "    var = (1 / (1 * n_samples)) * np.sum((predicted - y) ** 2)\n",
    "    std = np.sqrt(var)\n",
    "    print(\"\\tmse = {:.3f}, score, = {:.3f}, var={}, std={:.3f}\".format(mse, regr.score(X, y), var, std))\n",
    "    ax.scatter(X, y, color='grey', s=dotsize, label='uczące')\n",
    "\n",
    "    x_range = np.linspace(np.min(X) - eps_x, np.max(X) + eps_x, 100).reshape(-1, 1)\n",
    "    x_predicted = regr.predict(x_range)\n",
    "    ax.plot(x_range, x_predicted, '--', color='cyan', linewidth=2, \n",
    "            label='predykcja, err = {:.3f}'.format(mse))\n",
    "    ax.plot(x_range, x_range * true_coef + bias, ls='-', color='pink', lw=2, label=\"prawdziwa\")\n",
    "    ax.set_title('Regresja liniowa ({}) na całym zbiorze uczącym'.format(clf))\n",
    "    \n",
    "    xs = np.linspace(-2.75, 2.25, 6)\n",
    "    colors = sns.color_palette(\"Paired\", len(xs))\n",
    "    for k, xxx in enumerate(xs):\n",
    "        y_val = regr.predict(xxx)\n",
    "        y_list = np.linspace(np.min(y) - eps_y, np.max(y) + eps_y, 100)\n",
    "        x_list = xxx + gaussian(y_list, y_val, std)\n",
    "        ax.axvline(x=xxx, ls='--')\n",
    "        ax.plot(x_list, y_list, color=colors[k], lw=2)\n",
    "\n",
    "    yy = regr.predict(x_range).reshape(-1)\n",
    "    below = yy - 3 * std\n",
    "    above = yy + 3 * std\n",
    "    ax.fill_between(x_range.reshape(-1), below, above, color='orange', alpha=0.25)\n",
    "    \n",
    "    x_out = []\n",
    "    y_out = []\n",
    "    for x, y, pr in zip(X, y, predicted):\n",
    "        if y < pr - 4 * std or y > pr + 4 * std:\n",
    "            x_out.append(x)\n",
    "            y_out.append(y)\n",
    "            \n",
    "    ax.scatter(x_out, y_out, color='yellow', s=dotsize, label=\"outliers\")\n",
    "    ax.legend()"
   ]
  },
  {
   "cell_type": "code",
   "execution_count": 6,
   "metadata": {
    "scrolled": false
   },
   "outputs": [
    {
     "name": "stdout",
     "output_type": "stream",
     "text": [
      "\twspółczynniki prawdziwe: 10.000, 91.109\n",
      "\t              obliczone: 91.145, 10.000\n",
      "\tmse = 25.276, score, = 0.997, var=25.27596051858387, std=5.028\n"
     ]
    },
    {
     "data": {
      "image/png": "[encoded data removed]",
      "text/plain": [
       "<matplotlib.figure.Figure at 0x103cac358>"
      ]
     },
     "metadata": {},
     "output_type": "display_data"
    }
   ],
   "source": [
    "mle_regression(clf='sgd', max_iter=10000)"
   ]
  },
  {
   "cell_type": "markdown",
   "metadata": {},
   "source": [
    "### Wartości odstające (outliers)\n",
    "1. __reguła trzech sigm__ dla danych losowanych z rozkładu normalnego\n",
    "  * 68.27\\% obserwacji pochodzi z przedziału $\\mu\\pm1\\sigma$  \n",
    "  * 95.45\\% obserwacji pochodzi z przedziału $\\mu\\pm2\\sigma$  \n",
    "  * 99.73\\% obserwacji pochodzi z przedziału $\\mu\\pm3\\sigma$\n",
    "2. __wartości odstające__ (__outliers__) to wartości różniące się od średniej o więcej niż $4\\sigma$"
   ]
  },
  {
   "cell_type": "markdown",
   "metadata": {},
   "source": [
    "## Cechy MLE\n",
    "1. __spójność__ estymatory MLE są zbieżne do _prawdziwej_ wartości wraz ze wzrostem liczby przykładów\n",
    "2. __normalność__ rozkład parametrów jest zbieżny do normalnego wraz z liczbą danych\n",
    "3. __minimalna wariancja__ osiągają asymptotycznie minimalną możliwą wariancję"
   ]
  },
  {
   "cell_type": "markdown",
   "metadata": {
    "collapsed": true,
    "scrolled": false
   },
   "source": [
    "## Maximum a posteriori MAP\n",
    "1. __rozkład parametrów__ nie wszystkie wartości parametrów są poprawne\n",
    "  * przybliżamy linie na drodze na widoku z kamery\n",
    "    * przybliżanie wielomianem trzeciego stopnia $ax^3+bx^2+cx+d$\n",
    "    * droga jest w miarę równoległa do osi pojazdu\n",
    "      * niech $c\\sim\\mathcal{N}(0, \\sigma_c)\\hskip1em \\text{dla}\\hskip1em\\sigma_c=0.5$\n",
    "    * na drodze nie ma zbyt gwałtownych zakrętów\n",
    "      * niech $a\\sim\\mathcal{N}(0, \\sigma_a)\\hskip1em \\text{dla}\\hskip1em\\sigma_a=0.5$\n",
    "  * ograniczenie możliwych klas funkcji (_regularyzacja_)\n",
    "    * model liniowy\n",
    "    * ograniczenie wartości parametrów\n",
    "2. __rozkład__ np. dla interpolacji wielomianowej\n",
    "$$\\begin{align}\n",
    "p(\\theta\\mid \\sigma_\\theta)&=\\mathcal{N}(\\theta\\mid0,\\sigma_{\\theta})\\\\\n",
    "&=\\frac{1}{2\\pi\\sigma_\\theta}^{\\frac{D+1}{2}}\\exp\\left(-\\frac{1}{2\\sigma_\\theta}\\theta^T\\theta\\right)\n",
    "\\end{align}$$\n",
    "  * $D+1$ liczba parametrów wielomianu\n",
    "  * $\\sigma_\\theta$ wariancja parametrów\n",
    "  \n",
    "3. __reguła Bayesa__ $$p(\\theta\\mid X,Y,\\sigma,\\sigma_\\theta)\\propto p(Y\\mid X,\\theta,\\sigma)p(\\theta\\mid\\sigma_\\theta)$$\n",
    "  * __likelihood__ $$p(Y\\mid X,\\theta,\\sigma)$$ problemu\n",
    "  * __prior__ $$p(\\theta\\mid\\sigma_\\theta)$$ parametrów\n",
    "  \n",
    "4. __maximum a posteriori MAP__ maksymalizacja iloczynu likelihood i prior\n",
    "  $$\\theta^*=\\underset{\\theta}{\\arg\\max}p(\\theta\\mid D)$$\n",
    "  * __stałe__ $p(\\theta)=const$ daje MAP _równoważny_ maximum likelihood\n",
    "  \n",
    "5. __maximum posterior__\n",
    "$$\\begin{align}\n",
    "\\ln\\,L&=\\ln\\,L_{problem}+\\ln\\,L_{parametry}\\\\\n",
    "&\\simeq\\frac{\\beta}{2\\sigma^2}\\sum_i(y_i-\\widehat{y}(x_i;\\theta))^2+\\frac{\\alpha}{2\\sigma_{\\theta}^2}\\theta^T\\theta\\\\\n",
    "&\\propto\\frac{1}{2\\sigma^2}\\sum_i(y_i-\\widehat{y}(x_i;\\theta))^2+\\frac{\\lambda}{2\\sigma_{\\theta}^2}\\theta^T\\theta\n",
    "\\end{align}$$\n",
    "dla $\\lambda=\\alpha/\\beta$\n",
    "  * __regularyzacja__ $$\\frac{\\alpha}{2\\sigma_{\\theta}^2}\\theta^T\\theta$$\n",
    "    * większe wartości ograniczają możliwe rozwiązania\n",
    "    "
   ]
  },
  {
   "cell_type": "code",
   "execution_count": 13,
   "metadata": {
    "scrolled": false
   },
   "outputs": [
    {
     "name": "stdout",
     "output_type": "stream",
     "text": [
      "Cały zbiór uczący\n",
      "\ttrue/computed coefficients: 74.698/74.555, bias = 10.000\n"
     ]
    }
   ],
   "source": [
    "max_iter = 100\n",
    "regr = SGDRegressor(max_iter=max_iter)\n",
    "regr.fit(X, y)\n",
    "print(\"Cały zbiór uczący\")\n",
    "print(\"\\ttrue/computed coefficients: {:.3f}/{:.3f}, bias = {:.3f}\".format(float(true_coef), \n",
    "                                            float(regr.coef_), bias))\n",
    "predicted = regr.predict(X)\n",
    "var = (1 / (10 * n_samples)) * np.sum((predicted - y) ** 2)"
   ]
  },
  {
   "cell_type": "code",
   "execution_count": 15,
   "metadata": {
    "scrolled": false
   },
   "outputs": [
    {
     "name": "stdout",
     "output_type": "stream",
     "text": [
      "\tresidual error = 94.260\n",
      "\tscore, = 0.985, var=9.426039417970143\n"
     ]
    },
    {
     "data": {
      "text/plain": [
       "<matplotlib.text.Text at 0x11a2c55f8>"
      ]
     },
     "execution_count": 15,
     "metadata": {},
     "output_type": "execute_result"
    }
   ],
   "source": [
    "print(\"\\tresidual error = {:.3f}\".format(np.mean((predicted - y) ** 2)))\n",
    "print(\"\\tscore, = {:.3f}, var={}\".format(regr.score(X, y), var))\n",
    "ax.scatter(X, y, color='grey', s=dotsize, label='uczące')\n",
    "ax.plot(X, predicted, color='blue', linewidth=1, label='predykcja')\n",
    "ax.set_title('Cały zbiór uczący')"
   ]
  }
 ],
 "metadata": {
  "kernelspec": {
   "display_name": "Python 3",
   "language": "python",
   "name": "python3"
  },
  "language_info": {
   "codemirror_mode": {
    "name": "ipython",
    "version": 3
   },
   "file_extension": ".py",
   "mimetype": "text/x-python",
   "name": "python",
   "nbconvert_exporter": "python",
   "pygments_lexer": "ipython3",
   "version": "3.6.2"
  }
 },
 "nbformat": 4,
 "nbformat_minor": 2
}
