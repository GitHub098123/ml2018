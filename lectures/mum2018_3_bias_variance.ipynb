{
 "cells": [
  {
   "cell_type": "markdown",
   "metadata": {},
   "source": [
    "\n",
    "---\n",
    "<big><big><big><big><big><big>Metody uczenia maszynowego</big></big></big></big></big></big>\n",
    "\n",
    "---\n",
    "\n",
    "\n"
   ]
  },
  {
   "cell_type": "markdown",
   "metadata": {},
   "source": [
    "\n",
    "---\n",
    "<big><big><big><big><big>Bias variance dilemma</big></big></big></big></big>\n",
    "\n",
    "---\n",
    "\n"
   ]
  },
  {
   "cell_type": "markdown",
   "metadata": {},
   "source": [
    "---\n",
    "\n",
    "<id=tocheading><big><big><big><big>Spis treści</big></big></big></big>\n",
    "<div id=\"toc\"></div>\n",
    "\n",
    "---"
   ]
  },
  {
   "cell_type": "code",
   "execution_count": 4,
   "metadata": {},
   "outputs": [
    {
     "data": {
      "application/javascript": [
       "$.getScript('https://kmahelona.github.io/ipython_notebook_goodies/ipython_notebook_toc.js')"
      ],
      "text/plain": [
       "<IPython.core.display.Javascript object>"
      ]
     },
     "metadata": {},
     "output_type": "display_data"
    }
   ],
   "source": [
    "%%javascript\n",
    "$.getScript('https://kmahelona.github.io/ipython_notebook_goodies/ipython_notebook_toc.js')"
   ]
  },
  {
   "cell_type": "code",
   "execution_count": 2,
   "metadata": {
    "collapsed": true
   },
   "outputs": [],
   "source": [
    "# -*- coding: utf-8 -*-\n",
    "\n",
    "import numpy as np\n",
    "import pandas as pd\n",
    "\n",
    "%matplotlib inline\n",
    "import matplotlib.pyplot as plt\n",
    "import seaborn as sns\n",
    "from mpl_toolkits.mplot3d import Axes3D\n",
    "from matplotlib import cm\n",
    "from matplotlib.ticker import LinearLocator, FormatStrFormatter\n",
    "\n",
    "plt.style.use(\"fivethirtyeight\")\n",
    "\n",
    "from bokeh.io import gridplot, output_file, show\n",
    "from bokeh.plotting import figure, output_notebook\n",
    "from bkcharts import Scatter"
   ]
  },
  {
   "cell_type": "code",
   "execution_count": 3,
   "metadata": {},
   "outputs": [
    {
     "data": {
      "text/html": [
       "\n",
       "    <div class=\"bk-root\">\n",
       "        <a href=\"https://bokeh.pydata.org\" target=\"_blank\" class=\"bk-logo bk-logo-small bk-logo-notebook\"></a>\n",
       "        <span id=\"e10ffdbf-9bd0-44c1-ba63-57f55a551358\">Loading BokehJS ...</span>\n",
       "    </div>"
      ]
     },
     "metadata": {},
     "output_type": "display_data"
    },
    {
     "data": {
      "application/javascript": [
       "\n",
       "(function(root) {\n",
       "  function now() {\n",
       "    return new Date();\n",
       "  }\n",
       "\n",
       "  var force = true;\n",
       "\n",
       "  if (typeof (root._bokeh_onload_callbacks) === \"undefined\" || force === true) {\n",
       "    root._bokeh_onload_callbacks = [];\n",
       "    root._bokeh_is_loading = undefined;\n",
       "  }\n",
       "\n",
       "\n",
       "  \n",
       "  if (typeof (root._bokeh_timeout) === \"undefined\" || force === true) {\n",
       "    root._bokeh_timeout = Date.now() + 5000;\n",
       "    root._bokeh_failed_load = false;\n",
       "  }\n",
       "\n",
       "  var NB_LOAD_WARNING = {'data': {'text/html':\n",
       "     \"<div style='background-color: #fdd'>\\n\"+\n",
       "     \"<p>\\n\"+\n",
       "     \"BokehJS does not appear to have successfully loaded. If loading BokehJS from CDN, this \\n\"+\n",
       "     \"may be due to a slow or bad network connection. Possible fixes:\\n\"+\n",
       "     \"</p>\\n\"+\n",
       "     \"<ul>\\n\"+\n",
       "     \"<li>re-rerun `output_notebook()` to attempt to load from CDN again, or</li>\\n\"+\n",
       "     \"<li>use INLINE resources instead, as so:</li>\\n\"+\n",
       "     \"</ul>\\n\"+\n",
       "     \"<code>\\n\"+\n",
       "     \"from bokeh.resources import INLINE\\n\"+\n",
       "     \"output_notebook(resources=INLINE)\\n\"+\n",
       "     \"</code>\\n\"+\n",
       "     \"</div>\"}};\n",
       "\n",
       "  function display_loaded() {\n",
       "    if (root.Bokeh !== undefined) {\n",
       "      var el = document.getElementById(\"e10ffdbf-9bd0-44c1-ba63-57f55a551358\");\n",
       "      if (el != null) {\n",
       "        el.textContent = \"BokehJS \" + Bokeh.version + \" successfully loaded.\";\n",
       "      }\n",
       "    } else if (Date.now() < root._bokeh_timeout) {\n",
       "      setTimeout(display_loaded, 100)\n",
       "    }\n",
       "  }\n",
       "\n",
       "\n",
       "  function run_callbacks() {\n",
       "    try {\n",
       "      root._bokeh_onload_callbacks.forEach(function(callback) { callback() });\n",
       "    }\n",
       "    finally {\n",
       "      delete root._bokeh_onload_callbacks\n",
       "    }\n",
       "    console.info(\"Bokeh: all callbacks have finished\");\n",
       "  }\n",
       "\n",
       "  function load_libs(js_urls, callback) {\n",
       "    root._bokeh_onload_callbacks.push(callback);\n",
       "    if (root._bokeh_is_loading > 0) {\n",
       "      console.log(\"Bokeh: BokehJS is being loaded, scheduling callback at\", now());\n",
       "      return null;\n",
       "    }\n",
       "    if (js_urls == null || js_urls.length === 0) {\n",
       "      run_callbacks();\n",
       "      return null;\n",
       "    }\n",
       "    console.log(\"Bokeh: BokehJS not loaded, scheduling load and callback at\", now());\n",
       "    root._bokeh_is_loading = js_urls.length;\n",
       "    for (var i = 0; i < js_urls.length; i++) {\n",
       "      var url = js_urls[i];\n",
       "      var s = document.createElement('script');\n",
       "      s.src = url;\n",
       "      s.async = false;\n",
       "      s.onreadystatechange = s.onload = function() {\n",
       "        root._bokeh_is_loading--;\n",
       "        if (root._bokeh_is_loading === 0) {\n",
       "          console.log(\"Bokeh: all BokehJS libraries loaded\");\n",
       "          run_callbacks()\n",
       "        }\n",
       "      };\n",
       "      s.onerror = function() {\n",
       "        console.warn(\"failed to load library \" + url);\n",
       "      };\n",
       "      console.log(\"Bokeh: injecting script tag for BokehJS library: \", url);\n",
       "      document.getElementsByTagName(\"head\")[0].appendChild(s);\n",
       "    }\n",
       "  };var element = document.getElementById(\"e10ffdbf-9bd0-44c1-ba63-57f55a551358\");\n",
       "  if (element == null) {\n",
       "    console.log(\"Bokeh: ERROR: autoload.js configured with elementid 'e10ffdbf-9bd0-44c1-ba63-57f55a551358' but no matching script tag was found. \")\n",
       "    return false;\n",
       "  }\n",
       "\n",
       "  var js_urls = [\"https://cdn.pydata.org/bokeh/release/bokeh-0.12.7.min.js\", \"https://cdn.pydata.org/bokeh/release/bokeh-widgets-0.12.7.min.js\", \"https://cdn.pydata.org/bokeh/release/bokeh-tables-0.12.7.min.js\", \"https://cdn.pydata.org/bokeh/release/bokeh-gl-0.12.7.min.js\"];\n",
       "\n",
       "  var inline_js = [\n",
       "    function(Bokeh) {\n",
       "      Bokeh.set_log_level(\"info\");\n",
       "    },\n",
       "    \n",
       "    function(Bokeh) {\n",
       "      \n",
       "    },\n",
       "    \n",
       "    function(Bokeh) {\n",
       "      \n",
       "      document.getElementById(\"e10ffdbf-9bd0-44c1-ba63-57f55a551358\").textContent = \"BokehJS is loading...\";\n",
       "    },\n",
       "    function(Bokeh) {\n",
       "      console.log(\"Bokeh: injecting CSS: https://cdn.pydata.org/bokeh/release/bokeh-0.12.7.min.css\");\n",
       "      Bokeh.embed.inject_css(\"https://cdn.pydata.org/bokeh/release/bokeh-0.12.7.min.css\");\n",
       "      console.log(\"Bokeh: injecting CSS: https://cdn.pydata.org/bokeh/release/bokeh-widgets-0.12.7.min.css\");\n",
       "      Bokeh.embed.inject_css(\"https://cdn.pydata.org/bokeh/release/bokeh-widgets-0.12.7.min.css\");\n",
       "      console.log(\"Bokeh: injecting CSS: https://cdn.pydata.org/bokeh/release/bokeh-tables-0.12.7.min.css\");\n",
       "      Bokeh.embed.inject_css(\"https://cdn.pydata.org/bokeh/release/bokeh-tables-0.12.7.min.css\");\n",
       "    }\n",
       "  ];\n",
       "\n",
       "  function run_inline_js() {\n",
       "    \n",
       "    if ((root.Bokeh !== undefined) || (force === true)) {\n",
       "      for (var i = 0; i < inline_js.length; i++) {\n",
       "        inline_js[i].call(root, root.Bokeh);\n",
       "      }if (force === true) {\n",
       "        display_loaded();\n",
       "      }} else if (Date.now() < root._bokeh_timeout) {\n",
       "      setTimeout(run_inline_js, 100);\n",
       "    } else if (!root._bokeh_failed_load) {\n",
       "      console.log(\"Bokeh: BokehJS failed to load within specified timeout.\");\n",
       "      root._bokeh_failed_load = true;\n",
       "    } else if (force !== true) {\n",
       "      var cell = $(document.getElementById(\"e10ffdbf-9bd0-44c1-ba63-57f55a551358\")).parents('.cell').data().cell;\n",
       "      cell.output_area.append_execute_result(NB_LOAD_WARNING)\n",
       "    }\n",
       "\n",
       "  }\n",
       "\n",
       "  if (root._bokeh_is_loading === 0) {\n",
       "    console.log(\"Bokeh: BokehJS loaded, going straight to plotting\");\n",
       "    run_inline_js();\n",
       "  } else {\n",
       "    load_libs(js_urls, function() {\n",
       "      console.log(\"Bokeh: BokehJS plotting callback run at\", now());\n",
       "      run_inline_js();\n",
       "    });\n",
       "  }\n",
       "}(window));"
      ]
     },
     "metadata": {},
     "output_type": "display_data"
    }
   ],
   "source": [
    "output_notebook()\n",
    "sns.set(font_scale=2.0)"
   ]
  },
  {
   "cell_type": "markdown",
   "metadata": {
    "collapsed": true
   },
   "source": [
    "Image inclusion\n",
    "<img src=\"../mum_figures/\" width=\"100%\">"
   ]
  },
  {
   "cell_type": "markdown",
   "metadata": {},
   "source": [
    "# Dopasowanie modelu\n",
    "1. czy funkcja __modelująca__ jest tej samej klasy co funkcja __nieznana__?\n",
    "2. jaki to ma wpływ?"
   ]
  },
  {
   "cell_type": "markdown",
   "metadata": {},
   "source": [
    "## Nieliniowa - liniowa\n",
    "1. __nieznana nieliniowa__ $f(x)$ generuje dane $(x_1,y_1),\\dots,(x_N,y_N)$\n",
    "  * __szum__ $y_i=f(x_i)+\\epsilon\\hskip2em\\epsilon\\sim\\mathcal{N}(0,\\sigma)$\n",
    "2. __liniowa__ $\\widehat{f}(x)$ modelująca\n",
    "3. __wariancja__\n",
    "  * podzbiory danych uczących (albo różne dane z tego samego procesu)\n",
    "    * niezależne dopasowanie do każdego \n",
    "  * __wariancja__ $E[(\\widehat{f}(x)-E[\\widehat{f}(x)])^2]$\n",
    "4. __bias__ $f(x)$ i $\\widehat{f}(x)$ z różnych klas\n",
    "  * stąd niedopasowanie i różnica -- _odchylenie_ $bias^2$\n",
    "  $$bias^2=E[(f(x)-E[\\widehat{f}(x)])^2]$$\n",
    "5. __niedopasowanie__\n",
    "  * złożona prawdziwa funkcja\n",
    "  * prosty model\n",
    "    * niska wariancja \n",
    "    * wysoki bias"
   ]
  },
  {
   "cell_type": "markdown",
   "metadata": {
    "collapsed": true
   },
   "source": [
    "<img src=\"../mum_figures/BiasVarianceDilemmaRojas.png\" width=\"80%\">\n",
    "_[rysunek Raul Rojas]_"
   ]
  },
  {
   "cell_type": "markdown",
   "metadata": {},
   "source": [
    "## Liniowa - nieliniowa\n",
    "1. __nieznana liniowa__ $f(x)$ z szumem $\\sim\\mathcal{N}(0,\\sigma)$\n",
    "2. __model__ nielioniowy o wielu stopniach swobody\n",
    "  * wielomian\n",
    "3. wiele dopasowań\n",
    "  * __overfitting__ dopasowań do każdego podzbioru\n",
    "  * __wysoka wariancja__ $E[(\\widehat{f}(x)-E[\\widehat{f}(x)])^2]$\n",
    "  * __błąd estymacji__\n",
    "4. __uśrednienie__\n",
    "  * średnia z dopasowań bliska prawdziwej\n",
    "  * __niski bias$^\\mathbf{2}$__ $bias^2=E[(f(x)-E[\\widehat{f}(x)])^2]$\n",
    "  * __błąd aproksymacji__"
   ]
  },
  {
   "cell_type": "markdown",
   "metadata": {},
   "source": [
    "## Błąd dla kwadratowej funkcji kosztu\n",
    "1. Oczekiwany kwadratowy błąd dopasowania\n",
    "$$\\begin{align}\n",
    "E[(y-\\widehat{f}(x))^2]&=E[(f(x)+\\epsilon-\\widehat{f}(x))^2]\\\\\n",
    "&=E[(\\underbrace{f(x)-\\widehat{f}(x)}_{błąd}+\\underbrace{\\epsilon}_{szum})^2]\n",
    "\\end{align}$$\n",
    "2. błąd i szum są nieskorelowane\n",
    "$$\\begin{align}\n",
    "E[(y-\\widehat{f}(x))^2]&=E[(f(x)+\\epsilon-\\widehat{f}(x))^2]\\\\\n",
    "&=E[(f(x)-\\widehat{f}(x))^2]+\\underbrace{2\\epsilon{}E[f(x)-\\widehat{f}(x)]}_{=0}+\\epsilon^2\\\\\n",
    "&=E[(f(x)-\\widehat{f}(x))^2]+\\epsilon^2\n",
    "\\end{align}$$\n",
    "3. dodajemy i odejmujemy wartość oczekiwaną $E[\\widehat{f}(x)]$\n",
    "$$\\begin{align}\n",
    "E[(y-\\widehat{f}(x))^2]=&E[(f(x)-\\widehat{f}(x))^2]+\\epsilon^2\\\\\n",
    "=&E[(f(x)-E[\\widehat{f}(x)]+E[\\widehat{f}(x)]-\\widehat{f}(x))^2]+\\epsilon^2\\\\\n",
    "=&E[(f(x)-E[\\widehat{f}(x)])^2]\\\\\n",
    "&+2E[(f(x)-E[\\widehat{f}(x)])(\\widehat{f}(x)-E[\\widehat{f}(x)])]\\\\\n",
    "&+E[(\\widehat{f}(x)-E[\\widehat{f}(x)])^2]+\\epsilon^2\\\\\n",
    "&=\\underbrace{E[(f(x)-E[\\widehat{f}(x)])^2]}_{bias^2}+\\underbrace{E[(\\widehat{f}(x)-E[\\widehat{f}(x)])^2]}_{wariancja}+\\underbrace{\\epsilon^2}_{szum}\n",
    "\\end{align}$$\n",
    "  ponieważ $(f(x)-E[\\widehat{f}(x)])$ i $(\\widehat{f}(x)-E[\\widehat{f}(x)])$ są __nieskorelowane__\n",
    "  "
   ]
  },
  {
   "cell_type": "markdown",
   "metadata": {},
   "source": [
    "<img src=\"../mum_figures/bias_variance_decomposition.png\" width=\"80%\">\n",
    "_[rysunek Hastie, Tibshirani, Friedman]_"
   ]
  },
  {
   "cell_type": "markdown",
   "metadata": {},
   "source": [
    "## Interpretacja\n",
    "1. __prosty model__ \n",
    "  * __ale__ wysoki bias jeśli proces _bardziej_ złożony niż model\n",
    "  * __lepiej__ generalizują\n",
    "  * mogą nie móc dopasować danych (wysoki bias)\n",
    "2. __elastyczny model__\n",
    "  * __ale__ wysoka wariancja jeśli model _bardziej_ złożony\n",
    "3. __kompromis__ potrzebny\n",
    "  * __wczesne zatrzymywanie__\n",
    "  * __walidacyjny__ zbiór\n",
    "  * __ensemble__\n",
    "    * szereg różnych modeli\n",
    "    * uśrednianie wyników"
   ]
  },
  {
   "cell_type": "markdown",
   "metadata": {},
   "source": [
    "<img src=\"../mum_figures/bias_variance_plot.png\" width=\"100%\">"
   ]
  },
  {
   "cell_type": "markdown",
   "metadata": {},
   "source": [
    "## Uwaga\n",
    "1. ta postać podziału błędu __ograniczona__ do kosztu śreniokwadratowego\n",
    "2. __propozycje__ dla błędu entropii krzyżowej (Domingos)\n",
    "  * mało rozwinięte"
   ]
  }
 ],
 "metadata": {
  "kernelspec": {
   "display_name": "Python 3",
   "language": "python",
   "name": "python3"
  },
  "language_info": {
   "codemirror_mode": {
    "name": "ipython",
    "version": 3
   },
   "file_extension": ".py",
   "mimetype": "text/x-python",
   "name": "python",
   "nbconvert_exporter": "python",
   "pygments_lexer": "ipython3",
   "version": "3.6.2"
  }
 },
 "nbformat": 4,
 "nbformat_minor": 2
}
