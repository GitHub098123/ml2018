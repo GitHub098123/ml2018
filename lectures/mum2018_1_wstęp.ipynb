{
 "cells": [
  {
   "cell_type": "markdown",
   "metadata": {},
   "source": [
    "\n",
    "---\n",
    "<big><big><big><big><big><big>Metody uczenia maszynowego</big></big></big></big></big></big>\n",
    "\n",
    "---\n",
    "\n",
    "\n"
   ]
  },
  {
   "cell_type": "markdown",
   "metadata": {},
   "source": [
    "\n",
    "---\n",
    "<big><big><big><big><big>Problemy uczenia maszynowego</big></big></big></big></big>\n",
    "\n",
    "---\n",
    "\n"
   ]
  },
  {
   "cell_type": "markdown",
   "metadata": {},
   "source": [
    "---\n",
    "\n",
    "<id=tocheading><big><big><big><big>Spis treści</big></big></big></big>\n",
    "<div id=\"toc\"></div>\n",
    "\n",
    "---\n"
   ]
  },
  {
   "cell_type": "code",
   "execution_count": 1,
   "metadata": {},
   "outputs": [
    {
     "data": {
      "application/javascript": [
       "$.getScript('https://kmahelona.github.io/ipython_notebook_goodies/ipython_notebook_toc.js')"
      ],
      "text/plain": [
       "<IPython.core.display.Javascript object>"
      ]
     },
     "metadata": {},
     "output_type": "display_data"
    }
   ],
   "source": [
    "%%javascript\n",
    "$.getScript('https://kmahelona.github.io/ipython_notebook_goodies/ipython_notebook_toc.js')"
   ]
  },
  {
   "cell_type": "code",
   "execution_count": 2,
   "metadata": {
    "collapsed": true
   },
   "outputs": [],
   "source": [
    "# -*- coding: utf-8 -*-\n",
    "\n",
    "import numpy as np\n",
    "import pandas as pd\n",
    "\n",
    "%matplotlib inline\n",
    "import matplotlib.pyplot as plt\n",
    "import seaborn as sns\n",
    "from mpl_toolkits.mplot3d import Axes3D\n",
    "from matplotlib import cm\n",
    "from matplotlib.ticker import LinearLocator, FormatStrFormatter\n",
    "plt.style.use(\"fivethirtyeight\")\n",
    "\n",
    "from bokeh.io import gridplot, output_file, show\n",
    "from bokeh.plotting import figure, output_notebook\n",
    "from bkcharts import Scatter"
   ]
  },
  {
   "cell_type": "code",
   "execution_count": 3,
   "metadata": {},
   "outputs": [
    {
     "data": {
      "text/html": [
       "\n",
       "    <div class=\"bk-root\">\n",
       "        <a href=\"https://bokeh.pydata.org\" target=\"_blank\" class=\"bk-logo bk-logo-small bk-logo-notebook\"></a>\n",
       "        <span id=\"c659dd20-d620-45eb-9c5c-778c134aeb76\">Loading BokehJS ...</span>\n",
       "    </div>"
      ]
     },
     "metadata": {},
     "output_type": "display_data"
    },
    {
     "data": {
      "application/javascript": [
       "\n",
       "(function(root) {\n",
       "  function now() {\n",
       "    return new Date();\n",
       "  }\n",
       "\n",
       "  var force = true;\n",
       "\n",
       "  if (typeof (root._bokeh_onload_callbacks) === \"undefined\" || force === true) {\n",
       "    root._bokeh_onload_callbacks = [];\n",
       "    root._bokeh_is_loading = undefined;\n",
       "  }\n",
       "\n",
       "\n",
       "  \n",
       "  if (typeof (root._bokeh_timeout) === \"undefined\" || force === true) {\n",
       "    root._bokeh_timeout = Date.now() + 5000;\n",
       "    root._bokeh_failed_load = false;\n",
       "  }\n",
       "\n",
       "  var NB_LOAD_WARNING = {'data': {'text/html':\n",
       "     \"<div style='background-color: #fdd'>\\n\"+\n",
       "     \"<p>\\n\"+\n",
       "     \"BokehJS does not appear to have successfully loaded. If loading BokehJS from CDN, this \\n\"+\n",
       "     \"may be due to a slow or bad network connection. Possible fixes:\\n\"+\n",
       "     \"</p>\\n\"+\n",
       "     \"<ul>\\n\"+\n",
       "     \"<li>re-rerun `output_notebook()` to attempt to load from CDN again, or</li>\\n\"+\n",
       "     \"<li>use INLINE resources instead, as so:</li>\\n\"+\n",
       "     \"</ul>\\n\"+\n",
       "     \"<code>\\n\"+\n",
       "     \"from bokeh.resources import INLINE\\n\"+\n",
       "     \"output_notebook(resources=INLINE)\\n\"+\n",
       "     \"</code>\\n\"+\n",
       "     \"</div>\"}};\n",
       "\n",
       "  function display_loaded() {\n",
       "    if (root.Bokeh !== undefined) {\n",
       "      var el = document.getElementById(\"c659dd20-d620-45eb-9c5c-778c134aeb76\");\n",
       "      if (el != null) {\n",
       "        el.textContent = \"BokehJS \" + Bokeh.version + \" successfully loaded.\";\n",
       "      }\n",
       "    } else if (Date.now() < root._bokeh_timeout) {\n",
       "      setTimeout(display_loaded, 100)\n",
       "    }\n",
       "  }\n",
       "\n",
       "\n",
       "  function run_callbacks() {\n",
       "    try {\n",
       "      root._bokeh_onload_callbacks.forEach(function(callback) { callback() });\n",
       "    }\n",
       "    finally {\n",
       "      delete root._bokeh_onload_callbacks\n",
       "    }\n",
       "    console.info(\"Bokeh: all callbacks have finished\");\n",
       "  }\n",
       "\n",
       "  function load_libs(js_urls, callback) {\n",
       "    root._bokeh_onload_callbacks.push(callback);\n",
       "    if (root._bokeh_is_loading > 0) {\n",
       "      console.log(\"Bokeh: BokehJS is being loaded, scheduling callback at\", now());\n",
       "      return null;\n",
       "    }\n",
       "    if (js_urls == null || js_urls.length === 0) {\n",
       "      run_callbacks();\n",
       "      return null;\n",
       "    }\n",
       "    console.log(\"Bokeh: BokehJS not loaded, scheduling load and callback at\", now());\n",
       "    root._bokeh_is_loading = js_urls.length;\n",
       "    for (var i = 0; i < js_urls.length; i++) {\n",
       "      var url = js_urls[i];\n",
       "      var s = document.createElement('script');\n",
       "      s.src = url;\n",
       "      s.async = false;\n",
       "      s.onreadystatechange = s.onload = function() {\n",
       "        root._bokeh_is_loading--;\n",
       "        if (root._bokeh_is_loading === 0) {\n",
       "          console.log(\"Bokeh: all BokehJS libraries loaded\");\n",
       "          run_callbacks()\n",
       "        }\n",
       "      };\n",
       "      s.onerror = function() {\n",
       "        console.warn(\"failed to load library \" + url);\n",
       "      };\n",
       "      console.log(\"Bokeh: injecting script tag for BokehJS library: \", url);\n",
       "      document.getElementsByTagName(\"head\")[0].appendChild(s);\n",
       "    }\n",
       "  };var element = document.getElementById(\"c659dd20-d620-45eb-9c5c-778c134aeb76\");\n",
       "  if (element == null) {\n",
       "    console.log(\"Bokeh: ERROR: autoload.js configured with elementid 'c659dd20-d620-45eb-9c5c-778c134aeb76' but no matching script tag was found. \")\n",
       "    return false;\n",
       "  }\n",
       "\n",
       "  var js_urls = [\"https://cdn.pydata.org/bokeh/release/bokeh-0.12.7.min.js\", \"https://cdn.pydata.org/bokeh/release/bokeh-widgets-0.12.7.min.js\", \"https://cdn.pydata.org/bokeh/release/bokeh-tables-0.12.7.min.js\", \"https://cdn.pydata.org/bokeh/release/bokeh-gl-0.12.7.min.js\"];\n",
       "\n",
       "  var inline_js = [\n",
       "    function(Bokeh) {\n",
       "      Bokeh.set_log_level(\"info\");\n",
       "    },\n",
       "    \n",
       "    function(Bokeh) {\n",
       "      \n",
       "    },\n",
       "    \n",
       "    function(Bokeh) {\n",
       "      \n",
       "      document.getElementById(\"c659dd20-d620-45eb-9c5c-778c134aeb76\").textContent = \"BokehJS is loading...\";\n",
       "    },\n",
       "    function(Bokeh) {\n",
       "      console.log(\"Bokeh: injecting CSS: https://cdn.pydata.org/bokeh/release/bokeh-0.12.7.min.css\");\n",
       "      Bokeh.embed.inject_css(\"https://cdn.pydata.org/bokeh/release/bokeh-0.12.7.min.css\");\n",
       "      console.log(\"Bokeh: injecting CSS: https://cdn.pydata.org/bokeh/release/bokeh-widgets-0.12.7.min.css\");\n",
       "      Bokeh.embed.inject_css(\"https://cdn.pydata.org/bokeh/release/bokeh-widgets-0.12.7.min.css\");\n",
       "      console.log(\"Bokeh: injecting CSS: https://cdn.pydata.org/bokeh/release/bokeh-tables-0.12.7.min.css\");\n",
       "      Bokeh.embed.inject_css(\"https://cdn.pydata.org/bokeh/release/bokeh-tables-0.12.7.min.css\");\n",
       "    }\n",
       "  ];\n",
       "\n",
       "  function run_inline_js() {\n",
       "    \n",
       "    if ((root.Bokeh !== undefined) || (force === true)) {\n",
       "      for (var i = 0; i < inline_js.length; i++) {\n",
       "        inline_js[i].call(root, root.Bokeh);\n",
       "      }if (force === true) {\n",
       "        display_loaded();\n",
       "      }} else if (Date.now() < root._bokeh_timeout) {\n",
       "      setTimeout(run_inline_js, 100);\n",
       "    } else if (!root._bokeh_failed_load) {\n",
       "      console.log(\"Bokeh: BokehJS failed to load within specified timeout.\");\n",
       "      root._bokeh_failed_load = true;\n",
       "    } else if (force !== true) {\n",
       "      var cell = $(document.getElementById(\"c659dd20-d620-45eb-9c5c-778c134aeb76\")).parents('.cell').data().cell;\n",
       "      cell.output_area.append_execute_result(NB_LOAD_WARNING)\n",
       "    }\n",
       "\n",
       "  }\n",
       "\n",
       "  if (root._bokeh_is_loading === 0) {\n",
       "    console.log(\"Bokeh: BokehJS loaded, going straight to plotting\");\n",
       "    run_inline_js();\n",
       "  } else {\n",
       "    load_libs(js_urls, function() {\n",
       "      console.log(\"Bokeh: BokehJS plotting callback run at\", now());\n",
       "      run_inline_js();\n",
       "    });\n",
       "  }\n",
       "}(window));"
      ]
     },
     "metadata": {},
     "output_type": "display_data"
    }
   ],
   "source": [
    "output_notebook()\n",
    "sns.set(font_scale=2.0)"
   ]
  },
  {
   "cell_type": "markdown",
   "metadata": {
    "collapsed": true
   },
   "source": [
    "# Problemy uczenia maszynowego"
   ]
  },
  {
   "cell_type": "markdown",
   "metadata": {
    "collapsed": true
   },
   "source": [
    "## Estymacja gęstości\n",
    "1. dane: N punktów w wielowymiarowej przestrzeni\n",
    "2. cel: estymacja gęstości prawdopodobieństwa\n",
    "  * __klastrowanie__ próba znalezienia struktury danych\n",
    "  * __identyfikacja anomalii__ wyszukiwanie obszarów niskiej gestości i ich opis\n",
    "  * __identyfikacja skupisk__ umożliwia etykietowanie punktów\n",
    "3. modele\n",
    "  * histogram\n",
    "  * modele kernelowe\n",
    "  * metody najbliższych sąsiadów"
   ]
  },
  {
   "cell_type": "code",
   "execution_count": 4,
   "metadata": {
    "collapsed": true
   },
   "outputs": [],
   "source": [
    "import astroML"
   ]
  },
  {
   "cell_type": "code",
   "execution_count": 5,
   "metadata": {
    "collapsed": true
   },
   "outputs": [],
   "source": [
    "from astroML.density_estimation import KNeighborsDensity\n",
    "\n",
    "X = np.random.normal(size=(1000, 2))\n",
    "knd = KNeighborsDensity(\"bayesian\", 10)\n",
    "knd.fit(X)\n",
    "dens = knd.eval(X)"
   ]
  },
  {
   "cell_type": "code",
   "execution_count": 6,
   "metadata": {},
   "outputs": [
    {
     "data": {
      "text/plain": [
       "<matplotlib.collections.PathCollection at 0x1134d1b38>"
      ]
     },
     "execution_count": 6,
     "metadata": {},
     "output_type": "execute_result"
    },
    {
     "data": {
      "image/png": "[encoded data removed]",
      "text/plain": [
       "<matplotlib.figure.Figure at 0x10678d898>"
      ]
     },
     "metadata": {},
     "output_type": "display_data"
    }
   ],
   "source": [
    "plt.scatter(X[:, 0], X[:, 1], s=3.)"
   ]
  },
  {
   "cell_type": "code",
   "execution_count": 7,
   "metadata": {},
   "outputs": [
    {
     "data": {
      "text/plain": [
       "<matplotlib.collections.PathCollection at 0x11363e8d0>"
      ]
     },
     "execution_count": 7,
     "metadata": {},
     "output_type": "execute_result"
    },
    {
     "data": {
      "image/png": "[encoded data removed]",
      "text/plain": [
       "<matplotlib.figure.Figure at 0x1134936d8>"
      ]
     },
     "metadata": {},
     "output_type": "display_data"
    }
   ],
   "source": [
    "plt.scatter(X[:, 0], X[:, 1], s=5., c=dens)"
   ]
  },
  {
   "cell_type": "markdown",
   "metadata": {},
   "source": [
    "## Redukcja wymiarowości\n",
    "1. __Przekleństwo wymiarowości__\n",
    "  * dane: N przykładów, każdy wektorem o wymiarze D w hipersześcianie $[-1, 1]^D$\n",
    "  * rozkład równomierny"
   ]
  },
  {
   "cell_type": "markdown",
   "metadata": {},
   "source": [
    "<img src=\"../mum_figures/curse_of_dimensionality.png\" width=\"100%\">"
   ]
  },
  {
   "cell_type": "markdown",
   "metadata": {},
   "source": [
    "* jaka jest szansa, że dowolny punkt lezy w odległosci co najwyżej 1 od środka układu współrzędnych?\n",
    "  * dla $D=2$ mamy $$\\pi r^2/(2r)^2 \\simeq 0.785$$\n",
    "  * dla $D=3$ mamy $$(4/3)\\pi r^3 / (2r)^3 \\simeq 0.523$$\n",
    "* ten współczynnik bardzo szybko maleje\n",
    "  * punkty danych stają się coraz bardziej od siebie odległe\n",
    "* uczenie maszynowe polega na znajdywaniu _podobieństw_\n",
    "  * punkty odległe od siebie są coraz mniej \"podobne\"\n",
    "  * wraz ze wzrostem $D$ będzie potrzeba coraz większego N punktów - wzrost jest __wykładniczy__\n",
    "  \n",
    "* zwykle cechy danych są ze sobą skorelowane\n",
    "* wiele cech (ang. features) __nie ma__ wpływu na poszukiwane wartości\n",
    "* potrzebna jest redukcja wymiarowości\n",
    "  * zmniejszy wymagane minimalne N\n",
    "  * usunięcie skorelowanych i nieistotnych cech\n",
    "  * niektóre cechy są kombinacjami liniowymi innych\n",
    "  \n",
    "2. narzędzia\n",
    "  * Principal Component Analysis PCA\n",
    "  * Independent Component Analysis ICA\n",
    "  * manifold learning"
   ]
  },
  {
   "cell_type": "markdown",
   "metadata": {},
   "source": [
    "## Regresja\n",
    "1. dane opisują nieznaną funkcję $F$\n",
    "2. budujemy model $$y=f(x\\mid \\theta)$$ \n",
    "\n",
    "3. Modele\n",
    "  * regresja liniowa\n",
    "    * wielomianowe funkcje bazowe)\n",
    "  * regresja nieliniowa\n",
    "  * metody regularyzacji\n",
    "  * metody kernelowe\n",
    "  * metody Bayesowskie"
   ]
  },
  {
   "cell_type": "markdown",
   "metadata": {},
   "source": [
    "## Klasyfikacja\n",
    "1. __dane__ $$\\{(x_i, y_i),i=1,\\dots,N\\}$$ przy czym $$y_i\\in\\{1,\\dots,K\\}$$ który jest zbiorem __możliwych__ klas\n",
    "2. __cel__ model przewidujący poprawną odpowiedź z najmniejszym oczekiwanym błędem\n",
    "  * interesuje nas błąd na zbiorze przykładów, których algorytm budujący model __nie__ widział\n",
    "3. __modele__\n",
    "  * klasyfikator Bayesowski i naiwny klasyfikator Bayesowski\n",
    "  * logistic regression\n",
    "  * metody dyskryminacyjne\n",
    "  * klasyfikacja z wykorzystaniem metod najbliższych sąsiadów\n",
    "  * Support Vector Machines SVM\n",
    "  * drzewa decyzyjne i lasy drzew\n",
    "  * drzewa gradient boosted\n",
    "  * modele składające wyniki, np. AdaBoost\n",
    "  "
   ]
  },
  {
   "cell_type": "markdown",
   "metadata": {},
   "source": [
    "## Analiza szeregów czasowych\n",
    "1. __dane__ $$(t_1, y_1), (t_2, y_2), \\dots, (t_N, y_N)$$\n",
    "2. __cel__ przewidzenie $y_{k+1}$ na podstawie $$(t_{k-p},y_{p}),\\dots,(t_k,y_k)$$\n",
    "  * celem może być zarówno regresja jak i klasyfikacja\n",
    "3. __problemy__\n",
    "  * wartość $y_k$ zależy bezpośrednio od poprzednich (inaczej niż w regresji)\n",
    "  * wiele danych jest szumem\n",
    "  * w danych występują trendy i okresowości\n",
    "  * problem szerokości okienka\n",
    "    * zanikanie wpływu starych danych, ale istnienie wpływu pamięci długoterminowej\n",
    "4. __modele__\n",
    "  * ARMA\n",
    "  * analiza fourierowska i falkowa\n",
    "  * sieci neuronowe"
   ]
  },
  {
   "cell_type": "markdown",
   "metadata": {},
   "source": [
    "# Modele uczenia\n",
    "---\n",
    "## nadzorowane\n",
    "  * dane $$\\{(x_i,y_i)\\}$$ gdzie $y_i$ jest __poprawną odpowiedzią__\n",
    "  * algorytm modyfikuje parametry modelu w kolejnych krokach\n",
    "  * algorytm porównuje odpowiedź modelu z poprawną uzyskując __błąd__\n",
    "  * błąd wpływa na modyfikację parametrów tak by minimalizować całkowity błąd\n",
    "---\n",
    "## nienadzorowane\n",
    "  * dane w postaci $$\\{x_i\\}$$ __bez__ prawidłowej wartości\n",
    "  * algorytm wyszukuje __statystyczne__ zależności\n",
    "  * efektem może być podział na skupiska (klastrowanie)\n",
    "    * ekspert może określić klasy dla skupisk\n",
    "  * może być wstępem do uczenia nadzorowanego\n",
    "    * dane __etykietowane__ są bardzo kosztowne\n",
    "    * należy wykorzystać wszystkie dostępne\n",
    "  * także uczenie połączone semi-nadzorowane\n",
    "---\n",
    "## ze wzmocnieniem (ang. reinforcement)\n",
    "  * w nadzorowanym zdefiniowana _a priori_ funkcja kosztu\n",
    "  * ale może nie być dostępna wartość _prawidłowa_\n",
    "  * niech wartością referencyjną będzie __odpowiedź środowiska__\n",
    "  * bardzo aktywnie rozwijane"
   ]
  },
  {
   "cell_type": "code",
   "execution_count": null,
   "metadata": {
    "collapsed": true
   },
   "outputs": [],
   "source": []
  },
  {
   "cell_type": "code",
   "execution_count": null,
   "metadata": {
    "collapsed": true
   },
   "outputs": [],
   "source": []
  }
 ],
 "metadata": {
  "kernelspec": {
   "display_name": "Python 3",
   "language": "python",
   "name": "python3"
  },
  "language_info": {
   "codemirror_mode": {
    "name": "ipython",
    "version": 3
   },
   "file_extension": ".py",
   "mimetype": "text/x-python",
   "name": "python",
   "nbconvert_exporter": "python",
   "pygments_lexer": "ipython3",
   "version": "3.6.2"
  }
 },
 "nbformat": 4,
 "nbformat_minor": 2
}
