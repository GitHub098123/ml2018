{
 "cells": [
  {
   "cell_type": "markdown",
   "metadata": {},
   "source": [
    "Ten notebook powinien policzyć się w około 10 sekund i zająć max 200MB RAM.\n",
    "\n",
    "Proszę potraktować wszystkie poniższe wartości liczbowe jako asserty."
   ]
  },
  {
   "cell_type": "code",
   "execution_count": 1,
   "metadata": {
    "collapsed": true
   },
   "outputs": [],
   "source": [
    "import numpy as np\n",
    "from sklearn.datasets import fetch_20newsgroups\n",
    "\n",
    "from zadania import TextMultinomialNaiveBayes"
   ]
  },
  {
   "cell_type": "code",
   "execution_count": 2,
   "metadata": {
    "collapsed": true
   },
   "outputs": [],
   "source": [
    "newsgroups_train = fetch_20newsgroups(subset='train', remove=('headers', 'footers', 'quotes'))\n",
    "newsgroups_test = fetch_20newsgroups(subset='test', remove=('headers', 'footers', 'quotes'))\n",
    "classes = newsgroups_train.target_names"
   ]
  },
  {
   "cell_type": "code",
   "execution_count": 3,
   "metadata": {
    "collapsed": true
   },
   "outputs": [],
   "source": [
    "mnb = TextMultinomialNaiveBayes(newsgroups_train.data, newsgroups_train.target)"
   ]
  },
  {
   "cell_type": "code",
   "execution_count": 4,
   "metadata": {},
   "outputs": [
    {
     "data": {
      "text/plain": [
       "(20, 18101)"
      ]
     },
     "execution_count": 4,
     "metadata": {},
     "output_type": "execute_result"
    }
   ],
   "source": [
    "mnb.likelihoods.shape"
   ]
  },
  {
   "cell_type": "code",
   "execution_count": 5,
   "metadata": {},
   "outputs": [
    {
     "data": {
      "text/plain": [
       "array([ 0.04242531,  0.05161747,  0.05223617,  0.05214778,  0.05108715,\n",
       "        0.05241294,  0.05170585,  0.05250133,  0.05285487,  0.05276648,\n",
       "        0.05303164,  0.05258971,  0.05223617,  0.05250133,  0.05241294,\n",
       "        0.05294326,  0.04825879,  0.04984974,  0.04109952,  0.03332155])"
      ]
     },
     "execution_count": 5,
     "metadata": {},
     "output_type": "execute_result"
    }
   ],
   "source": [
    "mnb.priors"
   ]
  },
  {
   "cell_type": "code",
   "execution_count": 6,
   "metadata": {},
   "outputs": [
    {
     "name": "stdout",
     "output_type": "stream",
     "text": [
      "Train accuracy:\n",
      "0.784868304755\n",
      "Test accuracy:\n",
      "0.629713223579\n"
     ]
    }
   ],
   "source": [
    "print(\"Train accuracy:\")\n",
    "print((mnb.predict(newsgroups_train.data) == newsgroups_train.target).sum() / len(newsgroups_train.data))\n",
    "print(\"Test accuracy:\")\n",
    "print((mnb.predict(newsgroups_test.data) == newsgroups_test.target).sum() / len(newsgroups_test.data))"
   ]
  },
  {
   "cell_type": "code",
   "execution_count": 7,
   "metadata": {},
   "outputs": [
    {
     "name": "stdout",
     "output_type": "stream",
     "text": [
      "[[ -2.34821918e+01  -1.83782697e+01  -9.60160085e+01  -2.00006413e+01\n",
      "   -1.31743297e+01  -2.84249276e+01  -4.14222029e+01  -2.75507673e-06\n",
      "   -1.48013537e+01  -1.80723112e+01  -3.82556804e+01  -2.66723281e+01\n",
      "   -1.49593602e+01  -1.86489806e+01  -1.60069431e+01  -1.78357853e+01\n",
      "   -2.60170485e+01  -3.05661878e+01  -2.21481748e+01  -2.81780079e+01]\n",
      " [ -2.13348490e+01  -6.57805030e-02  -8.60537242e+01  -9.53367494e+00\n",
      "   -1.37231636e+01  -8.20162159e+00  -3.44933222e+01  -1.51298179e+01\n",
      "   -2.75969252e+00  -2.77642509e+01  -3.78176919e+01  -1.59763702e+01\n",
      "   -1.23978476e+01  -1.69825772e+01  -2.22372778e+01  -2.34777830e+01\n",
      "   -2.23956752e+01  -2.09555970e+01  -1.56645831e+01  -1.82725060e+01]\n",
      " [ -2.20848673e+00  -4.27811002e+00  -5.69382483e+00  -3.61806437e+00\n",
      "   -3.51793285e+00  -4.04601748e+00  -4.03271228e+00  -4.12717815e+00\n",
      "   -3.81819873e+00  -3.43229031e+00  -4.40134560e+00  -3.95023382e+00\n",
      "   -3.77962466e+00  -3.39947332e+00  -3.68379066e+00  -1.35676930e+00\n",
      "   -3.13307225e+00  -2.78329660e+00  -2.52434988e+00  -1.86500499e+00]]\n"
     ]
    }
   ],
   "source": [
    "print(mnb.predict_logits(newsgroups_test.data[:3]))"
   ]
  },
  {
   "cell_type": "code",
   "execution_count": 8,
   "metadata": {},
   "outputs": [
    {
     "name": "stdout",
     "output_type": "stream",
     "text": [
      "[ 1.  1.  1.  1.  1.  1.  1.  1.  1.  1.  1.  1.  1.  1.  1.]\n"
     ]
    }
   ],
   "source": [
    "print(np.sum(\n",
    "    np.exp(\n",
    "        mnb.predict_logits(newsgroups_test.data[:15])),\n",
    "    axis=1))"
   ]
  },
  {
   "cell_type": "code",
   "execution_count": 9,
   "metadata": {},
   "outputs": [
    {
     "name": "stdout",
     "output_type": "stream",
     "text": [
      "alt.atheism\n",
      "basin others believe does good this reached nor administrator something incomplete the either and through definitions into gentle approach there\n",
      "\n",
      "comp.graphics\n",
      "the with have when intimidation procedure and tools expressions does 129 momentum iu particle worth uk under material appreciated card\n",
      "\n",
      "comp.os.ms-windows.misc\n",
      "w6 ax sp jz hb ax the ax ax your message ax drivers ax max ax jpl manuals get cx\n",
      "\n",
      "comp.sys.ibm.pc.hardware\n",
      "com christi thanks dx power emx bending hp example de of decreases so seas response anything way looking trapped chocolate\n",
      "\n",
      "comp.sys.mac.hardware\n",
      "offices win yuri 339 lc encode advantages not 120 option this to whatever signal can invasion to didn is order\n",
      "\n",
      "comp.windows.x\n",
      "as manipulate again for supported size why that ctrl usr of ths was there in output is selects mail be\n",
      "\n",
      "misc.forsale\n",
      "old boxes repost advice 00 email with port good amd 3n queen toward 10mb model radio deeply koufax stacks much\n",
      "\n",
      "rec.autos\n",
      "highway and loan lane carried and mckenzie future continue appropriate their had the 70 100 verge recommendation you like but\n",
      "\n",
      "rec.motorcycles\n",
      "when calibration hell was anonymous just to from will your lock from worked zaphod it advice jacket screw passengers real\n",
      "\n",
      "rec.sport.baseball\n",
      "without positive alexander of canseco than games learning road been of baseman the for militarily the with first age win\n",
      "\n",
      "rec.sport.hockey\n",
      "year twice the jagr incidents mind 73 to of you pt flames are 22 email floor is philadelphia 485 department\n",
      "\n",
      "sci.crypt\n",
      "considered prohibit of reputation criminals able aids kennedy to no my not module to input the the opinions compute than\n",
      "\n",
      "sci.electronics\n",
      "1300 all omniscience dithering driving adapter tuned numbers 512k of screen shaw it is emulator were the you up includes\n",
      "\n",
      "sci.med\n",
      "is pain from academy called not names with my pulled elastic in and it comparable and that bets to charitable\n",
      "\n",
      "sci.space\n",
      "the thoughtful 16 owner the usage off system measurement of delta is prints events it warrantee are in than are\n",
      "\n",
      "soc.religion.christian\n",
      "of her no happened appropriate treasure wrote islam sin is that the give amount you similar specific rather and and\n",
      "\n",
      "talk.politics.guns\n",
      "majority the would on are had weapons r4 is whole system by biased quoting would the signed that by mahan\n",
      "\n",
      "talk.politics.mideast\n",
      "perverse co and exactly translate allegations force area sent enemy more from together study confirmed pose because from ideas is\n",
      "\n",
      "talk.politics.misc\n",
      "we amount the program the expulsion 835 anything apparitions cite clue significantly sam administration on way or just by racist\n",
      "\n",
      "talk.religion.misc\n",
      "in frankly be friends chant he compatibility reduce the tell is don of truths strive say ignorance christian chastised you\n",
      "\n"
     ]
    }
   ],
   "source": [
    "# generujemy \"zdania\"\n",
    "\n",
    "for i in range(20):\n",
    "    print(classes[i])\n",
    "    print(mnb.generate_sentence(i, 20))\n",
    "    print(\"\")"
   ]
  },
  {
   "cell_type": "code",
   "execution_count": 10,
   "metadata": {
    "collapsed": true
   },
   "outputs": [],
   "source": [
    "def classify(sentence):\n",
    "    pred = mnb.predict_logits([sentence]).ravel()\n",
    "    for i in reversed(np.argsort(pred)):\n",
    "        print(classes[i], pred[i])    "
   ]
  },
  {
   "cell_type": "code",
   "execution_count": 11,
   "metadata": {},
   "outputs": [
    {
     "name": "stdout",
     "output_type": "stream",
     "text": [
      "alt.atheism -0.847121598696\n",
      "talk.religion.misc -1.63511649306\n",
      "sci.crypt -2.2306320615\n",
      "talk.politics.misc -2.41453468653\n",
      "soc.religion.christian -2.78071868239\n",
      "talk.politics.guns -2.90350123991\n",
      "rec.motorcycles -3.21873198448\n",
      "rec.autos -5.02425625797\n",
      "talk.politics.mideast -5.10888928076\n",
      "comp.sys.ibm.pc.hardware -6.22389232021\n",
      "comp.sys.mac.hardware -6.42986093865\n",
      "sci.electronics -6.47466758208\n",
      "sci.med -6.51628986397\n",
      "rec.sport.baseball -6.55733184864\n",
      "sci.space -6.6535904919\n",
      "comp.graphics -7.72878961156\n",
      "comp.windows.x -8.57728703879\n",
      "rec.sport.hockey -8.89104033681\n",
      "misc.forsale -11.241334379\n",
      "comp.os.ms-windows.misc -14.2859946292\n"
     ]
    }
   ],
   "source": [
    "classify(\"Naive Bayes, what do you think about this sentence?\")"
   ]
  },
  {
   "cell_type": "code",
   "execution_count": 12,
   "metadata": {},
   "outputs": [
    {
     "name": "stdout",
     "output_type": "stream",
     "text": [
      "rec.autos -0.461538829778\n",
      "rec.motorcycles -1.70403543846\n",
      "comp.sys.ibm.pc.hardware -2.69532439697\n",
      "alt.atheism -3.47039961583\n",
      "talk.religion.misc -3.85972096212\n",
      "comp.sys.mac.hardware -3.88395797673\n",
      "talk.politics.misc -4.50647523934\n",
      "misc.forsale -4.59272751406\n",
      "sci.electronics -4.65157205912\n",
      "sci.crypt -5.08206348606\n",
      "sci.med -5.58289069876\n",
      "soc.religion.christian -5.98381295005\n",
      "talk.politics.guns -6.76370283866\n",
      "rec.sport.baseball -6.8346249633\n",
      "comp.graphics -7.06457140837\n",
      "talk.politics.mideast -7.54630471573\n",
      "sci.space -8.28277966622\n",
      "rec.sport.hockey -8.38795256907\n",
      "comp.windows.x -8.62449228524\n",
      "comp.os.ms-windows.misc -15.5255409951\n"
     ]
    }
   ],
   "source": [
    "classify(\"Naive Bayes, what do you think about this brand new Porsche?\")"
   ]
  },
  {
   "cell_type": "code",
   "execution_count": 13,
   "metadata": {},
   "outputs": [
    {
     "name": "stdout",
     "output_type": "stream",
     "text": [
      "sci.electronics -0.0523848782645\n",
      "talk.politics.misc -4.08516573332\n",
      "alt.atheism -4.68482096439\n",
      "sci.crypt -4.84036183096\n",
      "talk.politics.guns -4.95048250599\n",
      "talk.religion.misc -5.28552102041\n",
      "rec.motorcycles -6.41016817622\n",
      "comp.sys.ibm.pc.hardware -6.50032865059\n",
      "rec.autos -6.9625127033\n",
      "soc.religion.christian -7.51189185746\n",
      "sci.space -9.50448436817\n",
      "comp.sys.mac.hardware -9.62909060035\n",
      "rec.sport.baseball -9.93824023147\n",
      "comp.graphics -10.1211191657\n",
      "talk.politics.mideast -10.2419887833\n",
      "sci.med -10.7006424102\n",
      "rec.sport.hockey -13.0020106279\n",
      "comp.windows.x -13.0052026226\n",
      "misc.forsale -14.3083838171\n",
      "comp.os.ms-windows.misc -16.5836162733\n"
     ]
    }
   ],
   "source": [
    "classify(\"Naive circuit Bayes, what do you think about circuit this sentence?\")"
   ]
  },
  {
   "cell_type": "code",
   "execution_count": 14,
   "metadata": {},
   "outputs": [
    {
     "name": "stdout",
     "output_type": "stream",
     "text": [
      "rec.sport.hockey -2.93686652069\n",
      "soc.religion.christian -2.93853457779\n",
      "rec.motorcycles -2.94020542195\n",
      "rec.sport.baseball -2.94187906251\n",
      "sci.crypt -2.94523477036\n",
      "sci.med -2.94691685654\n",
      "rec.autos -2.94691685654\n",
      "sci.space -2.94860177691\n",
      "comp.windows.x -2.94860177691\n",
      "sci.electronics -2.9519801585\n",
      "comp.os.ms-windows.misc -2.9519801585\n",
      "comp.sys.ibm.pc.hardware -2.953673639\n",
      "misc.forsale -2.96218432867\n",
      "comp.graphics -2.96389519307\n",
      "comp.sys.mac.hardware -2.97422230723\n",
      "talk.politics.mideast -2.99874192441\n",
      "talk.politics.guns -3.03117720016\n",
      "alt.atheism -3.160010072\n",
      "talk.politics.misc -3.19175877032\n",
      "talk.religion.misc -3.40155098846\n"
     ]
    }
   ],
   "source": [
    "classify(\"\")"
   ]
  }
 ],
 "metadata": {
  "kernelspec": {
   "display_name": "Python 3",
   "language": "python",
   "name": "python3"
  },
  "language_info": {
   "codemirror_mode": {
    "name": "ipython",
    "version": 3
   },
   "file_extension": ".py",
   "mimetype": "text/x-python",
   "name": "python",
   "nbconvert_exporter": "python",
   "pygments_lexer": "ipython3",
   "version": "3.6.3"
  }
 },
 "nbformat": 4,
 "nbformat_minor": 2
}
