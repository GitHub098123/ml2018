{
 "cells": [
  {
   "cell_type": "markdown",
   "metadata": {
    "collapsed": true
   },
   "source": [
    "# Zadanie 5\n",
    "\n",
    "Zaimplementować klasę `LogisticRegression` w wersji dwuklasowej z użyciem funkcji sigmoid, binarnej crossentropii i regularyzacji L2 na wagach. \n",
    "\n",
    "Uczenie ma przebiegać iteracyjnie z wykorzystaniem jednego ze znanych Wam optimizerów. Możecie zmienić API optimizerów z zadania 1, jeśli tak będzie wygodniej. Jednak nie można użyć jawnego wzoru na rozwiązanie. Należy za to użyć wzoru na pochodną funkcji kosztu po wagach.\n",
    "\n",
    "Uczenie może przebiegać w batchach lub nie.\n",
    "\n",
    "`__init__` przyjmuje dwa parametry:\n",
    "* `X` - tablica o rozmiarze (liczba_obserwacji, liczba_cech),\n",
    "* `y` - tablica o rozmiarze (liczba_obserwacji, 1), wartości muszą być równe 0 lub 1\n",
    "\n",
    "i uczy na tych danych model regresji logistycznej. `__init__` może przyjmować też dodatkowe parametry (w razie potrzeb), ale w takiej sytuacji proszę podać im domyślne wartości w definicji klasy, żeby notebook 7a działał.\n",
    "\n",
    "Nauczony model posiada metodę `predict_proba`, która przyjmuje tablicę obserwacji `X` o rozmiarze (liczba_obserwacji_testowych, liczba_cech) i zwraca tablicę o rozmiarze (liczba_obserwacji_testowych, 2), gdzie każdy wiersz jest postaci [p(class=0|x), p(class=1|x)]. Wzór $\\sigma(w\\cdot x + b)$ ma modelować prawdopodobieństwo klasy numer 1.\n",
    "\n",
    "Atrybuty:\n",
    "* `w` - wektor o rozmiarze (liczba_cech,) zawierający nauczone współczynniki regresji logistycznej,\n",
    "* `b` - wektor o rozmiarze (1,) zawierający nauczony bias.\n",
    "\n",
    "W razie wątpliwości w notebooku 7a znajduje się rozwiązanie tego zadania, które korzysta z implementacji z pakietu scikit-learn - można użyć go jako rozwiązania wzorcowego (prawdopodobnie będzie działało istotnie szybciej).\n",
    "\n",
    "Oczywiście Wasze rozwiązania nie mogą używać scikit-learna ani żadnej innej gotowej implementacji części lub całości algorytmu uczenia regresji logistycznej."
   ]
  }
 ],
 "metadata": {
  "kernelspec": {
   "display_name": "Python 3",
   "language": "python",
   "name": "python3"
  },
  "language_info": {
   "codemirror_mode": {
    "name": "ipython",
    "version": 3
   },
   "file_extension": ".py",
   "mimetype": "text/x-python",
   "name": "python",
   "nbconvert_exporter": "python",
   "pygments_lexer": "ipython3",
   "version": "3.6.3"
  }
 },
 "nbformat": 4,
 "nbformat_minor": 2
}
