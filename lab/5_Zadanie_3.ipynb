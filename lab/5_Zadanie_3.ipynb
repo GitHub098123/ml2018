{
 "cells": [
  {
   "cell_type": "markdown",
   "metadata": {
    "collapsed": true
   },
   "source": [
    "# Zadanie 3\n",
    "\n",
    "Zaimplementować klasę `BayesianDensityEstimator` - Bayesowki estymator rozkładu prawdopodobieństwa obserwowanych danych.\n",
    "\n",
    "Do estymowania gęstości będziemy używali sparametryzowanej rodziny rozkładów prawdopodobieństwa:\n",
    "* `distr_cls` - klasa, która modeluje rozkład prawdopodobieństwa (proszę zajrzeć do notebooka 5a i zapoznać się z klasą `Distribution`, do rozwiązania tego zadania niezbędne będzie użycie metody `pdf`),\n",
    "* `params` - tablica o rozmiarze (liczba_rozkładów, długość_pojedynczego_wektora_parametrów) - z uwagi na ograniczenia praktyczne nasza sparametryzowana rodzina rozkładów musi być skończona, tu podajemy wszystkie parametry, które chcemy wziąć pod uwagę,\n",
    "* `prior` - tablica o rozmiarze (liczba_rozkładów,), rozkład a priori na parametrach `params`.\n",
    "\n",
    "Ponadto należy zaimplementować trzy metody:\n",
    "* `likelihood(obs)` - `obs` to tablica obserwacji o rozmiarze (liczba_obserwacji, długość_wektora_danych), metoda ma zwrócić łączny likelihood wszystkich obserwacji w tablicy o rozmiarze (liczba_rozkładów,); ta metoda nie modyfikuje instancji estymatora,\n",
    "* `observe(obs)` - `obs` to tablica obserwacji o rozmiarze (liczba_obserwacji, długość_wektora_danych), metoda nic nie zwraca, ale ma za zadanie zmodyfikować aktualny rozkład a posteriori trzymany w instancji estymatora,\n",
    "* `ppd(x)` - `x` to tablica o rozmiarze (liczba_xów, długość wektora danych), metoda ma zwrócić aktualny Posterior Predictive Distribution na danych `x`, czyli tablicę o wymiarze (liczba_xów,).\n",
    "\n",
    "Dostęp do aktualnego rozkładu a posteriori powinien odbywać się poprzez atrybut `posterior`, trzymana jest tam tablica o rozmiarze (liczba_rozkładów,).\n",
    "\n",
    "Klasa ma być zaimplementowana tak, aby metodę `observe` dało się wywoływać wielokrotnie w celu kontynuowania uczenia.\n",
    "\n",
    "Wszystkie obliczenia należy wykonać wprost, bez korzystania z gotowych wzorów np. na gaussowski rozkład a posteriori. Jedynym potrzebnym wzorem jest wzór Bayesa i wynikający z niego wzór na PPD.\n",
    "\n",
    "Przypomnienie wzoru na PPD (trzeba się zastanowić, gdzie tu wstawić `x`, a gdzie `obs`):\n",
    "$$\\begin{align}\n",
    "p(x_{N+1}\\mid D)\n",
    "=&p(x_{N+1}\\mid\\theta=\\theta^1)p(\\theta=\\theta^1\\mid D) + \\ldots\\\\ &+p(x_{N+1}\\mid\\theta=\\theta^T)p(\\theta=\\theta^T\\mid D)\\\\\n",
    "=&\\sum_{t=1}^T p(x_{N+1}\\mid\\theta=\\theta^t)p(\\theta=\\theta^t\\mid D)\n",
    "\\end{align}$$\n",
    "\n",
    "Rozwiązanie wymaga napisania około 15 linijek kodu."
   ]
  }
 ],
 "metadata": {
  "kernelspec": {
   "display_name": "Python 3",
   "language": "python",
   "name": "python3"
  },
  "language_info": {
   "codemirror_mode": {
    "name": "ipython",
    "version": 3
   },
   "file_extension": ".py",
   "mimetype": "text/x-python",
   "name": "python",
   "nbconvert_exporter": "python",
   "pygments_lexer": "ipython3",
   "version": "3.6.3"
  }
 },
 "nbformat": 4,
 "nbformat_minor": 2
}
