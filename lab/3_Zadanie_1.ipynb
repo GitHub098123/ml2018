{
 "cells": [
  {
   "cell_type": "markdown",
   "metadata": {
    "collapsed": true
   },
   "source": [
    "### Zadanie\n",
    "\n",
    "Zaimplementować następujące optimizery:\n",
    "\n",
    "* Gradient Descent,\n",
    "* Momentum,\n",
    "* Nesterov,\n",
    "* Adam.\n",
    "\n",
    "Optimizer powinien być zaimplementowany jako pythonowy generator. Sygnatura zdefiniowana jest w katalogu `template`. Przykładowe optimizery można obejrzeć w pliku `lab3/__init__.py`.\n",
    "\n",
    "Proszę użyć wzorów z:\n",
    "\n",
    "http://ruder.io/optimizing-gradient-descent/index.html"
   ]
  }
 ],
 "metadata": {
  "kernelspec": {
   "display_name": "Python 3",
   "language": "python",
   "name": "python3"
  },
  "language_info": {
   "codemirror_mode": {
    "name": "ipython",
    "version": 3
   },
   "file_extension": ".py",
   "mimetype": "text/x-python",
   "name": "python",
   "nbconvert_exporter": "python",
   "pygments_lexer": "ipython3",
   "version": "3.6.2"
  }
 },
 "nbformat": 4,
 "nbformat_minor": 2
}
