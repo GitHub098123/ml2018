{
 "cells": [
  {
   "cell_type": "markdown",
   "metadata": {
    "collapsed": true
   },
   "source": [
    "# Zadanie 11\n",
    "\n",
    "Zaimplementować metody `actions` oraz `update` w klasie `SimpleLogisticAgent`.\n",
    "\n",
    "Instancja klasy `SimpleLogisticAgent` to agent, który wykonuje akcje zgodnie z rozkładem prawdopodobieństwa zwracanym przez model regresji logistycznej oraz uczy się przy założeniu, że długość epizodu jest równa 1.\n",
    "\n",
    "Tym razem uczenie __nie__ przebiega wewnątrz `__init__` - tam odbywa się jedynie inicjalizacja parametrów modelu. Każda pojedyncza modyfikacja parametrów wymaga uruchomienia metody `update`.\n",
    "\n",
    "Metoda `actions` przyjmuje tablicę $X$ o wymiarach (liczba_obserwacji, `self.n_features`) i zwraca tablicę wylosowanych akcji o wymiarze (liczba_obserwacji,). Losowanie należy wykonać przy użyciu `self.rng`.\n",
    "\n",
    "Metoda `update` przyjmuje:\n",
    "* tablicę `X` o wymiarach (liczba_obserwacji, `self.n_features`),\n",
    "* tablicę akcji `actions` o wymiarze (liczba_obserwacji,), które agent wykonał po zaobserwowaniu tablicy `X`,\n",
    "* tablicę nagród `rewards` o wymiarze (liczba_obserwacji,), które zwróciło środowisko\n",
    "\n",
    "i nic nie zwraca. Zakładamy, że każdy wiersz tabeli `X` stanowi pojedynczy epizod o długości 1. Innymi słowy tutaj __liczba_obserwacji to tak naprawdę liczba_epizodów__. Zadaniem tej metody jest policzyć gradient średniej nagrody:\n",
    "\n",
    "$$\\begin{align}\n",
    "\\dfrac{\\partial\\upsilon(w,b)}{\\partial w} &= \\underset{x\\sim p}{\\mathbb{E}}\\ \\underset{a\\sim\\pi_{w,b}(x)}{\\mathbb{E}}\\dfrac{\\partial(\\ln\\pi_{w,b}(x)(a))}{\\partial w}\\cdot r(a) \\\\\n",
    "\\dfrac{\\partial\\upsilon(w,b)}{\\partial b} &= \\underset{x\\sim p}{\\mathbb{E}}\\ \\underset{a\\sim\\pi_{w,b}(x)}{\\mathbb{E}}\\dfrac{\\partial(\\ln\\pi_{w,b}(x)(a))}{\\partial b}\\cdot r(a)\n",
    "\\end{align}$$\n",
    "\n",
    "estymując powyższe wzory przy użyciu `X`, `actions` oraz `rewards` (uśredniając po wszystkich obserwacjach) i na końcu uaktualnić parametry regresji logistycznej algorytmem gradient ascent z użyciem `self.learning_rate`."
   ]
  }
 ],
 "metadata": {
  "kernelspec": {
   "display_name": "Python 3",
   "language": "python",
   "name": "python3"
  },
  "language_info": {
   "codemirror_mode": {
    "name": "ipython",
    "version": 3
   },
   "file_extension": ".py",
   "mimetype": "text/x-python",
   "name": "python",
   "nbconvert_exporter": "python",
   "pygments_lexer": "ipython3",
   "version": "3.6.3"
  }
 },
 "nbformat": 4,
 "nbformat_minor": 2
}
