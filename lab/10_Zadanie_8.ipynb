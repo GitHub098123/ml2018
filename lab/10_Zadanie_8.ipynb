{
 "cells": [
  {
   "cell_type": "markdown",
   "metadata": {
    "collapsed": true
   },
   "source": [
    "# Zadanie 8\n",
    "\n",
    "Zaimplementować Random Forest, używając drzew z poprzedniego zadania - to oznacza w szczególności, że w rozwiązaniu Zadania 8 nie można umieścić kodu, który zajmuje się trenowaniem pojedynczego drzewa; ten kod należy zaimportować z Zadania 7.\n",
    "\n",
    "Uczenie musi być zaimplementowane wielowątkowo (w jednym wątku uczy się jedno drzewo).\n",
    "\n",
    "`__init__` przyjmuje parametry:\n",
    "* `X` - tablica feature'ów o rozmiarze (liczba_obserwacji, liczba_feature'ów),\n",
    "* `y` - tablica etykiet o rozmiarze (liczba_obserwacji,),\n",
    "* `n_trees` - liczba drzew,\n",
    "* pozostałe parametry wymagane do uczenia drzew,\n",
    "* `n_jobs` - liczba wątków.\n",
    "\n",
    "Klasa implementuje następujące metody:\n",
    "* `predict` - przyjmuje tablicę typu `X`, zwraca predykcje w tablicy typu `y`.\n",
    "\n",
    "Wielowątkowość w Pythonie 3 można zaimplementować na kilka sposobów:\n",
    "\n",
    "https://docs.python.org/3/library/concurrency.html\n",
    "\n",
    "Prawie wszystkie z tych funkcji __nie__ przydadzą się w niniejszym zadaniu, ale warto na przyszłość wiedzieć o ich istnieniu. Być może najłatwiej tu będzie użyć:\n",
    "\n",
    "https://docs.python.org/3/library/multiprocessing.html#using-a-pool-of-workers\n",
    "\n",
    "(polecam też poszukać w google/stackoverflow wskazówek, jak sensownie pisać wielowątkowy kod w Pythonie 3)."
   ]
  }
 ],
 "metadata": {
  "kernelspec": {
   "display_name": "Python 3",
   "language": "python",
   "name": "python3"
  },
  "language_info": {
   "codemirror_mode": {
    "name": "ipython",
    "version": 3
   },
   "file_extension": ".py",
   "mimetype": "text/x-python",
   "name": "python",
   "nbconvert_exporter": "python",
   "pygments_lexer": "ipython3",
   "version": "3.6.3"
  }
 },
 "nbformat": 4,
 "nbformat_minor": 2
}
