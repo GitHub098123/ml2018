{
 "cells": [
  {
   "cell_type": "markdown",
   "metadata": {},
   "source": [
    "#1. W katalogu, w którym jesteśmy, należy stworzyć katalog o nazwie `Nazwisko` bez polskich/ukraińskich znaków (np. `~/ml2018/lab/Lesniak`) - w tym katalogu należy umieszczać rozwiązania zadań.\n",
    "\n",
    "#1a. Jeśli dwie osoby w grupie nazywają się tak samo, proszę stworzyć katalog `Nazwisko_Imie` (np. `~/ml2018/lab/Lesniak_Damian`).\n",
    "\n",
    "#2. Katalog `Nazwisko` musi mieć taką samą strukturę, jak katalog `zadania/template`. Plik `__init__.py` pozwala importować kod z tego katalogu. Plik `zadaniex.py` ma zawierać rozwiązanie zadania o numerze $x$.\n",
    "\n",
    "#3. Należy ustawić zmienną środowiskową `ML2018NAME` - powinna ona zawierać nazwę katalogu `Nazwisko`, np.:\n",
    "\n",
    "`export ML2018NAME=\"Lesniak\"`\n",
    "\n",
    "Osoby korzystające z minicondy mogą ustawić automatyczne exportowanie:\n",
    "\n",
    "https://conda.io/docs/user-guide/tasks/manage-environments.html#saving-environment-variables\n",
    "\n",
    "#4. Rozwiązania należy przesyłać w następujący sposób:\n",
    "\n",
    "Grupa Damiana Leśniaka:\n",
    "\n",
    "Za każdym razem należy spakować __cały__ katalog `Nazwisko`, do pakowania należy użyć tar + gzip, np.:\n",
    "\n",
    "`tar zcvf Lesniak.tar.gz Lesniak`\n",
    "\n",
    "a następnie spakowany katalog przesłać na mój adres e-mail\n",
    "\n",
    "---\n",
    "Grupa dra Igora Podolaka:\n",
    "\n",
    "1. Zadania mają być oddawane na serwis Pegaza. \n",
    "2. Proszę o pakowanie zadań analogicznie jak wyżej __wraz__ z wszystkimi wcześniejszymi. Proszę kopiować wykorzystując tar i gzip, albo zip-em.\n",
    "3. Jeśli ktoś nie oddał któregoś zadania, to może wkopiować rozwiązanie \"wzorcowe\" z kartoteki ml2018/lab/zadania/rozwiazania. Jeśli ktoś rozwiązał je w międzyczasie lepiej, też może wkopiować nową wersję. Oczywiście zadania poprzednie nie będą oceniane na nowo.\n",
    "4. Jedna __różnica__: proszę nie ustawia\n"
   ]
  }
 ],
 "metadata": {
  "kernelspec": {
   "display_name": "Python 3",
   "language": "python",
   "name": "python3"
  },
  "language_info": {
   "codemirror_mode": {
    "name": "ipython",
    "version": 3
   },
   "file_extension": ".py",
   "mimetype": "text/x-python",
   "name": "python",
   "nbconvert_exporter": "python",
   "pygments_lexer": "ipython3",
   "version": "3.6.2"
  }
 },
 "nbformat": 4,
 "nbformat_minor": 2
}
