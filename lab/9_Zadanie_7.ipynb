{
 "cells": [
  {
   "cell_type": "markdown",
   "metadata": {
    "collapsed": true
   },
   "source": [
    "# Zadanie 7\n",
    "\n",
    "Zajrzyjmy najpierw tu: https://machinelearningmastery.com/implement-decision-tree-algorithm-scratch-python/\n",
    "\n",
    "Zaimplementować drzewo decyzyjne. Można \"ideowo\" wzorować się na kodzie z powyższego linku. Wybrać i zaimplementować przynajmniej 2 z 4 modyfikacji przedstawionych pod koniec artykułu:\n",
    "\n",
    "* Cross Entropy. Another cost function for evaluating splits is cross entropy (logloss). You could implement and experiment with this alternative cost function.\n",
    "* Tree Pruning. An important technique for reducing overfitting of the training dataset is to prune the trees. Investigate and implement tree pruning methods.\n",
    "* Categorical Dataset. The example was designed for input data with numerical or ordinal input attributes, experiment with categorical input data and splits that may use equality instead of ranking.\n",
    "* Regression. Adapt the tree for regression using a different cost function and method for creating terminal nodes.\n",
    "\n",
    "`__init__` przyjmuje parametry:\n",
    "* `X` - tablica feature'ów o rozmiarze (liczba_obserwacji, liczba_feature'ów),\n",
    "* `y` - tablica etykiet o rozmiarze (liczba_obserwacji,),\n",
    "* `max_depth` - maksymalna głębokość drzewa (None == nieograniczona),\n",
    "* `min_size` - minimalna liczba sampli potrzebnych do wykonania splitu.\n",
    "\n",
    "W razie potrzeby można dodać inne hiperparametry.\n",
    "\n",
    "Klasa implementuje następujące metody:\n",
    "* `predict` - przyjmuje tablicę typu `X`, zwraca predykcje w tablicy typu `y`,\n",
    "* `__str__` - zwraca strukturę nauczonego drzewa jako string; w jakiejkolwiek formie, byle czytelnie (ew. można zastąpić tą metodę czymś na kształt http://scikit-learn.org/stable/modules/generated/sklearn.tree.export_graphviz.html , tzn. zwrócić drzewo w formie grafu)\n",
    "\n"
   ]
  }
 ],
 "metadata": {
  "kernelspec": {
   "display_name": "Python 3",
   "language": "python",
   "name": "python3"
  },
  "language_info": {
   "codemirror_mode": {
    "name": "ipython",
    "version": 3
   },
   "file_extension": ".py",
   "mimetype": "text/x-python",
   "name": "python",
   "nbconvert_exporter": "python",
   "pygments_lexer": "ipython3",
   "version": "3.6.1"
  }
 },
 "nbformat": 4,
 "nbformat_minor": 2
}
