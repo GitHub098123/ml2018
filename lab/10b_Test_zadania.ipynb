{
 "cells": [
  {
   "cell_type": "code",
   "execution_count": 1,
   "metadata": {
    "scrolled": true
   },
   "outputs": [],
   "source": [
    "from sklearn.ensemble import RandomForestClassifier\n",
    "from sklearn.metrics import accuracy_score as acc\n",
    "\n",
    "from datasets import get_dataset, list_datasets, train_test_split\n",
    "from zadania import RandomForest"
   ]
  },
  {
   "cell_type": "code",
   "execution_count": 2,
   "metadata": {
    "scrolled": true
   },
   "outputs": [
    {
     "name": "stdout",
     "output_type": "stream",
     "text": [
      "balance-scale {'X': 'categorical (ordered)', 'y': 'categorical (ordered)'}\n",
      "banknote {'X': 'continuous', 'y': 'categorical'}\n",
      "car {'X': 'categorical (ordered)', 'y': 'categorical (ordered)'}\n",
      "iris {'X': 'continuous', 'y': 'categorical'}\n",
      "wine {'X': 'mixed', 'y': 'continuous'}\n"
     ]
    }
   ],
   "source": [
    "balance = get_dataset(\"balance-scale\")\n",
    "banknote = get_dataset(\"banknote\")\n",
    "iris = get_dataset(\"iris\")\n",
    "car = get_dataset(\"car\")\n",
    "\n",
    "for name in list_datasets():\n",
    "    print(name, get_dataset(name).dtypes)"
   ]
  },
  {
   "cell_type": "code",
   "execution_count": 3,
   "metadata": {
    "collapsed": true,
    "scrolled": true
   },
   "outputs": [],
   "source": [
    "class RFC:\n",
    "    def __init__(self, X, y, n_estimators=250, n_jobs=4, criterion=\"entropy\", max_depth=None, min_samples_split=2):\n",
    "        self.m = RandomForestClassifier(\n",
    "            n_estimators=n_estimators,\n",
    "            criterion=criterion,\n",
    "            n_jobs=n_jobs,\n",
    "            max_depth=max_depth,\n",
    "            min_samples_split=min_samples_split)\n",
    "        self.m.fit(X, y)\n",
    "    def predict(self, X):\n",
    "        return self.m.predict(X)"
   ]
  },
  {
   "cell_type": "code",
   "execution_count": 4,
   "metadata": {
    "collapsed": true,
    "scrolled": true
   },
   "outputs": [],
   "source": [
    "def eval(model_cls, model_kwargs, dataset, fn_score):\n",
    "    split = train_test_split(dataset)\n",
    "    model = model_cls(split.train.X, split.train.y, **model_kwargs)\n",
    "    score = {\n",
    "        \"train\": fn_score(split.train.y, model.predict(split.train.X)),\n",
    "        \"test\": fn_score(split.test.y, model.predict(split.test.X)),\n",
    "    }\n",
    "    return {\n",
    "        \"split\": split,\n",
    "        \"model\": model,\n",
    "        \"score\": score\n",
    "    }"
   ]
  },
  {
   "cell_type": "code",
   "execution_count": 5,
   "metadata": {
    "scrolled": false
   },
   "outputs": [
    {
     "name": "stdout",
     "output_type": "stream",
     "text": [
      "sklearn RFC {'train': 1.0, 'test': 0.83957219251336901}\n",
      "RandomForest: {'train': 0.99315068493150682, 'test': 0.85561497326203206}\n"
     ]
    }
   ],
   "source": [
    "dataset = balance\n",
    "#dataset = banknote\n",
    "#dataset = car\n",
    "#dataset = iris\n",
    "\n",
    "print(\"sklearn RFC\", eval(\n",
    "    RFC,\n",
    "    {\n",
    "        \"n_estimators\": 250,\n",
    "        \"n_jobs\": 4,\n",
    "        \"max_depth\": None,\n",
    "        \"min_samples_split\": 2,\n",
    "        \"criterion\": \"entropy\"},\n",
    "    dataset,\n",
    "    acc)[\"score\"])\n",
    "evaluated = eval(RandomForest, {\"n_trees\": 250, \"n_jobs\": 4}, dataset, acc)\n",
    "print(\"RandomForest:\", evaluated[\"score\"])"
   ]
  }
 ],
 "metadata": {
  "kernelspec": {
   "display_name": "Python 3",
   "language": "python",
   "name": "python3"
  },
  "language_info": {
   "codemirror_mode": {
    "name": "ipython",
    "version": 3
   },
   "file_extension": ".py",
   "mimetype": "text/x-python",
   "name": "python",
   "nbconvert_exporter": "python",
   "pygments_lexer": "ipython3",
   "version": "3.6.3"
  }
 },
 "nbformat": 4,
 "nbformat_minor": 2
}
