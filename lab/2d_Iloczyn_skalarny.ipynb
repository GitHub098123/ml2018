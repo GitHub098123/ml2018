{
 "cells": [
  {
   "cell_type": "markdown",
   "metadata": {},
   "source": [
    "### Iloczyn skalarny\n",
    "\n",
    "$v = (v_1, v_2, \\ldots, v_n)$\n",
    "\n",
    "$w = (w_1, w_2, \\ldots, w_n)$\n",
    "\n",
    "$<v,w> = v_1w_1 + v_2w_2 + \\ldots + v_nw_n$\n",
    "\n",
    "równoważnie\n",
    "\n",
    "$<v,w> = \\|v\\| \\cdot \\|w\\| \\cdot \\cos(\\angle(v,w))$\n",
    "\n",
    "Jeśli np. $v$ ma długość $1$, to $<v,w>$ jest __długością__ rzutu $w$ na kierunek $v$."
   ]
  },
  {
   "cell_type": "markdown",
   "metadata": {},
   "source": [
    "### Zadanie (niepunktowane)\n",
    "\n",
    "Mamy trzy wektory w $\\mathbb{R}^3$:\n",
    "* $a = (1,1,1)$,\n",
    "* $b = (1,3,2)$,\n",
    "* $c = (0,0,6)$.\n",
    "\n",
    "Chcemy jak najlepiej (w sensie euklidesowym) przybliżyć wektor $c$ przy pomocy wektorów $a$ i $b$. Oznacza to znalezienie takich $\\alpha$ i $\\beta$, które minimalizują:\n",
    "\n",
    "$f(\\alpha, \\beta) = \\|\\alpha a + \\beta b - c\\|^2$\n",
    "\n",
    "(kwadrat jest po to, żeby łatwiej się liczyło pochodne). Znaleźć takie optymalne parametry poprzez przyrównanie pochodnych cząstkowych $\\dfrac{\\partial f}{\\partial\\alpha}$ i $\\dfrac{\\partial f}{\\partial\\beta}$ do zera. Sprawdzić, że to najlepsze przybliżenie jest rzutem prostopadłym wierzchołka wektora $c$ na płaszczyznę rozpinaną przez $a$ i $b$ (jak przy pomocy iloczynu skalarnego sprawdzić, że mamy tam (gdzie? wykonać rysunek) kąt prosty?)."
   ]
  }
 ],
 "metadata": {
  "kernelspec": {
   "display_name": "Python 3",
   "language": "python",
   "name": "python3"
  },
  "language_info": {
   "codemirror_mode": {
    "name": "ipython",
    "version": 3
   },
   "file_extension": ".py",
   "mimetype": "text/x-python",
   "name": "python",
   "nbconvert_exporter": "python",
   "pygments_lexer": "ipython3",
   "version": "3.6.2"
  }
 },
 "nbformat": 4,
 "nbformat_minor": 2
}
