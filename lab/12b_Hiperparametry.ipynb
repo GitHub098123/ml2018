{
 "cells": [
  {
   "cell_type": "code",
   "execution_count": 1,
   "metadata": {
    "collapsed": true
   },
   "outputs": [],
   "source": [
    "from zadania import random_grid_search"
   ]
  },
  {
   "cell_type": "code",
   "execution_count": 2,
   "metadata": {
    "collapsed": true
   },
   "outputs": [],
   "source": [
    "hyperparams_list = [\n",
    "    {\"n_neighbors\": 1},\n",
    "    {\"n_neighbors\": 2},\n",
    "    {\"n_neighbors\": 3},\n",
    "    {\"n_neighbors\": 5},\n",
    "    {\"n_neighbors\": 8},\n",
    "    {\"n_neighbors\": 13},\n",
    "]"
   ]
  },
  {
   "cell_type": "code",
   "execution_count": 3,
   "metadata": {},
   "outputs": [
    {
     "name": "stdout",
     "output_type": "stream",
     "text": [
      "{'n_neighbors': 13}\n",
      "{'n_neighbors': 3}\n",
      "{'n_neighbors': 2}\n",
      "{'n_neighbors': 5}\n",
      "{'n_neighbors': 1}\n",
      "{'n_neighbors': 8}\n"
     ]
    }
   ],
   "source": [
    "hyperparams_grid = {\n",
    "    \"n_neighbors\": [1,2,3,5,8,13],\n",
    "}\n",
    "for h in random_grid_search(hyperparams_grid):\n",
    "    print(h)"
   ]
  },
  {
   "cell_type": "code",
   "execution_count": 4,
   "metadata": {},
   "outputs": [
    {
     "name": "stdout",
     "output_type": "stream",
     "text": [
      "{'criterion': 'entropy', 'max_depth': 6, 'max_leaf_nodes': 32}\n",
      "{'criterion': 'entropy', 'max_depth': 12, 'max_leaf_nodes': 512}\n",
      "{'criterion': 'entropy', 'max_depth': 6, 'max_leaf_nodes': 256}\n",
      "{'criterion': 'entropy', 'max_depth': 3, 'max_leaf_nodes': None}\n",
      "{'criterion': 'gini', 'max_depth': 6, 'max_leaf_nodes': None}\n",
      "{'criterion': 'gini', 'max_depth': 3, 'max_leaf_nodes': 1024}\n",
      "{'criterion': 'entropy', 'max_depth': None, 'max_leaf_nodes': 32}\n",
      "{'criterion': 'gini', 'max_depth': None, 'max_leaf_nodes': 256}\n",
      "{'criterion': 'entropy', 'max_depth': 3, 'max_leaf_nodes': 1024}\n",
      "{'criterion': 'gini', 'max_depth': 3, 'max_leaf_nodes': None}\n",
      "{'criterion': 'entropy', 'max_depth': 24, 'max_leaf_nodes': None}\n",
      "{'criterion': 'gini', 'max_depth': 12, 'max_leaf_nodes': 512}\n",
      "{'criterion': 'entropy', 'max_depth': 24, 'max_leaf_nodes': 32}\n",
      "{'criterion': 'entropy', 'max_depth': 6, 'max_leaf_nodes': 64}\n",
      "{'criterion': 'gini', 'max_depth': 12, 'max_leaf_nodes': 1024}\n",
      "{'criterion': 'gini', 'max_depth': 12, 'max_leaf_nodes': 32}\n",
      "{'criterion': 'gini', 'max_depth': 24, 'max_leaf_nodes': 1024}\n",
      "{'criterion': 'entropy', 'max_depth': 24, 'max_leaf_nodes': 512}\n",
      "{'criterion': 'gini', 'max_depth': None, 'max_leaf_nodes': 1024}\n",
      "{'criterion': 'entropy', 'max_depth': 3, 'max_leaf_nodes': 512}\n"
     ]
    }
   ],
   "source": [
    "hyperparams_grid = {\n",
    "    \"criterion\": [\"gini\", \"entropy\"],\n",
    "    \"max_depth\": [3, 6, 12, 24, None],\n",
    "    \"max_leaf_nodes\": [32, 64, 128, 256, 512, 1024, None]\n",
    "}\n",
    "for h in random_grid_search(hyperparams_grid, n=20, seed=43):\n",
    "    print(h)"
   ]
  }
 ],
 "metadata": {
  "kernelspec": {
   "display_name": "Python 3",
   "language": "python",
   "name": "python3"
  },
  "language_info": {
   "codemirror_mode": {
    "name": "ipython",
    "version": 3
   },
   "file_extension": ".py",
   "mimetype": "text/x-python",
   "name": "python",
   "nbconvert_exporter": "python",
   "pygments_lexer": "ipython3",
   "version": "3.6.3"
  }
 },
 "nbformat": 4,
 "nbformat_minor": 2
}
