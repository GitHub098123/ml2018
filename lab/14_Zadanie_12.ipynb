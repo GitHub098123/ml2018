{
 "cells": [
  {
   "cell_type": "markdown",
   "metadata": {
    "collapsed": true
   },
   "source": [
    "# Zadanie 12\n",
    "\n",
    "Zaimplementować metodę `episode` w klasie `AgentTrainer`.\n",
    "Zaimplementować metody `actions` oraz `update` w klasie `LogisticAgent`.\n",
    "\n",
    "\n",
    "### Metoda `AgentTrainer.episode`\n",
    "\n",
    "Jej zadaniem jest wygenerowanie pojedynczego epizodu przy użyciu agenta `self.agent` oraz środowiska `self.env`.\n",
    "\n",
    "Argumenty:\n",
    "* `n_steps` - (maksymalna) liczba kroków do wykonania\n",
    "* `break_if_done` - jeśli `True`, to wykonanie pętli należy przerwać natychmiast po zwróceniu przez środowisko informacji, że epizod się zakończył (`done == True`),\n",
    "* `show` - jeśli `True`, to po każdym kroku należy wyrenderować środowisko, a na koniec wywołania metody zamknąć okno.\n",
    "\n",
    "Metoda zwraca słownik, który zawiera:\n",
    "* \"observations\" - tablica o wymiarach (liczba_wykonanych_akcji, rozmiar_obserwacji) zawierająca wszystkie poza ostatnią obserwacje z danego epizodu,\n",
    "* \"actions\" - tablica o wymiarach (liczba_wykonanych_akcji,) zawierająca wszystkie wykonane akcje,\n",
    "* \"rewards\" - tablica o wymiarach (liczba_wykonanych_akcji,) zawierająca wszystkie otrzymane nagrody.\n",
    "\n",
    "### Metoda `LogisticAgent.actions`\n",
    "\n",
    "Ma działać jak w Zadaniu 11.\n",
    "\n",
    "### Metoda `LogisticAgent.update`\n",
    "\n",
    "Metoda przyjmuje słownik `episode` zwrócony przez metodę `AgentTrainer.episode` i wykonuje jeden update parametrów zgodnie ze wzorem podanym na wykładzie (jeśli będzie wprowadzony parametr `gamma`, to można ustawić go na 1, czyli zaniedbać) używając danych ze słownika `episode` oraz `self.learning_rate`."
   ]
  }
 ],
 "metadata": {
  "kernelspec": {
   "display_name": "Python 3",
   "language": "python",
   "name": "python3"
  },
  "language_info": {
   "codemirror_mode": {
    "name": "ipython",
    "version": 3
   },
   "file_extension": ".py",
   "mimetype": "text/x-python",
   "name": "python",
   "nbconvert_exporter": "python",
   "pygments_lexer": "ipython3",
   "version": "3.6.3"
  }
 },
 "nbformat": 4,
 "nbformat_minor": 2
}
