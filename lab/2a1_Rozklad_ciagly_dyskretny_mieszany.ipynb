{
 "cells": [
  {
   "cell_type": "code",
   "execution_count": 3,
   "metadata": {
    "collapsed": true
   },
   "outputs": [],
   "source": [
    "import numpy as np\n",
    "import matplotlib\n",
    "# interaktywne wykresy:\n",
    "%matplotlib inline\n",
    "from matplotlib import pyplot as plt\n",
    "\n",
    "# https://docs.python.org/2/library/collections.html#collections.Counter\n",
    "from collections import Counter"
   ]
  },
  {
   "cell_type": "markdown",
   "metadata": {},
   "source": [
    "## Rozkład dyskretny\n",
    "\n",
    "Rozkład dyskretny zdefiniowany jest na skończonej lub przeliczalnej liczbie punktów.\n",
    "\n",
    "Każdy punkt ma określone prawdopodobieństwo. Jest to nieujemna liczba rzeczywista.\n",
    "\n",
    "Wszystkie prawdopodobieństwa muszą sumować się do jedności.\n",
    "\n",
    "Im większe prawdopodobieństwo punktu, tym częściej się on wylosuje. Im więcej punktów wylosujemy, tym bardziej liczba wylosowań danego punktu podzielona przez liczbę wszystkich losowań przybliża prawdopodobieństwo tego punktu.\n",
    "\n",
    "Punkty o prawdopodobieństwie równym zero nie wylosują się nigdy."
   ]
  },
  {
   "cell_type": "code",
   "execution_count": 20,
   "metadata": {},
   "outputs": [
    {
     "data": {
      "image/png": "[encoded data removed]",
      "text/plain": [
       "<matplotlib.figure.Figure at 0x117250710>"
      ]
     },
     "metadata": {},
     "output_type": "display_data"
    }
   ],
   "source": [
    "rng = np.random.RandomState(seed=43)\n",
    "\n",
    "p = [.1, .05, .22, .45, 0., .18]\n",
    "\n",
    "fig = plt.figure(figsize=(10, 6))\n",
    "ax = fig.add_subplot(2, 3, 1)\n",
    "ax.bar(list(range(len(p))), p)\n",
    "\n",
    "def draw(n_samples, which_subplot):\n",
    "    # losujemy n_samples sampli\n",
    "    samples = np.array([rng.choice(range(len(p)), p=p) for _ in range(n_samples)])\n",
    "    # zliczamy sample - Counter(samples) jest słownikiem, klucze to sample, wartości to liczba wystąpień\n",
    "    c_samples = [Counter(samples)[i] for i in range(len(p))]\n",
    "    ax = fig.add_subplot(2, 3, which_subplot)\n",
    "    # na osi poziomej zaznaczamy sample (czyli kolejne liczby naturalne), na pionowej liczbę wystąpień\n",
    "    ax.bar(list(range(len(p))), c_samples)\n",
    "\n",
    "draw(n_samples=10, which_subplot=4)\n",
    "draw(n_samples=100, which_subplot=5)\n",
    "draw(n_samples=20000, which_subplot=6)"
   ]
  },
  {
   "cell_type": "markdown",
   "metadata": {},
   "source": [
    "## Rozkład ciągły\n",
    "\n",
    "Rozkład ciągły zdefiniowany jest na przestrzeni $\\mathbb{R}^n$ (całej lub jej fragmencie).\n",
    "\n",
    "Zamiast prawdopodobieństwa mamy zdefiniowaną funkcję gęstości. Gęstość jest nieujemna.\n",
    "\n",
    "Gęstość musi całkować się do jedności.\n",
    "\n",
    "Im większa gęstość w okolicy danego punktu, tym częściej w okolicy tego punktu wylosują się sample.\n",
    "\n",
    "W dwa razy szerszym przedziale, który ma dwa razy mniejszą gęstość, wylosuje się mniej więcej tyle samo punktów, co w przedziale oryginalnym.\n",
    "\n",
    "Każdy punkt ma prawdopodobieństwo zero. Nie ma sensu mówić o prawdopodobieństwie punktu w kontekście samplowania. Jeśli mamy na ścianie prostą i rzutkę w ręce, to prawdopodobieństwo trafienia w prostą jest zerowe.\n",
    "\n",
    "Nawet przy nieskończenie wielu losowaniach żaden punkt nie wylosuje się dwa razy.\n",
    "\n",
    "Jeśli wybierzemy sobie jakiś punkt, to on nie wylosuje się nigdy (ale trzeba wybrać przed rozpoczęciem losowania).\n",
    "\n",
    "W przedziałach o prawdopodobieństwie zero punkty nie wylosują się nigdy."
   ]
  },
  {
   "cell_type": "markdown",
   "metadata": {},
   "source": [
    "### Rozkład normalny (Gaussa)\n",
    "\n",
    "https://en.wikipedia.org/wiki/Normal_distribution\n",
    "\n",
    "Co trzeba umieć i rozumieć:\n",
    "* wzór na gęstość\n",
    "* powiązanie gęstości z kształtem\n",
    "* co robią parametry mean i variance (loc i scale)\n",
    "\n",
    "https://en.wikipedia.org/wiki/Multivariate_normal_distribution\n",
    "\n",
    "Co trzeba umieć i rozumieć:\n",
    "* kształt (elipsoidalna górka)\n",
    "* rozkłady brzegowe to rozkłady normalne\n",
    "\n",
    "https://en.wikipedia.org/wiki/Mixture_distribution\n",
    "\n",
    "Co trzeba umieć i rozumieć:\n",
    "* jak wygląda gęstość mixture distribution\n",
    "* jak wygląda samplowanie"
   ]
  },
  {
   "cell_type": "markdown",
   "metadata": {},
   "source": [
    "### Rozkład jednostajny\n",
    "\n",
    "Co trzeba umieć i rozumieć:\n",
    "* to samo, co dla rozkładu normalnego"
   ]
  },
  {
   "cell_type": "code",
   "execution_count": 18,
   "metadata": {},
   "outputs": [
    {
     "data": {
      "text/plain": [
       "<matplotlib.collections.PathCollection at 0x117a32f28>"
      ]
     },
     "execution_count": 18,
     "metadata": {},
     "output_type": "execute_result"
    },
    {
     "data": {
      "image/png": "[encoded data removed]",
      "text/plain": [
       "<matplotlib.figure.Figure at 0x117838940>"
      ]
     },
     "metadata": {},
     "output_type": "display_data"
    }
   ],
   "source": [
    "# Proszę zajrzeć do lab2 i poczytać, co to robi\n",
    "from lab2 import MixtureGaussian\n",
    "\n",
    "n_samples = 60\n",
    "\n",
    "# MIKSTURA JEDNEGO ROZKŁADU GAUSSA TO (NIESPODZIANKA!) ROZKŁAD GAUSSA\n",
    "MG0 = MixtureGaussian(\n",
    "    locs=[2.5],\n",
    "    scales=[.5],\n",
    "    p=[1.])\n",
    "\n",
    "# MIKSTURA TRZECH GAUSSÓW\n",
    "MG1 = MixtureGaussian(\n",
    "    locs=[0., 1., 2.5],\n",
    "    scales=[.2, .2, .2],\n",
    "    p=[.3, .3, .4])\n",
    "\n",
    "# GĘSTOŚĆ MOŻE BYĆ WIĘKSZA OD 1\n",
    "MG2 = MixtureGaussian(\n",
    "    locs=[0., 1., 2.5],\n",
    "    scales=[.2, .7, .5],\n",
    "    p=[.6, .3, .1])\n",
    "\n",
    "# GĘSTOŚĆ MOŻE BYĆ DOWOLNIE DUŻA\n",
    "MG3 = MixtureGaussian(\n",
    "    locs=[0., 1., 2.5],\n",
    "    scales=[.002, .7, .5],\n",
    "    p=[.6, .3, .1])\n",
    "\n",
    "# TU MOŻEMY WYPRÓBOWAĆ WSZYSTKIE CZTERY POWYŻSZE ROZKŁADY\n",
    "#mg = MG0\n",
    "#mg = MG1\n",
    "#mg = MG2\n",
    "mg = MG3\n",
    "\n",
    "samples = np.array([mg.sample() for _ in range(n_samples)])\n",
    "\n",
    "fig = plt.figure(figsize=(13, 8))\n",
    "ax = fig.add_subplot(1, 1, 1)\n",
    "\n",
    "# narysujmy gęstość rozkładu\n",
    "x_pdf = np.linspace(min(samples), max(samples), num=1000)\n",
    "y_pdf = np.vectorize(mg.pdf)(x_pdf)\n",
    "ax.plot(x_pdf, y_pdf)\n",
    "\n",
    "# zaznaczmy na osi poziomej wylosowane punkty\n",
    "ax.scatter(samples, 0 * samples, c='k', s=20, marker='d')"
   ]
  },
  {
   "cell_type": "markdown",
   "metadata": {},
   "source": [
    "## Rozkład mieszany\n",
    "\n",
    "W praktyce bardzo często będziemy używali kombinacji rozkładów ciągłych i dyskretnych. Zasada jest następująca:\n",
    "\n",
    "1. Musimy mieć dobrze zdefiniowaną przestrzeń, z której losujemy. W powyższych przykładach tą przestrzenią był albo zbiór punktów (rozkład dyskretny), albo $\\mathbb{R}^n$ (rozkład ciągły). Teraz możemy mieć dowolnie wiele punktów oraz fragmentów przestrzeni $\\mathbb{R}^n$ dla różnych $n$.\n",
    "\n",
    "2. Każdy fragment ma oddzielnie zdefiniowaną gęstość. Punkty mają zdefiniowane prawdopodobieństwa liczbowe.\n",
    "\n",
    "3. Na fragmentach $\\mathbb{R}^n$ liczymy $n$-wymiarową całkę - dla różnych $n$ są to różne całki. Na punktach sumujemy prawdopodobieństwa.\n",
    "\n",
    "4. Gęstości __łącznie__ całkują się do jedności - to znaczy, że jeśli policzymy całkę na każdym fragmencie, a następnie zsumujemy te całki z prawdopodobieństwami punktów, to otrzymamy $1$.\n",
    "\n",
    "5. Wartość liczbowa całki po danym fragmencie mówi, jak często losowy punkt pochodzi właśnie z tego fragmentu. W ramach fragmentu obowiązują zasady samplowania jak dla rozkładów ciągłych i dyskretnych."
   ]
  },
  {
   "cell_type": "markdown",
   "metadata": {},
   "source": [
    "#### < Tu się kończy mój skill w rysowaniu wykresów pyplotem >"
   ]
  },
  {
   "cell_type": "markdown",
   "metadata": {},
   "source": [
    "#### Przykład 1.\n",
    "\n",
    "Rozkład mieszany na $\\mathbb{R} \\cup \\mathbb{R}^2$. Na wykresach narysowana jest gęstość rozkładu, oddzielnie dla dwóch fragmentów. 40% sampli będzie pochodziło z $\\mathbb{R}$ (niebieski), a 60% z $\\mathbb{R}^2$ (czerwony). Proszę zauważyć, że po lewej liczymy całkę jednowymiarową, a po prawej dwuwymiarową.\n",
    "\n",
    "![proba1](lab2/proba1.png)\n",
    "\n",
    "Sample mogą wyglądać np. tak:\n",
    "* pierwszy: $0.6$\n",
    "* drugi: $(1.8, 0.8)$\n",
    "* trzeci: $0.4$\n",
    "* czwarty: $(1.4, 1.2)$\n",
    "* piąty: $(2.2, 1.1)$\n",
    "* itd."
   ]
  },
  {
   "cell_type": "markdown",
   "metadata": {},
   "source": [
    "#### Przykład 2.\n",
    "\n",
    "Może się zdarzyć, że wszystkie punkty leżą np. w przestrzeni $\\mathbb{R}^2$, ale tak naprawdę ta przestrzeń podzielona jest na kilka kawałków.\n",
    "\n",
    "Na poniższym rysunku mamy cztery fragmenty:\n",
    "* czarny - 25% całego rozkładu, całka dwuwymiarowa na $(0, +\\infty)^2$,\n",
    "* niebieski - 25% całego rozkładu, całka jednowymiarowa na $(0, +\\infty) \\times \\{0\\}$, gdzie przy całkowaniu \"zapominamy\" o drugiej współrzędnej,\n",
    "* czerwony - 25% całego rozkładu, całka jednowymiarowa na $\\{0\\} \\times (0, +\\infty)$, gdzie przy całkowaniu \"zapominamy\" o pierwszej współrzędnej,\n",
    "* zielony - pojedynczy punkt, którego prawdopodobieństwo wynosi 25%.\n",
    "\n",
    "(dygresja - tak zachowują się sieci neuronowe z funkcją aktywacji ReLU!)\n",
    "\n",
    "![proba2](lab2/proba2.png)\n",
    "\n",
    "Możemy łatwo napisać samplowanie, które odpowiada sytuacji na rysunku:"
   ]
  },
  {
   "cell_type": "code",
   "execution_count": 19,
   "metadata": {},
   "outputs": [
    {
     "data": {
      "text/html": [
       "<text style=color:blue>(x1, x2): (0.257, 0.000)</text>"
      ],
      "text/plain": [
       "<IPython.core.display.HTML object>"
      ]
     },
     "metadata": {},
     "output_type": "display_data"
    },
    {
     "data": {
      "text/html": [
       "<text style=color:green>(x1, x2): (0.000, 0.000)</text>"
      ],
      "text/plain": [
       "<IPython.core.display.HTML object>"
      ]
     },
     "metadata": {},
     "output_type": "display_data"
    },
    {
     "data": {
      "text/html": [
       "<text style=color:blue>(x1, x2): (0.858, 0.000)</text>"
      ],
      "text/plain": [
       "<IPython.core.display.HTML object>"
      ]
     },
     "metadata": {},
     "output_type": "display_data"
    },
    {
     "data": {
      "text/html": [
       "<text style=color:black>(x1, x2): (0.498, 2.010)</text>"
      ],
      "text/plain": [
       "<IPython.core.display.HTML object>"
      ]
     },
     "metadata": {},
     "output_type": "display_data"
    },
    {
     "data": {
      "text/html": [
       "<text style=color:blue>(x1, x2): (1.263, 0.000)</text>"
      ],
      "text/plain": [
       "<IPython.core.display.HTML object>"
      ]
     },
     "metadata": {},
     "output_type": "display_data"
    },
    {
     "data": {
      "text/html": [
       "<text style=color:red>(x1, x2): (0.000, 0.455)</text>"
      ],
      "text/plain": [
       "<IPython.core.display.HTML object>"
      ]
     },
     "metadata": {},
     "output_type": "display_data"
    },
    {
     "data": {
      "text/html": [
       "<text style=color:green>(x1, x2): (0.000, 0.000)</text>"
      ],
      "text/plain": [
       "<IPython.core.display.HTML object>"
      ]
     },
     "metadata": {},
     "output_type": "display_data"
    },
    {
     "data": {
      "text/html": [
       "<text style=color:blue>(x1, x2): (0.493, 0.000)</text>"
      ],
      "text/plain": [
       "<IPython.core.display.HTML object>"
      ]
     },
     "metadata": {},
     "output_type": "display_data"
    },
    {
     "data": {
      "text/html": [
       "<text style=color:blue>(x1, x2): (1.935, 0.000)</text>"
      ],
      "text/plain": [
       "<IPython.core.display.HTML object>"
      ]
     },
     "metadata": {},
     "output_type": "display_data"
    },
    {
     "data": {
      "text/html": [
       "<text style=color:green>(x1, x2): (0.000, 0.000)</text>"
      ],
      "text/plain": [
       "<IPython.core.display.HTML object>"
      ]
     },
     "metadata": {},
     "output_type": "display_data"
    },
    {
     "data": {
      "text/html": [
       "<text style=color:blue>(x1, x2): (0.014, 0.000)</text>"
      ],
      "text/plain": [
       "<IPython.core.display.HTML object>"
      ]
     },
     "metadata": {},
     "output_type": "display_data"
    },
    {
     "data": {
      "text/html": [
       "<text style=color:blue>(x1, x2): (2.230, 0.000)</text>"
      ],
      "text/plain": [
       "<IPython.core.display.HTML object>"
      ]
     },
     "metadata": {},
     "output_type": "display_data"
    },
    {
     "data": {
      "text/html": [
       "<text style=color:black>(x1, x2): (0.054, 0.884)</text>"
      ],
      "text/plain": [
       "<IPython.core.display.HTML object>"
      ]
     },
     "metadata": {},
     "output_type": "display_data"
    },
    {
     "data": {
      "text/html": [
       "<text style=color:red>(x1, x2): (0.000, 0.556)</text>"
      ],
      "text/plain": [
       "<IPython.core.display.HTML object>"
      ]
     },
     "metadata": {},
     "output_type": "display_data"
    },
    {
     "data": {
      "text/html": [
       "<text style=color:black>(x1, x2): (0.395, 0.837)</text>"
      ],
      "text/plain": [
       "<IPython.core.display.HTML object>"
      ]
     },
     "metadata": {},
     "output_type": "display_data"
    },
    {
     "data": {
      "text/html": [
       "<text style=color:red>(x1, x2): (0.000, 0.808)</text>"
      ],
      "text/plain": [
       "<IPython.core.display.HTML object>"
      ]
     },
     "metadata": {},
     "output_type": "display_data"
    },
    {
     "data": {
      "text/html": [
       "<text style=color:red>(x1, x2): (0.000, 0.187)</text>"
      ],
      "text/plain": [
       "<IPython.core.display.HTML object>"
      ]
     },
     "metadata": {},
     "output_type": "display_data"
    },
    {
     "data": {
      "text/html": [
       "<text style=color:red>(x1, x2): (0.000, 1.659)</text>"
      ],
      "text/plain": [
       "<IPython.core.display.HTML object>"
      ]
     },
     "metadata": {},
     "output_type": "display_data"
    },
    {
     "data": {
      "text/html": [
       "<text style=color:red>(x1, x2): (0.000, 1.399)</text>"
      ],
      "text/plain": [
       "<IPython.core.display.HTML object>"
      ]
     },
     "metadata": {},
     "output_type": "display_data"
    },
    {
     "data": {
      "text/html": [
       "<text style=color:red>(x1, x2): (0.000, 1.529)</text>"
      ],
      "text/plain": [
       "<IPython.core.display.HTML object>"
      ]
     },
     "metadata": {},
     "output_type": "display_data"
    },
    {
     "data": {
      "text/html": [
       "<text style=color:black>(x1, x2): (1.221, 1.015)</text>"
      ],
      "text/plain": [
       "<IPython.core.display.HTML object>"
      ]
     },
     "metadata": {},
     "output_type": "display_data"
    },
    {
     "data": {
      "text/html": [
       "<text style=color:black>(x1, x2): (0.828, 2.266)</text>"
      ],
      "text/plain": [
       "<IPython.core.display.HTML object>"
      ]
     },
     "metadata": {},
     "output_type": "display_data"
    },
    {
     "data": {
      "text/html": [
       "<text style=color:green>(x1, x2): (0.000, 0.000)</text>"
      ],
      "text/plain": [
       "<IPython.core.display.HTML object>"
      ]
     },
     "metadata": {},
     "output_type": "display_data"
    },
    {
     "data": {
      "text/html": [
       "<text style=color:red>(x1, x2): (0.000, 0.925)</text>"
      ],
      "text/plain": [
       "<IPython.core.display.HTML object>"
      ]
     },
     "metadata": {},
     "output_type": "display_data"
    },
    {
     "data": {
      "text/html": [
       "<text style=color:red>(x1, x2): (0.000, 1.011)</text>"
      ],
      "text/plain": [
       "<IPython.core.display.HTML object>"
      ]
     },
     "metadata": {},
     "output_type": "display_data"
    },
    {
     "data": {
      "text/html": [
       "<text style=color:green>(x1, x2): (0.000, 0.000)</text>"
      ],
      "text/plain": [
       "<IPython.core.display.HTML object>"
      ]
     },
     "metadata": {},
     "output_type": "display_data"
    },
    {
     "data": {
      "text/html": [
       "<text style=color:green>(x1, x2): (0.000, 0.000)</text>"
      ],
      "text/plain": [
       "<IPython.core.display.HTML object>"
      ]
     },
     "metadata": {},
     "output_type": "display_data"
    },
    {
     "data": {
      "text/html": [
       "<text style=color:red>(x1, x2): (0.000, 0.514)</text>"
      ],
      "text/plain": [
       "<IPython.core.display.HTML object>"
      ]
     },
     "metadata": {},
     "output_type": "display_data"
    },
    {
     "data": {
      "text/html": [
       "<text style=color:black>(x1, x2): (0.852, 0.959)</text>"
      ],
      "text/plain": [
       "<IPython.core.display.HTML object>"
      ]
     },
     "metadata": {},
     "output_type": "display_data"
    },
    {
     "data": {
      "text/html": [
       "<text style=color:red>(x1, x2): (0.000, 0.308)</text>"
      ],
      "text/plain": [
       "<IPython.core.display.HTML object>"
      ]
     },
     "metadata": {},
     "output_type": "display_data"
    },
    {
     "data": {
      "text/html": [
       "<text style=color:black>(x1, x2): (0.005, 0.692)</text>"
      ],
      "text/plain": [
       "<IPython.core.display.HTML object>"
      ]
     },
     "metadata": {},
     "output_type": "display_data"
    },
    {
     "data": {
      "text/html": [
       "<text style=color:black>(x1, x2): (0.445, 0.090)</text>"
      ],
      "text/plain": [
       "<IPython.core.display.HTML object>"
      ]
     },
     "metadata": {},
     "output_type": "display_data"
    }
   ],
   "source": [
    "# https://github.com/jupyter/notebook/issues/2284\n",
    "from IPython.display import HTML as html_print\n",
    "def cstr(s, color):\n",
    "    # nowe formatowanie\n",
    "    return \"<text style=color:{}>{}</text>\".format(color, s)\n",
    "\n",
    "rng = np.random.RandomState(seed=43)\n",
    "def sample():\n",
    "    THRESHOLD1 = 0. # CO SIĘ STANIE, GDY ZMIENIMY THRESHOLD? JAK ZMIENI SIĘ RYSUNEK I WYNIK SAMPLOWANIA?\n",
    "    THRESHOLD2 = 0.\n",
    "    return max(THRESHOLD1, rng.normal()), max(THRESHOLD2, rng.normal())\n",
    "\n",
    "for _ in range(32):\n",
    "    # stare formatowanie\n",
    "    x1, x2 = sample()\n",
    "    # w którym miejscu na wykresie jesteśmy:\n",
    "    if x1 == 0. and x2 == 0:\n",
    "        color = \"green\"\n",
    "    elif x1 > 0. and x2 > 0.:\n",
    "        color = \"black\"\n",
    "    elif x1 > 0.: # and x2 == 0\n",
    "        color = \"blue\"\n",
    "    else: # x1 == 0 and x2 > 0\n",
    "        color = \"red\"\n",
    "    s = \"(x1, x2): (%.3f, %.3f)\" % (x1, x2)\n",
    "    display(html_print(cstr(s, color)))"
   ]
  }
 ],
 "metadata": {
  "kernelspec": {
   "display_name": "Python 3",
   "language": "python",
   "name": "python3"
  },
  "language_info": {
   "codemirror_mode": {
    "name": "ipython",
    "version": 3
   },
   "file_extension": ".py",
   "mimetype": "text/x-python",
   "name": "python",
   "nbconvert_exporter": "python",
   "pygments_lexer": "ipython3",
   "version": "3.6.2"
  }
 },
 "nbformat": 4,
 "nbformat_minor": 2
}
