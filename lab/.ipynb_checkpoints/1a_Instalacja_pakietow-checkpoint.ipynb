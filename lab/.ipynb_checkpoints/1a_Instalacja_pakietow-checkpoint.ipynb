{
 "cells": [
  {
   "cell_type": "markdown",
   "metadata": {},
   "source": [
    "Na tych zajęciach używamy Pythona 3.6"
   ]
  },
  {
   "cell_type": "markdown",
   "metadata": {},
   "source": [
    "### Krok 1. - pobranie repozytorium\n",
    "\n",
    "https://github.com/gmum/ml2018"
   ]
  },
  {
   "cell_type": "markdown",
   "metadata": {},
   "source": [
    "`git clone https://github.com/gmum/ml2018.git`"
   ]
  },
  {
   "cell_type": "markdown",
   "metadata": {},
   "source": [
    "### Krok 2. - instalacja minicondy (zalecane)\n",
    "\n",
    "https://conda.io/miniconda.html\n",
    "\n",
    "miniconda zainstaluje się do wybranego katalogu i opcjonalnie dopisze odpowiednią linijkę w .bash_profile"
   ]
  },
  {
   "cell_type": "markdown",
   "metadata": {},
   "source": [
    "`wget https://repo.continuum.io/miniconda/Miniconda3-latest-Linux-x86_64.sh`\n",
    "\n",
    "`chmod +x Miniconda3-latest-Linux-x86_64.sh`\n",
    "\n",
    "`./Miniconda3-latest-Linux-x86_64.sh`\n",
    "\n",
    "`rm Miniconda3-latest-Linux-x86_64.sh`"
   ]
  },
  {
   "cell_type": "markdown",
   "metadata": {},
   "source": [
    "### Krok 3. - utworzenie środowiska (zalecane)\n",
    "\n",
    "https://conda.io/docs/user-guide/tasks/manage-environments.html"
   ]
  },
  {
   "cell_type": "markdown",
   "metadata": {},
   "source": [
    "`conda create --name ml2018`\n",
    "\n",
    "`source activate ml2018`\n",
    "\n",
    "`# source deactivate ml2018`"
   ]
  },
  {
   "cell_type": "markdown",
   "metadata": {},
   "source": [
    "### Krok 4. - instalacja pakietów\n",
    "\n",
    "https://conda.io/docs/user-guide/tasks/manage-pkgs.html"
   ]
  },
  {
   "cell_type": "markdown",
   "metadata": {},
   "source": [
    "`conda install jupyter # notebooki`\n",
    "\n",
    "`conda install numpy # operacje matematyczno-macierzowe`\n",
    "\n",
    "`conda install scipy # więcej matematyki`\n",
    "\n",
    "`conda install scikit-learn # dużo gotowych modeli ML`\n",
    "\n",
    "`conda install matplotlib # wykresy`\n",
    "\n",
    "`conda install pandas # ładne tabelki`\n",
    "\n",
    "`conda install tqdm # ładny progress bar`"
   ]
  },
  {
   "cell_type": "markdown",
   "metadata": {},
   "source": [
    "### Krok 5. - testujemy, czy wszystko działa"
   ]
  },
  {
   "cell_type": "markdown",
   "metadata": {},
   "source": [
    "`cd ml2018`\n",
    "\n",
    "`jupyter notebook`"
   ]
  },
  {
   "cell_type": "code",
   "execution_count": null,
   "metadata": {
    "collapsed": true
   },
   "outputs": [],
   "source": [
    "import matplotlib\n",
    "import numpy as np\n",
    "import pandas as pd\n",
    "import scipy\n",
    "import sklearn\n",
    "import tqdm"
   ]
  }
 ],
 "metadata": {
  "kernelspec": {
   "display_name": "Python 3",
   "language": "python",
   "name": "python3"
  },
  "language_info": {
   "codemirror_mode": {
    "name": "ipython",
    "version": 3
   },
   "file_extension": ".py",
   "mimetype": "text/x-python",
   "name": "python",
   "nbconvert_exporter": "python",
   "pygments_lexer": "ipython3",
   "version": "3.6.2"
  }
 },
 "nbformat": 4,
 "nbformat_minor": 2
}
