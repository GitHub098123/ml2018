{
 "cells": [
  {
   "cell_type": "markdown",
   "metadata": {
    "collapsed": true
   },
   "source": [
    "# Zadanie\n",
    "\n",
    "Zaimplementować metodę `bias_variance_estimation` o następującej sygnaturze:\n",
    "\n",
    "`degree, squared_bias, variance, noise, average_mse = bias_variance_estimation(\n",
    "    generator_true_degree,\n",
    "    generator_sigma,\n",
    "    generator_seed,\n",
    "    n_train_samples,\n",
    "    max_degree,\n",
    "    n_simulations_per_degree)`\n",
    "\n",
    "`degree`, `squared_bias`, `variance`, `noise` oraz `average_mse` to jednowymiarowe tablice `numpy`.\n",
    "\n",
    "`generator_true_degree` - podawane do `ToyDataGenerator`\n",
    "\n",
    "`generator_sigma` - podawane do `ToyDataGenerator`\n",
    "\n",
    "`generator_seed` - podawane do `ToyDataGenerator`\n",
    "\n",
    "`n_train_samples` - liczba losowanych za każdym razem przykładów treningowych\n",
    "\n",
    "`max_degree` - maksymalny degree, który będziemy testować (`degree = [1, 2, ..., max_degree]`)\n",
    "\n",
    "`n_simulations_per_degree` - liczba symulacji przeprowadzonych dla konkretnego degree\n",
    "\n",
    "Będziemy testowali naszą regresję liniową + adam optimizer - należy ustawić następujące wartości parametrów:\n",
    "\n",
    "`n_test_samples = 3000\n",
    "optimizer = adam\n",
    "linear_regression_seed = 43\n",
    "linear_regression_n_steps = 100\n",
    "optimizer_kwargs = {\n",
    "    \"learning_rate\": .1,\n",
    "    \"beta1\": .9,\n",
    "    \"beta2\": .999,\n",
    "    \"epsilon\": 1e-8}`\n",
    "\n",
    "\n",
    "W tym wypadku MSE obliczamy __bez__ mnożenia przez $0.5$. Tylko wtedy zachodzi twierdzenie o rozkładzie błędu na bias, variance i noise.\n",
    "\n",
    "Zadanie jest nieco trudne, ale można się spodziewać na egzaminie kilku pytań z tej tematyki. Dlatego bardzo proszę w razie potrzeby jeszcze raz dopytać na wykładzie, jak powinna przebiegać estymacja bias, variance, mse.\n",
    "\n",
    "W szczególności dobrze jest umieć odpowiedzieć na pytania typu:\n",
    "* co sumujemy, a co uśredniamy?\n",
    "* co i kiedy należy podnieść do kwadratu? dlaczego należy podnieść do kwadratu bias?\n",
    "* dlaczego musimy przeprowadzać wielokrotne symulacje? co trzeba przelosować, a co musi pozostać stałe w każdej z nich?\n",
    "* różnice pomiędzy jakimi funkcjami potrzebujemy policzyć?\n",
    "* jak policzyć `noise`? jaki jest jego związek z modelem danych `ToyDataGenerator`?\n",
    "\n",
    "Poprawnie rozwiązane zadanie powinno uzyskać podobne wyniki, jak te w notebooku 4c_Test_zadania."
   ]
  },
  {
   "cell_type": "code",
   "execution_count": null,
   "metadata": {
    "collapsed": true
   },
   "outputs": [],
   "source": []
  }
 ],
 "metadata": {
  "kernelspec": {
   "display_name": "Python 3",
   "language": "python",
   "name": "python3"
  },
  "language_info": {
   "codemirror_mode": {
    "name": "ipython",
    "version": 3
   },
   "file_extension": ".py",
   "mimetype": "text/x-python",
   "name": "python",
   "nbconvert_exporter": "python",
   "pygments_lexer": "ipython3",
   "version": "3.6.2"
  }
 },
 "nbformat": 4,
 "nbformat_minor": 2
}
