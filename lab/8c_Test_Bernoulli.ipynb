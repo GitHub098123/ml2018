{
 "cells": [
  {
   "cell_type": "markdown",
   "metadata": {},
   "source": [
    "Ten notebook powinien policzyć się w około 10 sekund i zająć max 200MB RAM.\n",
    "\n",
    "Proszę potraktować wszystkie poniższe wartości liczbowe jako asserty."
   ]
  },
  {
   "cell_type": "code",
   "execution_count": 1,
   "metadata": {
    "collapsed": true
   },
   "outputs": [],
   "source": [
    "import numpy as np\n",
    "from sklearn.datasets import fetch_20newsgroups\n",
    "\n",
    "from zadania import TextBernoulliNaiveBayes"
   ]
  },
  {
   "cell_type": "code",
   "execution_count": 2,
   "metadata": {
    "collapsed": true
   },
   "outputs": [],
   "source": [
    "newsgroups_train = fetch_20newsgroups(subset='train', remove=('headers', 'footers', 'quotes'))\n",
    "newsgroups_test = fetch_20newsgroups(subset='test', remove=('headers', 'footers', 'quotes'))\n",
    "classes = newsgroups_train.target_names"
   ]
  },
  {
   "cell_type": "code",
   "execution_count": 3,
   "metadata": {
    "collapsed": true
   },
   "outputs": [],
   "source": [
    "bnb = TextBernoulliNaiveBayes(newsgroups_train.data, newsgroups_train.target)"
   ]
  },
  {
   "cell_type": "code",
   "execution_count": 4,
   "metadata": {},
   "outputs": [
    {
     "data": {
      "text/plain": [
       "(20, 18101)"
      ]
     },
     "execution_count": 4,
     "metadata": {},
     "output_type": "execute_result"
    }
   ],
   "source": [
    "bnb.likelihoods.shape"
   ]
  },
  {
   "cell_type": "code",
   "execution_count": 5,
   "metadata": {},
   "outputs": [
    {
     "data": {
      "text/plain": [
       "array([ 0.04242531,  0.05161747,  0.05223617,  0.05214778,  0.05108715,\n",
       "        0.05241294,  0.05170585,  0.05250133,  0.05285487,  0.05276648,\n",
       "        0.05303164,  0.05258971,  0.05223617,  0.05250133,  0.05241294,\n",
       "        0.05294326,  0.04825879,  0.04984974,  0.04109952,  0.03332155])"
      ]
     },
     "execution_count": 5,
     "metadata": {},
     "output_type": "execute_result"
    }
   ],
   "source": [
    "bnb.priors"
   ]
  },
  {
   "cell_type": "code",
   "execution_count": 6,
   "metadata": {},
   "outputs": [
    {
     "name": "stdout",
     "output_type": "stream",
     "text": [
      "Train accuracy:\n",
      "0.650256319604\n",
      "Test accuracy:\n",
      "0.493096123208\n"
     ]
    }
   ],
   "source": [
    "print(\"Train accuracy:\")\n",
    "print((bnb.predict(newsgroups_train.data) == newsgroups_train.target).sum() / len(newsgroups_train.data))\n",
    "print(\"Test accuracy:\")\n",
    "print((bnb.predict(newsgroups_test.data) == newsgroups_test.target).sum() / len(newsgroups_test.data))"
   ]
  },
  {
   "cell_type": "code",
   "execution_count": 7,
   "metadata": {},
   "outputs": [
    {
     "name": "stdout",
     "output_type": "stream",
     "text": [
      "[[ -3.59557104e+01  -1.71407861e+01  -2.83213595e+01  -1.35295379e+01\n",
      "   -4.09510476e+00  -3.19219725e+01  -2.52744616e+01  -1.68792947e-02\n",
      "   -9.41487852e+00  -1.44238059e+01  -2.99508868e+01  -5.08515243e+01\n",
      "   -1.53187426e+01  -3.06523563e+01  -3.01679555e+01  -4.68378568e+01\n",
      "   -4.22976873e+01  -6.90294341e+01  -4.91327026e+01  -5.47583584e+01]\n",
      " [ -3.05324204e+01  -1.60373115e-01  -1.61676233e+01  -2.17995330e+00\n",
      "   -5.08643795e+00  -6.50276916e+00  -2.46500392e+01  -1.40432253e+01\n",
      "   -3.64203388e+00  -2.02108272e+01  -2.86800337e+01  -3.52363812e+01\n",
      "   -6.68611921e+00  -2.55538175e+01  -2.91248902e+01  -4.49274049e+01\n",
      "   -3.45735421e+01  -6.01632669e+01  -4.19137548e+01  -4.54673991e+01]\n",
      " [ -3.62468817e+01  -1.07222729e+01  -1.46512003e+01  -1.06731340e+01\n",
      "   -2.10073338e+00  -2.75273116e+01  -5.29892367e-01  -5.47458779e+00\n",
      "   -1.27016917e+00  -5.59067723e+00  -2.39776520e+01  -6.64266074e+01\n",
      "   -8.46457223e+00  -3.86647750e+01  -3.98657416e+01  -6.95011793e+01\n",
      "   -5.14874626e+01  -8.23089505e+01  -6.38936874e+01  -5.93479013e+01]]\n"
     ]
    }
   ],
   "source": [
    "print(bnb.predict_logits(newsgroups_test.data[:3]))"
   ]
  },
  {
   "cell_type": "code",
   "execution_count": 8,
   "metadata": {},
   "outputs": [
    {
     "name": "stdout",
     "output_type": "stream",
     "text": [
      "[ 1.  1.  1.  1.  1.  1.  1.  1.  1.  1.  1.  1.  1.  1.  1.]\n"
     ]
    }
   ],
   "source": [
    "print(np.sum(\n",
    "    np.exp(\n",
    "        bnb.predict_logits(newsgroups_test.data[:15])),\n",
    "    axis=1))"
   ]
  },
  {
   "cell_type": "code",
   "execution_count": 9,
   "metadata": {
    "scrolled": false
   },
   "outputs": [
    {
     "name": "stdout",
     "output_type": "stream",
     "text": [
      "alt.atheism\n",
      "107 153 387 409 advancing agree all am amount arguing armstrong arrow as at atheist athletes be became been before bind boise book boy but caught chamber com3 comforting communication conversations defect demonstrates dew difference different don driver eighth enough entire explain explaining fellow filled force fringe ga government graham guitar hard has high homosexual hosts i2 ignoring in independently is it just know lack law lp many me models more most mozumder number observe of or out outlaw package painting particular people policy posts preamp pretending prevented priority profess property raines really reproduce rf say score scriptures sheep show shudder silent sinai stats stdio strains tank tendency than that there thing this true typhoon unfair unicorns vice warriors wear were what when which women wouldn wrongful xe xii young\n",
      "\n",
      "comp.graphics\n",
      "07 3rd 480 503 55 845 87 _you_ addresses an are areas aryan bad battling both box britain but cage cc center changing classify clueless cms column command complete consult continual d0 derived devils diseases elevated except following from full game hand handle his hook hours improve info interesting interface kindness know least leaves madison mandated manipulation miami might needs nei4 new not o2 on or own plantier predecessors program refs require resolution response rom rulings save sean securing security select shielded skrudland sources spelled squashed stream suicides sun4 temporary thanks that the there these think to transform tried unconstitutional unm use uses van ve very vivid xwindows yelena your\n",
      "\n",
      "comp.os.ms-windows.misc\n",
      "07 140 3dy 7c _is_ ak also and another appreciate at be benign but button can cf cica cis colleagues colors cost designate devote directory disney do download drying eq etc file fine from go had has have here higgins ij install is just language later leave lg limits ll massacring modular month more ms night not nuke of on program pu qs ripping rk running seeing simulations something source strain tcp that them time to tools tp translates tu uploaded use v0 vein walking wang wasted we while with wt z7 zo\n",
      "\n",
      "comp.sys.ibm.pc.hardware\n",
      "1024x768 10mb 16 1992 335 33mhz 747 adherence an and any apple application argument article at available backups be big bit bus but can cdrom clearly com conceivable could counterparts couple criminals cyrix day detector different discusses documented dos eats edu education explorers ext fashion for front funky good group handlebars has have hearted hoped implemented in is kkeller last leary like list lot mailing misunderstanding multi of offers opposed or pepsi pin please pointless portal possessed process programs proprietary proud racine reactive really redemption reliability requested russians rz same second seconds simpson somebody sony suited system take thanks that the there these through to unbelievable up warp well would wrist written you your\n",
      "\n",
      "comp.sys.mac.hardware\n",
      "01 0300 1371 16 170 33mhz about an angle antennas apple appreciated area arrested avoid backup bad before biggest built bundle bxlt circuits commited concatenated connection connectors correct deals deduction different edu emulators existence fet for from fuels guess handle has have heard horror huntington identity if joints lapse lately machine make mark max monty need no note now nubus of one optional panel place quicker school seeking shipping since so solution steroid such swell system the them this toxins trouble using uy virginia was well when while wv\n",
      "\n",
      "comp.windows.x\n",
      "15 20084 3700 9f9f9f9f9f9 about alexia allowing and anymore appreciated as at b8g between but calling can character chromium code compilers constrained corresponding course crude defenseman display do enter entries environment expect explaining false fd fine fixed forming fractal ftp functions go got heck hinges hot hours hut if in include includes information is it its jc just kit know let many mapped mcwilliams memory moving my now null of offers on other pass pattern pipe please posts prejudices presses private purse quick relations remove required resisted run saves say secure security sequence speeding stealth such suggest tcp terminal thanks the this to toxins uiuc uncomfortable understanding unsuccessful ux v8 william win window world wrapped write yourself\n",
      "\n",
      "misc.forsale\n",
      "16th 320 4wd 65 6_ 6e1 801 am an analytic ask available back been by can cleared coma correct course craft crucifixion dayton deviations dial dozen drive experimenting exterminated files followed for forsale gain get grey has he headphone here if impedance in input intra investigate is justifications kit local logo many most must mx15f new obo ofm perfect plugs pop possible rate recognised refund replaced rural rush sac sane school serial ship signals step stephanopoulos tex the these think throw to too two us utility vehicle word xflush yf9 you\n",
      "\n",
      "rec.autos\n",
      "361 65k 71 753 a3 abs ads advisors age all ammo and andy argument armenia attempted autos becomes believe calculate can car codec comforting comments copied cylinder deterrent devotion dirt don engine experience fault faxes finally fixes found get golden gp have how imagine in instead isn it joining keeping knives ku lcii legs look lunatics mahan miles monday much need network no north of on one option out padded pickup please practice prefer pressure quit reilly result right ruin saving schematics semantic shop should speed thank that the theatre them they this threat too town ve wait west whatever which will workshop years\n",
      "\n",
      "rec.motorcycles\n",
      "1850 1957 379 5k 750 7k 93 amorc another anticipate appalled are as bat best bothers but called cognitivists commission constrained cs determined did does don each for fun gone good h5 haifa hate here hit humor in interest it kd know known light miracle motorcyclists movies my never of off old one only out parts pick position projections qw reason reasonably register residential riding ring rk seals section set sixth still stricken string sturdy sure tetris that the thought to transient trips turbo tyre up ve very was well wit xh you\n",
      "\n",
      "rec.sport.baseball\n",
      "11th 1600 25 2v 30 325 435 503 96 9f9f9 against and are be below better braves by century changes continually course court cv cy david disclaimer drastic e145 edward excel exe foul game gigantic guess had has hawaii hayes he held how hub hunter ibm if imho is jim laws may maybe miss new nineteenth nolan of on orthodox platoon play pretty really reason reconciled ruins serbian shepherd since six slain sports stadium stats stole substance takers the their think this to today training trashing ultra unix use used victims walsh white why would writer ws xcreatewindow yep york\n",
      "\n",
      "rec.sport.hockey\n",
      "13th 255 2z 67 about admin after alive announce approximately are be blamed bucks bus c610 changed cheek claim coverage daily danny david decoration deeper desert didn disregard doesn dropping earlier either emphasizes ephemeris first flames fortunately gain galley game gnp has having head here hockey ice inevitable intruder journals karabagh legitimacy life like maneuvers mortals mouth not now obsession of or out parcplace players playing point population positions presence rain re receiver removed rosicrucian same san save seagate season seizing skrudland socks space speedo sport subclass summer sure surprise tb than that the then there thinker this tie to told treaty undergo undertook unwise vernon viewer was well where without you zeus\n",
      "\n",
      "sci.crypt\n",
      "116 34 800 86 995 ahhh algorithm alluded and are assumes available ax be better bitnet breath btw c1 california can cdi chain chance channels character continues coordinated credits curiosity decrypt decryption defeat does doing don el evaluated executed fatima fee figures figuring for generally give have idea if include irrelevent is isn isolation it jefferson just kernel keys know known ks length like make manipulating marvelous may me means measure more my of one original other out participants passport pb phone place planetary presidential prosecution protecting put rachel raise reason return search seems sell sentence sequence six somebody something sounds speed staffan step suicide that the their therefore they thread thus to used users using v9f we what when whine whole will wire with wm wrong wycliffe y3 yourself yushkevich zs\n",
      "\n",
      "sci.electronics\n",
      "8086 93 aggression amounts analog and anyone around array asw at books camera canadians cognitivists computational concentrated considering contaminated crazy created current data delayed don egalon ending engineered excludes field fiscal following for got gram have how hypothetical ideal in interplanetary invited is it juha lab left long massively mcgraw means mechanical mothers my mz n9myi no of one onto operator outlets people person phased postscript price produce q9 quoted radio randomly related reminder rules save screw seem seemed segment slow sooner state stripes subsystems suggestions systematically systems that the them this tony trusted um using versus violated what which with xc you\n",
      "\n",
      "sci.med\n",
      "about alcohol aliases all alot also arguement available based become being belief bo bothers breed bring broken changes charter christi citizens color come constraints continental cview dale deal die different differently discovering doctor doing don edu education effect eprom every flavors food for form four fp fy g7 genes geometric get go hands having he hiking house intellect it knees land latter left let like linking loads lower medications memory message more must nail new nih nose not number objects of oil older only or owen own packages panther pills pond prefer prevention primary problems quarrel queries reactions recently repair result retentive scrape short should something standardized states struct subjects thanks the there these thing to took treatment treatments unloaded vertical virtual was wingers with wore worshippers x86 years\n",
      "\n",
      "sci.space\n",
      "1150 22 27 355 75 95 ability advice also and athletic bigs bit bulk but can central collar contrary copy date deep department depending descended devvax division don dry dryden eclipse employment enoch entails escape esp exclusive explanation extremely facilitate factual fail first fred friends get has hello hey if impact in kept launch leading licensed loudspeakers major malfunction market mcdonnell merchants moon move nice north not nov on once people phased privately rapid rates ratio re seems since sites society spin stable stick such sucker sun sustaining term than thank that the there these three thrust to topic training uarts ucs united up use usual wakefield we were when will wire writer you your\n",
      "\n",
      "soc.religion.christian\n",
      "1976 31 33 4r 575 about acts after allow alluded although ancient another any appearances appreciate are area author basis before believed books bound boundary but cannot changed civil color concentrate constantly cookbook cor cord corolla cousinetc deal death defend deletion department details did divided doctrine each either email entire explained f_ fact fellow first glands god gradient greetings happens have he her his however humanity impasse in indictment interference involves is it just justification know koresh learning lifestyle limited lives may meantime minor mount nature network never no non not of offer on one only opposed or originally others permission phrase position preached probably probes proves punished questioned raised read recommend religion remainder remember rented represents resolved rest reversal same sandy say schools seems sense shocked since slave soft some spiritually strong tells that the their then things think though time to transfers true understand veiled volcano way we when which who word work would wrong xsun yet you your\n",
      "\n",
      "talk.politics.guns\n",
      "0v 15 42 46 501 90 about above abuse acted all and appeared are arkansas back base batf bd be bottles brief burned but buys c7 capacitors capacity carrying console did distortions do endometriosis even evil exactly f1 fits fitting for functioning going good government had has have himself holiness i0mf if important ip job jrm jumpers lastly legally living loudly make manipulated member morally ne1 negligent next none note oak obvious one optimization pig plus police political premiums proper regardless result right rights ross royal runs safety segments sense settled sheriff sister slowly smith someone sorry state supreme talk that the this trial type up va ve wake weapon weapons while with women word work would wound wrong ya you your\n",
      "\n",
      "talk.politics.mideast\n",
      "10k 13 24 32 341 45th 508 5j 640x480x256 ability actively african ah allowed alone already also always americans an and any are armenians army ask avenue axes azerbaijanis barking be belongs borders born bounds bullet buys castro certain commercial compliant conference constantly continuous copies corner countries cowboy death defenseman deir deliberately discriminate donation doubt e9 ethiopia even exactly exercise eyewitness fascism father finished flooded for found fourth freedom from genuinely gimme girl goes got grade grind groups hell high himself hooked hope how however humanity if implement in intentionally iraq is israeli istanbul it keeping kindly kinds knife lengths life lifting literature little local look made mainland margins men method methods might military more mother move much murder nazi nbs nevertheless no of off on one others out paralyzed patrol personally pilots policy preparing reagan realize recognised regardless regulators religion rest rev sample savage selected serbs sharp simultaneous so soldiers specific spectacular speculate start streets strengthened such supporters sweeney take that the them there to today track trying turkey two united up very voice vol waited want warn was watched welfare whatever when with wonders working would you\n",
      "\n",
      "talk.politics.misc\n",
      "1fp4u 20 29 4u 516 5th address administration agree ambulance an anarchy and any appear apply ask assert attendance axe based bayonets be better block bounds but caesar charges choose chuckle coastal coincidence concepts concern consisting crap dc debt dictates dj done duh dv ed eliminate equivalent estimate examples experienced experts fails favorable federal fertile fewer finds firms folk for from funds further garrett genes get going goldin grandfather gv happier his id ids imagewriter impressive in include indicated institute internal irq4 is it job just law laws lets libertarian like market marketing mask measures media medical memory military minorities n1 never nn note nothing now of olympics on other our own parties pay platter premise present press programmer range rather react reactive refuse regulation religious remember right roots running same saying see side sign site so societies spots statements statistics substitution summer tgv that the these this though tricky under up utopian was we week were weren when who whole widgets will willing wired with you your\n",
      "\n",
      "talk.religion.misc\n",
      "23 293 9i agrees all and aren assume attempts bands be being bible birth brand brian buggy by can categories circuit coalition come concentrate concurrently continues country crack crowded dances december dimension direct discern dissidents ear environmental everyone feet felsner follow freedom getting gi gifs give going good gov government had happened has hast hat have heartless help helsinki hope if illnesses inc inspired interfered investigators it j0 kellog keyword khomeini knowledge kosher lack lars lat laws let levels loads lowest magus making mary mathcad may me mention mind modern more most myself nature nazism net next night no notion of often old on one opel paradise past people perfection person physicist plight pretend publisher purchased r6 redemption relates relative represent require rng rz say should show so spill stop sword take talk teachings technically text that this those thou to tortures transporter try unknown until upgrades uq vanity viewpoints visualization wait was way weekend were what when whoever why with without xor your\n",
      "\n"
     ]
    }
   ],
   "source": [
    "# generujemy \"zdania\"\n",
    "\n",
    "for i in range(20):\n",
    "    print(classes[i])\n",
    "    print(bnb.generate_sentence(i))\n",
    "    print(\"\")"
   ]
  },
  {
   "cell_type": "code",
   "execution_count": 10,
   "metadata": {
    "collapsed": true
   },
   "outputs": [],
   "source": [
    "def classify(sentence):\n",
    "    pred = bnb.predict_logits([sentence]).ravel()\n",
    "    for i in reversed(np.argsort(pred)):\n",
    "        print(classes[i], pred[i])    "
   ]
  },
  {
   "cell_type": "code",
   "execution_count": 11,
   "metadata": {},
   "outputs": [
    {
     "name": "stdout",
     "output_type": "stream",
     "text": [
      "rec.motorcycles -0.0238083182574\n",
      "comp.sys.mac.hardware -3.92150913849\n",
      "rec.autos -6.15979109642\n",
      "misc.forsale -6.78953485387\n",
      "rec.sport.baseball -7.78938541478\n",
      "sci.electronics -9.91188303503\n",
      "comp.sys.ibm.pc.hardware -11.3247183696\n",
      "comp.graphics -13.1253941265\n",
      "comp.os.ms-windows.misc -17.680541057\n",
      "rec.sport.hockey -25.5020506659\n",
      "comp.windows.x -29.6113242031\n",
      "alt.atheism -32.721533957\n",
      "sci.space -38.6346886768\n",
      "sci.med -38.8483706646\n",
      "talk.politics.guns -48.4418183582\n",
      "talk.religion.misc -56.5470660686\n",
      "talk.politics.misc -61.1597555383\n",
      "sci.crypt -62.0667952788\n",
      "soc.religion.christian -67.1702883803\n",
      "talk.politics.mideast -80.2077304129\n"
     ]
    }
   ],
   "source": [
    "classify(\"Naive Bayes, what do you think about this sentence?\")"
   ]
  },
  {
   "cell_type": "code",
   "execution_count": 12,
   "metadata": {},
   "outputs": [
    {
     "name": "stdout",
     "output_type": "stream",
     "text": [
      "rec.motorcycles -0.217099640883\n",
      "misc.forsale -2.15516131428\n",
      "comp.sys.mac.hardware -2.72631361196\n",
      "rec.autos -4.53272394534\n",
      "rec.sport.baseball -5.90806836098\n",
      "sci.electronics -8.21366601818\n",
      "comp.sys.ibm.pc.hardware -10.0367329596\n",
      "comp.graphics -10.7241979905\n",
      "comp.os.ms-windows.misc -16.086323901\n",
      "rec.sport.hockey -23.9809141403\n",
      "comp.windows.x -29.312920822\n",
      "alt.atheism -33.7218599646\n",
      "sci.med -38.2272736473\n",
      "sci.space -38.3996660047\n",
      "talk.politics.guns -50.7756266467\n",
      "talk.religion.misc -57.0809390685\n",
      "talk.politics.misc -63.1479650311\n",
      "soc.religion.christian -65.8300646892\n",
      "sci.crypt -66.8102097648\n",
      "talk.politics.mideast -81.6505397297\n"
     ]
    }
   ],
   "source": [
    "classify(\"And what about God?\")"
   ]
  },
  {
   "cell_type": "code",
   "execution_count": 13,
   "metadata": {},
   "outputs": [
    {
     "name": "stdout",
     "output_type": "stream",
     "text": [
      "rec.motorcycles -0.00256435830648\n",
      "comp.sys.mac.hardware -6.7600271464\n",
      "rec.autos -7.03003533378\n",
      "misc.forsale -7.77177944206\n",
      "rec.sport.baseball -9.31481303665\n",
      "sci.electronics -12.3608923061\n",
      "comp.sys.ibm.pc.hardware -13.7896265522\n",
      "comp.graphics -15.9205972943\n",
      "comp.os.ms-windows.misc -20.3509612284\n",
      "rec.sport.hockey -28.0864957852\n",
      "comp.windows.x -31.1435722255\n",
      "alt.atheism -37.4896756418\n",
      "sci.space -41.7015789686\n",
      "sci.med -42.3751815411\n",
      "talk.politics.guns -52.7310260765\n",
      "talk.religion.misc -61.1427225829\n",
      "talk.politics.misc -65.2447286898\n",
      "sci.crypt -67.0659251929\n",
      "soc.religion.christian -71.5907149047\n",
      "talk.politics.mideast -84.5399211597\n"
     ]
    }
   ],
   "source": [
    "classify(\"Naive Bayes, why do you like motorcycles so much?\")"
   ]
  },
  {
   "cell_type": "code",
   "execution_count": 14,
   "metadata": {},
   "outputs": [
    {
     "name": "stdout",
     "output_type": "stream",
     "text": [
      "misc.forsale -0.345624427362\n",
      "rec.motorcycles -1.516927901\n",
      "comp.sys.mac.hardware -2.69006628069\n",
      "rec.autos -5.7777800466\n",
      "rec.sport.baseball -6.37772749662\n",
      "sci.electronics -8.92094624005\n",
      "comp.sys.ibm.pc.hardware -10.9706388852\n",
      "comp.graphics -11.1070610542\n",
      "comp.os.ms-windows.misc -15.7181715769\n",
      "rec.sport.hockey -24.7318055357\n",
      "comp.windows.x -28.3358676219\n",
      "alt.atheism -39.2014376211\n",
      "sci.space -40.1435415395\n",
      "sci.med -40.4306605902\n",
      "talk.politics.guns -54.12012156\n",
      "talk.religion.misc -62.8536636543\n",
      "talk.politics.misc -67.0501520662\n",
      "sci.crypt -68.4612017118\n",
      "soc.religion.christian -74.1809226075\n",
      "talk.politics.mideast -85.5886456315\n"
     ]
    }
   ],
   "source": [
    "classify(\"\")"
   ]
  }
 ],
 "metadata": {
  "kernelspec": {
   "display_name": "Python 3",
   "language": "python",
   "name": "python3"
  },
  "language_info": {
   "codemirror_mode": {
    "name": "ipython",
    "version": 3
   },
   "file_extension": ".py",
   "mimetype": "text/x-python",
   "name": "python",
   "nbconvert_exporter": "python",
   "pygments_lexer": "ipython3",
   "version": "3.6.3"
  }
 },
 "nbformat": 4,
 "nbformat_minor": 2
}
