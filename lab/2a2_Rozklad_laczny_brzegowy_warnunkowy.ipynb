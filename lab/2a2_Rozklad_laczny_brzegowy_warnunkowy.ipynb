{
 "cells": [
  {
   "cell_type": "markdown",
   "metadata": {},
   "source": [
    "## Rozkład łączny\n",
    "\n",
    "O rozkładzie łącznym mówimy wtedy, gdy losujemy więcej niż jedną \"rzecz\". W poprzednim notebooku np. mieliśmy rozkład łączny na $x_1$ i $x_2$.\n",
    "\n",
    "Pojęcie rozkładu łącznego jest umowne i zależy od kontekstu. Możemy np. mówić o rozkładzie łącznym na $x_1$ i $x_2$, ale możemy też zdefiniować sobie $x = (x_1, x_2)$ i mówić o zwykłym rozkładzie na elementach $x$.\n",
    "\n",
    "Innymi słowy - jeśli mówimy o rozkładzie łącznym, to chcemy podkreślić wzajemne zależności pomiędzy $x_1$ i $x_2$.\n",
    "\n",
    "Oczywiście może być więcej zmiennych, np. rozkład łączny na:\n",
    "\n",
    "$x_1$, $x_2$, $\\alpha$, $x_3$, $y_2$, $y_4$, $\\theta$\n",
    "\n",
    "też jest ok."
   ]
  },
  {
   "cell_type": "markdown",
   "metadata": {},
   "source": [
    "## Rozkład brzegowy\n",
    "\n",
    "Załóżmy, że mamy dany rozkład łączny $p$ na zmiennych $x_1$ i $x_2$. Możemy wtedy mówić o rozkładach brzegowych $p(x_1)$ i $p(x_2)$."
   ]
  },
  {
   "cell_type": "markdown",
   "metadata": {},
   "source": [
    "#### Dyskretny\n",
    "\n",
    "Jeśli rozkład łączny jest dyskretny, możemy zapisać:\n",
    "* $p(x_1) := p(x_1, x_2 = \\mathrm{cokolwiek}) = \\sum_{x_2} p(x_1, x_2)$\n",
    "* $p(x_2) := p(x_1 = \\mathrm{cokolwiek}, x_2) = \\sum_{x_1} p(x_1, x_2)$\n",
    "\n",
    "__Uwaga - $p(x_1)$, $p(x_2)$ i $p(x_1, x_2)$ to trzy różne funkcje $p$__\n",
    "\n",
    "---\n",
    "\n",
    "### Zadanie (niepunktowane)\n",
    "\n",
    "* $p(x_1 = a_1, x_2 = b_1) = 0.2$\n",
    "* $p(x_1 = a_2, x_2 = b_1) = 0.3$\n",
    "* $p(x_1 = a_3, x_2 = b_1) = 0.1$\n",
    "* $p(x_1 = a_1, x_2 = b_2) = 0.05$\n",
    "* $p(x_1 = a_2, x_2 = b_2) = 0.25$\n",
    "* $p(x_1 = a_3, x_2 = b_2) = 0.1$\n",
    "\n",
    "Zrobić rysunek i policzyć rozkłady brzegowe.\n"
   ]
  },
  {
   "cell_type": "markdown",
   "metadata": {},
   "source": [
    "#### Ciągły\n",
    "\n",
    "Jeśli rozkład łączny jest ciągły o gęstości $f$, to musimy zastąpić $p$ przez $f$, a sumę przez całkę:\n",
    "* $f(x_1) := f(x_1, x_2 = \\mathrm{cokolwiek}) = \\int f(x_1, x_2) dx_2$\n",
    "* $f(x_2) := f(x_1 = \\mathrm{cokolwiek}, x_2) = \\int f(x_1, x_2) dx_1$\n",
    "\n",
    "__Uwaga - $f(x_1)$, $f(x_2)$ i $f(x_1, x_2)$ to trzy różne gęstości $f$__\n",
    "\n",
    "Obrazek z wikipedii, $x_1$ i $x_2$ oznaczone jako $X$ i $Y$ (https://en.wikipedia.org/wiki/Multivariate_normal_distribution#/media/File:MultivariateNormal.png)\n",
    "\n",
    "![proba4](lab2/proba4.png)\n",
    "\n",
    "---\n",
    "### Zadanie (niepunktowane)\n",
    "\n",
    "Wytłumaczyć rysunek."
   ]
  },
  {
   "cell_type": "markdown",
   "metadata": {},
   "source": [
    "#### Mieszany\n",
    "\n",
    "Jeśli rozkład łączny jest rozkładem mieszanym, to trzeba się chwilę zastanowić. Jeśli np. $x_1$ jest zmienną ciągłą, a $x_2$ dyskretną, to - zachowując szczególną ostrożność - możemy zapisać:\n",
    "* $f(x_1) := \\sum_{x_2} f(x_1, x_2)$\n",
    "* $p(x_2) := \\int f(x_1, x_2) dx_1$\n",
    "\n",
    "![proba5](lab2/proba5.png)\n",
    "\n",
    "---\n",
    "### Zadanie (niepunktowane)\n",
    "\n",
    "Korzystając z rysunku wypisać $p(x_2)$ oraz narysować przy tablicy $f(x_1)$."
   ]
  },
  {
   "cell_type": "markdown",
   "metadata": {},
   "source": [
    "#### Refleksja\n",
    "\n",
    "Mniej więcej w tym momencie wzory zaczynają bardziej przeszkadzać niż pomagać. Dlatego zawsze warto myśleć o rozkładach brzegowych jako o losowaniu z rozkładu łącznego, a następnie zapominaniu o części zmiennych. Przy obliczaniu rozkładu brzegowego trzeba sobie zadać pytania:\n",
    "* Czy zmienne, które zostały, mają rozkład dyskretny, czy ciągły? Jeśli dyskretny, to musi być ich skończenie wiele lub przeliczalnie wiele i powinniśmy im przypisać liczbowe prawdopodobieństwa. Jeśli ciągły, to muszą leżeć w przestrzeni ustalonego wymiaru i musimy na nich zdefiniować gęstość.\n",
    "* Czy rozkład brzegowy sumuje/całkuje się do 1? Jeśli nie, to gdzieś popełniliśmy błąd.\n",
    "* Czy rozkład brzegowy jest rozkładem mieszanym? Jeśli tak, to może lepiej zrobić inne zadanie..."
   ]
  },
  {
   "cell_type": "markdown",
   "metadata": {},
   "source": [
    "## Rozkład warunkowy\n",
    "\n",
    "Załóżmy, że mamy dany rozkład łączny $p$ na zmiennych $x_1$ i $x_2$. Możemy wtedy mówić o rozkładach warunkowych $p(x_1\\mid x_2)$ (i analogicznie $p(x_2\\mid x_1)$).\n",
    "\n",
    "Zapis $p(x_1\\mid x_2)$ jest zapisem skrótowym i oznacza on rozkład na __wszystkich możliwych__ $x_1$ przy __jednym ustalonym__ $x_2$. Dla różnych $x_2$ otrzymujemy __różne rozkłady warunkowe__ $p(x_1\\mid x_2)$. Formalnie mówiąc o jednym konkretnym $x_2$ powinniśmy np. ustalić $x_2 = b$ i napisać $p(x_1\\mid x_2=b)$.\n",
    "\n",
    "Formalna definicja:\n",
    "\n",
    "$p(x_1\\mid x_2=b) := \\dfrac{p(x_1, x_2=b)}{p(x_2=b)}$\n",
    "\n",
    "Po lewej stronie mamy funkcję zmiennej $x_1$ przy ustalonym $x_2$.\n",
    "\n",
    "Po prawej mamy dzielenie funkcji zmiennej $x_1$ przy ustalonym $x_2$ przez stałą wartość (zależną od $x_2$).\n",
    "\n",
    "Dzielenie jest konieczne, aby rozkład po lewej stronie był rozkładem, czyli sumował się do jedności. Czasem mówimy o tym dzieleniu \"normalizacja\".\n",
    "\n",
    "Rozkład $p(x_1\\mid x_2=b)$ rozumiemy następująco: wylosowaliśmy parę $(x_1, x_2)$ z rozkładu łącznego. Znamy wartość $x_2$ - w tym wypadku równą $b$. Chwilowo jeszcze nie znamy wartości $x_1$. Rozkład warunkowy to odpowiedź na pytanie \"Jaki jest __teraz__ rozkład na możliwych wartościach $x_1$?\".\n",
    "\n",
    "Innymi słowy, $p(x_1\\mid x_2=b)$ to nasza __wiedza__ (probabilistyczna, ale innej tak naprawdę nie ma!) na temat $x_1$, jeśli wiemy, że $x_2=b$ oraz znamy rozkład łączny.\n",
    "\n",
    "Rozkład warunkowy jest \"brakującym ogniwem\" pomiędzy rozkładem łącznym i brzegowym. To w nim znajdują się wszystkie pozostałe informacje. Możemy się o tym przekonać, zapisując rozkład łączny jako iloczyn:\n",
    "\n",
    "$p(x_1, x_2) = p(x_1\\mid x_2)p(x_2)$\n",
    "\n",
    "bardziej poprawnie:\n",
    "\n",
    "$p(x_1, x_2=b) = p(x_1\\mid x_2=b)p(x_2=b)$ dla dowolnego $b$.\n",
    "\n",
    "albo nawet:\n",
    "\n",
    "$p(x_1=a, x_2=b) = p(x_1=a\\mid x_2=b)p(x_2=b)$ dla dowolnych $a$ i $b$.\n",
    "\n",
    "I znowu - jeśli się to rozumie, to wzory są jasne. Jeśli się tego nie rozumie, to ciężko z samych wzorów zrozumieć subtelności pojawiające się przy dopisywaniu \"$=a$\" lub \"$=b$\". Zawsze trzeba się zastanowić:\n",
    "* na czym jest rozkład,\n",
    "* co jest zmienną,\n",
    "* co jest stałą.\n",
    "---\n",
    "### Zadanie (niepunktowane)\n",
    "\n",
    "* $p(x_1 = a_1, x_2 = b_1) = 0.2$\n",
    "* $p(x_1 = a_2, x_2 = b_1) = 0.3$\n",
    "* $p(x_1 = a_3, x_2 = b_1) = 0.1$\n",
    "* $p(x_1 = a_1, x_2 = b_2) = 0.05$\n",
    "* $p(x_1 = a_2, x_2 = b_2) = 0.25$\n",
    "* $p(x_1 = a_3, x_2 = b_2) = 0.1$\n",
    "\n",
    "Policzyć pięć rozkładów warunkowych (5 osób liczy jednocześnie przy tablicy).\n",
    "\n",
    "---\n",
    "### Zadanie (niepunktowane)\n",
    "\n",
    "![proba5](lab2/proba5.png)\n",
    "![proba6](lab2/proba6.png)\n",
    "![proba7](lab2/proba7.png)\n",
    "\n",
    "Wytłumaczyć rysunki. Narysować $p(x_1\\mid x_2=b_3)$. Zaznaczyć na rysunku $p(x_1=a_1\\mid x_2=b_3)$ i podać wartość liczbową.\n",
    "\n",
    "---\n",
    "### Zadanie (niepunktowane)\n",
    "\n",
    "Załóżmy, że znamy rozkład łączny i wylosowaliśmy parę $(x_1, x_2)$, ale tym razem __nie__ znamy wartości $x_2$. Jak wygląda nasza wiedza na temat $x_1$?\n",
    "\n",
    "Przypomnienie: wiedza == rozkład prawdopodobieńswa\n"
   ]
  }
 ],
 "metadata": {
  "kernelspec": {
   "display_name": "Python 3",
   "language": "python",
   "name": "python3"
  },
  "language_info": {
   "codemirror_mode": {
    "name": "ipython",
    "version": 3
   },
   "file_extension": ".py",
   "mimetype": "text/x-python",
   "name": "python",
   "nbconvert_exporter": "python",
   "pygments_lexer": "ipython3",
   "version": "3.6.2"
  }
 },
 "nbformat": 4,
 "nbformat_minor": 2
}
