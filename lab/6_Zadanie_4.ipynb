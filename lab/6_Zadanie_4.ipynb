{
 "cells": [
  {
   "cell_type": "markdown",
   "metadata": {
    "collapsed": true
   },
   "source": [
    "# Zadanie 4\n",
    "\n",
    "Zaimplementować klasę `BayesianLinearRegression`. Zakładamy najprostszy model: $y = a + bx + \\epsilon$, gdzie $x$ i $y$ są liczbami rzeczywistymi, $a$ i $b$ nieznanymi parametrami, a $\\epsilon$ losowym szumem.\n",
    "\n",
    "`__init__` przyjmuje trzy parametry:\n",
    "* `noise_distr` - instancja klasy, która modeluje rozkład prawdopodobieństwa szumu w modelu regresji liniowej (jak w notebooku 6a),\n",
    "* `params` - tablica o rozmiarze (liczba_modeli, 2), każdy jej wiersz to jedna potencjalna para $(a, b)$,\n",
    "* `prior` - tablica o rozmiarze (liczba_modeli,), rozkład a priori na parametrach `params`.\n",
    "\n",
    "Ponadto należy zaimplementować trzy metody:\n",
    "* `normalized_likelihood(obs_x, obs_y)` - `obs_x` i `obs_y` to tablice obserwacji o rozmiarze (liczba_obserwacji, 1), metoda ma zwrócić łączny znormalizowany likelihood wszystkich obserwacji w tablicy o rozmiarze (liczba_modeli,); _znormalizowany_ likelihood oznacza tu, że interesuje nas jedynie $p(y\\mid x)$, a nie $p(x, y)$, ponieważ $p(x)$ jest nieznane; ta metoda nie modyfikuje instancji estymatora,\n",
    "* `observe(obs_x, obs_y)` - metoda nic nie zwraca, ale ma za zadanie zmodyfikować aktualny rozkład a posteriori trzymany w instancji implementowanej klasy,\n",
    "* `conditional_ppd(x, y)` - `x` oraz `y` to tablice o rozmiarze (liczba_par_x_y, 1), metoda ma zwrócić aktualny Conditional Posterior Predictive Distribution (czyli $p(y\\mid x)$ dla każdej pary) w tablicy o rozmiarze (liczba_par_x_y,).\n",
    "\n",
    "Dostęp do aktualnego rozkładu a posteriori powinien odbywać się poprzez atrybut `posterior`, trzymana jest tam tablica o rozmiarze (liczba_modeli,).\n",
    "\n",
    "Klasa ma być zaimplementowana tak, aby metodę `observe` dało się wywoływać wielokrotnie w celu kontynuowania uczenia.\n",
    "\n",
    "Wszystkie obliczenia należy wykonać wprost, bez korzystania z gotowych wzorów na Bayesowską regresję liniową. Jedynym potrzebnym wzorem jest wzór Bayesa i wynikający z niego wzór na PPD.\n",
    "\n",
    "Rozwiązanie wymaga napisania około 20 linijek kodu."
   ]
  }
 ],
 "metadata": {
  "kernelspec": {
   "display_name": "Python 3",
   "language": "python",
   "name": "python3"
  },
  "language_info": {
   "codemirror_mode": {
    "name": "ipython",
    "version": 3
   },
   "file_extension": ".py",
   "mimetype": "text/x-python",
   "name": "python",
   "nbconvert_exporter": "python",
   "pygments_lexer": "ipython3",
   "version": "3.6.3"
  }
 },
 "nbformat": 4,
 "nbformat_minor": 2
}
